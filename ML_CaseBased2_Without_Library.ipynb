{
  "nbformat": 4,
  "nbformat_minor": 0,
  "metadata": {
    "colab": {
      "provenance": [],
      "toc_visible": true,
      "authorship_tag": "ABX9TyNsYUczF8EnEg/evtFVPSJA",
      "include_colab_link": true
    },
    "kernelspec": {
      "name": "python3",
      "display_name": "Python 3"
    },
    "language_info": {
      "name": "python"
    }
  },
  "cells": [
    {
      "cell_type": "markdown",
      "metadata": {
        "id": "view-in-github",
        "colab_type": "text"
      },
      "source": [
        "<a href=\"https://colab.research.google.com/github/fasyamp/ML_CaseBased2/blob/main/ML_CaseBased2_Without_Library.ipynb\" target=\"_parent\"><img src=\"https://colab.research.google.com/assets/colab-badge.svg\" alt=\"Open In Colab\"/></a>"
      ]
    },
    {
      "cell_type": "markdown",
      "source": [
        "Nama  : Raden Fasya Mazaya Putri\n",
        "\n",
        "NIM   : 1301200390\n",
        "\n",
        "Kelas : IF-44-03\n",
        "\n",
        "Mata Kuliah : Machine Learning"
      ],
      "metadata": {
        "id": "q4XZltRCT0fX"
      }
    },
    {
      "cell_type": "markdown",
      "source": [
        "\n",
        "\n",
        "---\n",
        "\n"
      ],
      "metadata": {
        "id": "ZpJtlz20UNl-"
      }
    },
    {
      "cell_type": "markdown",
      "source": [
        "**Clustering the Countries by using Unsupervised Learning for HELP International**"
      ],
      "metadata": {
        "id": "govVlYkVvytU"
      }
    },
    {
      "cell_type": "markdown",
      "source": [
        "**Tujuan**:\n",
        "Untuk mengkategorikan negara-negara dengan menggunakan faktor sosio-ekonomi dan kesehatan yang menentukan perkembangan negara secara keseluruhan."
      ],
      "metadata": {
        "id": "8_m2gXLav3Uh"
      }
    },
    {
      "cell_type": "markdown",
      "source": [
        "**Goals** : Meng-kategorikan negara-negara tersebut menggunakan beberapa faktor sosial-ekonomi dan kesehatan yang menentukan perkembangan negara secara keseluruhan. Kemudian menyarankan negara-negara yang paling perlu difokuskan oleh perusahaan."
      ],
      "metadata": {
        "id": "SAIjSem8v-lq"
      }
    },
    {
      "cell_type": "markdown",
      "source": [
        "# **Import Library**"
      ],
      "metadata": {
        "id": "3G7sGKNAjr2x"
      }
    },
    {
      "cell_type": "code",
      "execution_count": null,
      "metadata": {
        "id": "MLHphj3wqVzd"
      },
      "outputs": [],
      "source": [
        "import numpy as np\n",
        "import pandas as pd\n",
        "import seaborn as sns\n",
        "import matplotlib.pyplot as plt\n",
        "\n",
        "from sklearn.cluster import KMeans\n",
        "from sklearn.preprocessing import MinMaxScaler\n",
        "from matplotlib import style\n",
        "\n",
        "import warnings\n",
        "warnings.filterwarnings('ignore')"
      ]
    },
    {
      "cell_type": "markdown",
      "source": [
        "# **Import File**"
      ],
      "metadata": {
        "id": "LgCCl_jpjvV4"
      }
    },
    {
      "cell_type": "code",
      "source": [
        "countrydata = pd.read_csv('https://raw.githubusercontent.com/fasyamp/ML_CaseBased2/main/Country-data.csv')\n",
        "datadict = pd.read_csv('https://raw.githubusercontent.com/fasyamp/ML_CaseBased2/main/data-dictionary.csv')"
      ],
      "metadata": {
        "id": "oP1RgKapqXDS"
      },
      "execution_count": null,
      "outputs": []
    },
    {
      "cell_type": "markdown",
      "source": [
        "# **Isi dari file Data Dictionary**\n",
        "\n"
      ],
      "metadata": {
        "id": "p8NmmmhXxHBl"
      }
    },
    {
      "cell_type": "code",
      "source": [
        "# Menampilkan isi dari datadict\n",
        "for i in range(len(datadict['Column Name'])):\n",
        "    print(datadict['Column Name'][i],'\\n\\t',datadict['Description'][i])"
      ],
      "metadata": {
        "colab": {
          "base_uri": "https://localhost:8080/"
        },
        "id": "K9Eei6Ktw9A_",
        "outputId": "1d119d1c-bc9c-458e-aed7-efce06db0200"
      },
      "execution_count": null,
      "outputs": [
        {
          "output_type": "stream",
          "name": "stdout",
          "text": [
            "country \n",
            "\t Name of the country\n",
            "child_mort \n",
            "\t Death of children under 5 years of age per 1000 live births\n",
            "exports \n",
            "\t Exports of goods and services per capita. Given as %age of the GDP per capita\n",
            "health \n",
            "\t Total health spending per capita. Given as %age of GDP per capita\n",
            "imports \n",
            "\t Imports of goods and services per capita. Given as %age of the GDP per capita\n",
            "Income \n",
            "\t Net income per person\n",
            "Inflation \n",
            "\t The measurement of the annual growth rate of the Total GDP\n",
            "life_expec \n",
            "\t The average number of years a new born child would live if the current mortality patterns are to remain the same\n",
            "total_fer \n",
            "\t The number of children that would be born to each woman if the current age-fertility rates remain the same.\n",
            "gdpp \n",
            "\t The GDP per capita. Calculated as the Total GDP divided by the total population.\n"
          ]
        }
      ]
    },
    {
      "cell_type": "code",
      "source": [
        "# Menampilkan isi dari countrydata\n",
        "countrydata"
      ],
      "metadata": {
        "colab": {
          "base_uri": "https://localhost:8080/",
          "height": 424
        },
        "id": "Im8Ui_ypw1oV",
        "outputId": "8cc8fa21-9b2c-420e-e6d0-0af3deddaf11"
      },
      "execution_count": null,
      "outputs": [
        {
          "output_type": "execute_result",
          "data": {
            "text/plain": [
              "                 country  child_mort  exports  health  imports  income  \\\n",
              "0            Afghanistan        90.2     10.0    7.58     44.9    1610   \n",
              "1                Albania        16.6     28.0    6.55     48.6    9930   \n",
              "2                Algeria        27.3     38.4    4.17     31.4   12900   \n",
              "3                 Angola       119.0     62.3    2.85     42.9    5900   \n",
              "4    Antigua and Barbuda        10.3     45.5    6.03     58.9   19100   \n",
              "..                   ...         ...      ...     ...      ...     ...   \n",
              "162              Vanuatu        29.2     46.6    5.25     52.7    2950   \n",
              "163            Venezuela        17.1     28.5    4.91     17.6   16500   \n",
              "164              Vietnam        23.3     72.0    6.84     80.2    4490   \n",
              "165                Yemen        56.3     30.0    5.18     34.4    4480   \n",
              "166               Zambia        83.1     37.0    5.89     30.9    3280   \n",
              "\n",
              "     inflation  life_expec  total_fer   gdpp  \n",
              "0         9.44        56.2       5.82    553  \n",
              "1         4.49        76.3       1.65   4090  \n",
              "2        16.10        76.5       2.89   4460  \n",
              "3        22.40        60.1       6.16   3530  \n",
              "4         1.44        76.8       2.13  12200  \n",
              "..         ...         ...        ...    ...  \n",
              "162       2.62        63.0       3.50   2970  \n",
              "163      45.90        75.4       2.47  13500  \n",
              "164      12.10        73.1       1.95   1310  \n",
              "165      23.60        67.5       4.67   1310  \n",
              "166      14.00        52.0       5.40   1460  \n",
              "\n",
              "[167 rows x 10 columns]"
            ],
            "text/html": [
              "\n",
              "  <div id=\"df-1580ab6b-164b-482a-a208-ba3e32818e1d\">\n",
              "    <div class=\"colab-df-container\">\n",
              "      <div>\n",
              "<style scoped>\n",
              "    .dataframe tbody tr th:only-of-type {\n",
              "        vertical-align: middle;\n",
              "    }\n",
              "\n",
              "    .dataframe tbody tr th {\n",
              "        vertical-align: top;\n",
              "    }\n",
              "\n",
              "    .dataframe thead th {\n",
              "        text-align: right;\n",
              "    }\n",
              "</style>\n",
              "<table border=\"1\" class=\"dataframe\">\n",
              "  <thead>\n",
              "    <tr style=\"text-align: right;\">\n",
              "      <th></th>\n",
              "      <th>country</th>\n",
              "      <th>child_mort</th>\n",
              "      <th>exports</th>\n",
              "      <th>health</th>\n",
              "      <th>imports</th>\n",
              "      <th>income</th>\n",
              "      <th>inflation</th>\n",
              "      <th>life_expec</th>\n",
              "      <th>total_fer</th>\n",
              "      <th>gdpp</th>\n",
              "    </tr>\n",
              "  </thead>\n",
              "  <tbody>\n",
              "    <tr>\n",
              "      <th>0</th>\n",
              "      <td>Afghanistan</td>\n",
              "      <td>90.2</td>\n",
              "      <td>10.0</td>\n",
              "      <td>7.58</td>\n",
              "      <td>44.9</td>\n",
              "      <td>1610</td>\n",
              "      <td>9.44</td>\n",
              "      <td>56.2</td>\n",
              "      <td>5.82</td>\n",
              "      <td>553</td>\n",
              "    </tr>\n",
              "    <tr>\n",
              "      <th>1</th>\n",
              "      <td>Albania</td>\n",
              "      <td>16.6</td>\n",
              "      <td>28.0</td>\n",
              "      <td>6.55</td>\n",
              "      <td>48.6</td>\n",
              "      <td>9930</td>\n",
              "      <td>4.49</td>\n",
              "      <td>76.3</td>\n",
              "      <td>1.65</td>\n",
              "      <td>4090</td>\n",
              "    </tr>\n",
              "    <tr>\n",
              "      <th>2</th>\n",
              "      <td>Algeria</td>\n",
              "      <td>27.3</td>\n",
              "      <td>38.4</td>\n",
              "      <td>4.17</td>\n",
              "      <td>31.4</td>\n",
              "      <td>12900</td>\n",
              "      <td>16.10</td>\n",
              "      <td>76.5</td>\n",
              "      <td>2.89</td>\n",
              "      <td>4460</td>\n",
              "    </tr>\n",
              "    <tr>\n",
              "      <th>3</th>\n",
              "      <td>Angola</td>\n",
              "      <td>119.0</td>\n",
              "      <td>62.3</td>\n",
              "      <td>2.85</td>\n",
              "      <td>42.9</td>\n",
              "      <td>5900</td>\n",
              "      <td>22.40</td>\n",
              "      <td>60.1</td>\n",
              "      <td>6.16</td>\n",
              "      <td>3530</td>\n",
              "    </tr>\n",
              "    <tr>\n",
              "      <th>4</th>\n",
              "      <td>Antigua and Barbuda</td>\n",
              "      <td>10.3</td>\n",
              "      <td>45.5</td>\n",
              "      <td>6.03</td>\n",
              "      <td>58.9</td>\n",
              "      <td>19100</td>\n",
              "      <td>1.44</td>\n",
              "      <td>76.8</td>\n",
              "      <td>2.13</td>\n",
              "      <td>12200</td>\n",
              "    </tr>\n",
              "    <tr>\n",
              "      <th>...</th>\n",
              "      <td>...</td>\n",
              "      <td>...</td>\n",
              "      <td>...</td>\n",
              "      <td>...</td>\n",
              "      <td>...</td>\n",
              "      <td>...</td>\n",
              "      <td>...</td>\n",
              "      <td>...</td>\n",
              "      <td>...</td>\n",
              "      <td>...</td>\n",
              "    </tr>\n",
              "    <tr>\n",
              "      <th>162</th>\n",
              "      <td>Vanuatu</td>\n",
              "      <td>29.2</td>\n",
              "      <td>46.6</td>\n",
              "      <td>5.25</td>\n",
              "      <td>52.7</td>\n",
              "      <td>2950</td>\n",
              "      <td>2.62</td>\n",
              "      <td>63.0</td>\n",
              "      <td>3.50</td>\n",
              "      <td>2970</td>\n",
              "    </tr>\n",
              "    <tr>\n",
              "      <th>163</th>\n",
              "      <td>Venezuela</td>\n",
              "      <td>17.1</td>\n",
              "      <td>28.5</td>\n",
              "      <td>4.91</td>\n",
              "      <td>17.6</td>\n",
              "      <td>16500</td>\n",
              "      <td>45.90</td>\n",
              "      <td>75.4</td>\n",
              "      <td>2.47</td>\n",
              "      <td>13500</td>\n",
              "    </tr>\n",
              "    <tr>\n",
              "      <th>164</th>\n",
              "      <td>Vietnam</td>\n",
              "      <td>23.3</td>\n",
              "      <td>72.0</td>\n",
              "      <td>6.84</td>\n",
              "      <td>80.2</td>\n",
              "      <td>4490</td>\n",
              "      <td>12.10</td>\n",
              "      <td>73.1</td>\n",
              "      <td>1.95</td>\n",
              "      <td>1310</td>\n",
              "    </tr>\n",
              "    <tr>\n",
              "      <th>165</th>\n",
              "      <td>Yemen</td>\n",
              "      <td>56.3</td>\n",
              "      <td>30.0</td>\n",
              "      <td>5.18</td>\n",
              "      <td>34.4</td>\n",
              "      <td>4480</td>\n",
              "      <td>23.60</td>\n",
              "      <td>67.5</td>\n",
              "      <td>4.67</td>\n",
              "      <td>1310</td>\n",
              "    </tr>\n",
              "    <tr>\n",
              "      <th>166</th>\n",
              "      <td>Zambia</td>\n",
              "      <td>83.1</td>\n",
              "      <td>37.0</td>\n",
              "      <td>5.89</td>\n",
              "      <td>30.9</td>\n",
              "      <td>3280</td>\n",
              "      <td>14.00</td>\n",
              "      <td>52.0</td>\n",
              "      <td>5.40</td>\n",
              "      <td>1460</td>\n",
              "    </tr>\n",
              "  </tbody>\n",
              "</table>\n",
              "<p>167 rows × 10 columns</p>\n",
              "</div>\n",
              "      <button class=\"colab-df-convert\" onclick=\"convertToInteractive('df-1580ab6b-164b-482a-a208-ba3e32818e1d')\"\n",
              "              title=\"Convert this dataframe to an interactive table.\"\n",
              "              style=\"display:none;\">\n",
              "        \n",
              "  <svg xmlns=\"http://www.w3.org/2000/svg\" height=\"24px\"viewBox=\"0 0 24 24\"\n",
              "       width=\"24px\">\n",
              "    <path d=\"M0 0h24v24H0V0z\" fill=\"none\"/>\n",
              "    <path d=\"M18.56 5.44l.94 2.06.94-2.06 2.06-.94-2.06-.94-.94-2.06-.94 2.06-2.06.94zm-11 1L8.5 8.5l.94-2.06 2.06-.94-2.06-.94L8.5 2.5l-.94 2.06-2.06.94zm10 10l.94 2.06.94-2.06 2.06-.94-2.06-.94-.94-2.06-.94 2.06-2.06.94z\"/><path d=\"M17.41 7.96l-1.37-1.37c-.4-.4-.92-.59-1.43-.59-.52 0-1.04.2-1.43.59L10.3 9.45l-7.72 7.72c-.78.78-.78 2.05 0 2.83L4 21.41c.39.39.9.59 1.41.59.51 0 1.02-.2 1.41-.59l7.78-7.78 2.81-2.81c.8-.78.8-2.07 0-2.86zM5.41 20L4 18.59l7.72-7.72 1.47 1.35L5.41 20z\"/>\n",
              "  </svg>\n",
              "      </button>\n",
              "      \n",
              "  <style>\n",
              "    .colab-df-container {\n",
              "      display:flex;\n",
              "      flex-wrap:wrap;\n",
              "      gap: 12px;\n",
              "    }\n",
              "\n",
              "    .colab-df-convert {\n",
              "      background-color: #E8F0FE;\n",
              "      border: none;\n",
              "      border-radius: 50%;\n",
              "      cursor: pointer;\n",
              "      display: none;\n",
              "      fill: #1967D2;\n",
              "      height: 32px;\n",
              "      padding: 0 0 0 0;\n",
              "      width: 32px;\n",
              "    }\n",
              "\n",
              "    .colab-df-convert:hover {\n",
              "      background-color: #E2EBFA;\n",
              "      box-shadow: 0px 1px 2px rgba(60, 64, 67, 0.3), 0px 1px 3px 1px rgba(60, 64, 67, 0.15);\n",
              "      fill: #174EA6;\n",
              "    }\n",
              "\n",
              "    [theme=dark] .colab-df-convert {\n",
              "      background-color: #3B4455;\n",
              "      fill: #D2E3FC;\n",
              "    }\n",
              "\n",
              "    [theme=dark] .colab-df-convert:hover {\n",
              "      background-color: #434B5C;\n",
              "      box-shadow: 0px 1px 3px 1px rgba(0, 0, 0, 0.15);\n",
              "      filter: drop-shadow(0px 1px 2px rgba(0, 0, 0, 0.3));\n",
              "      fill: #FFFFFF;\n",
              "    }\n",
              "  </style>\n",
              "\n",
              "      <script>\n",
              "        const buttonEl =\n",
              "          document.querySelector('#df-1580ab6b-164b-482a-a208-ba3e32818e1d button.colab-df-convert');\n",
              "        buttonEl.style.display =\n",
              "          google.colab.kernel.accessAllowed ? 'block' : 'none';\n",
              "\n",
              "        async function convertToInteractive(key) {\n",
              "          const element = document.querySelector('#df-1580ab6b-164b-482a-a208-ba3e32818e1d');\n",
              "          const dataTable =\n",
              "            await google.colab.kernel.invokeFunction('convertToInteractive',\n",
              "                                                     [key], {});\n",
              "          if (!dataTable) return;\n",
              "\n",
              "          const docLinkHtml = 'Like what you see? Visit the ' +\n",
              "            '<a target=\"_blank\" href=https://colab.research.google.com/notebooks/data_table.ipynb>data table notebook</a>'\n",
              "            + ' to learn more about interactive tables.';\n",
              "          element.innerHTML = '';\n",
              "          dataTable['output_type'] = 'display_data';\n",
              "          await google.colab.output.renderOutput(dataTable, element);\n",
              "          const docLink = document.createElement('div');\n",
              "          docLink.innerHTML = docLinkHtml;\n",
              "          element.appendChild(docLink);\n",
              "        }\n",
              "      </script>\n",
              "    </div>\n",
              "  </div>\n",
              "  "
            ]
          },
          "metadata": {},
          "execution_count": 604
        }
      ]
    },
    {
      "cell_type": "markdown",
      "source": [
        "##**Info dari Country Data**"
      ],
      "metadata": {
        "id": "-XeuHY1zxr_O"
      }
    },
    {
      "cell_type": "code",
      "source": [
        "list(countrydata.columns)"
      ],
      "metadata": {
        "colab": {
          "base_uri": "https://localhost:8080/"
        },
        "id": "fPdNN_XoMR8i",
        "outputId": "517a6fb1-dc8b-4218-c683-72b7d5fb0b2b"
      },
      "execution_count": null,
      "outputs": [
        {
          "output_type": "execute_result",
          "data": {
            "text/plain": [
              "['country',\n",
              " 'child_mort',\n",
              " 'exports',\n",
              " 'health',\n",
              " 'imports',\n",
              " 'income',\n",
              " 'inflation',\n",
              " 'life_expec',\n",
              " 'total_fer',\n",
              " 'gdpp']"
            ]
          },
          "metadata": {},
          "execution_count": 605
        }
      ]
    },
    {
      "cell_type": "code",
      "source": [
        "countrydata.info()"
      ],
      "metadata": {
        "colab": {
          "base_uri": "https://localhost:8080/"
        },
        "id": "2wwTpBtNxPpr",
        "outputId": "455a0d64-7fb0-4fbb-984d-04f5abe4c022"
      },
      "execution_count": null,
      "outputs": [
        {
          "output_type": "stream",
          "name": "stdout",
          "text": [
            "<class 'pandas.core.frame.DataFrame'>\n",
            "RangeIndex: 167 entries, 0 to 166\n",
            "Data columns (total 10 columns):\n",
            " #   Column      Non-Null Count  Dtype  \n",
            "---  ------      --------------  -----  \n",
            " 0   country     167 non-null    object \n",
            " 1   child_mort  167 non-null    float64\n",
            " 2   exports     167 non-null    float64\n",
            " 3   health      167 non-null    float64\n",
            " 4   imports     167 non-null    float64\n",
            " 5   income      167 non-null    int64  \n",
            " 6   inflation   167 non-null    float64\n",
            " 7   life_expec  167 non-null    float64\n",
            " 8   total_fer   167 non-null    float64\n",
            " 9   gdpp        167 non-null    int64  \n",
            "dtypes: float64(7), int64(2), object(1)\n",
            "memory usage: 13.2+ KB\n"
          ]
        }
      ]
    },
    {
      "cell_type": "code",
      "source": [
        "countrydata.describe()"
      ],
      "metadata": {
        "colab": {
          "base_uri": "https://localhost:8080/",
          "height": 300
        },
        "id": "E7c6hyd6xpVU",
        "outputId": "2ecfaaef-3a23-4ecc-f4f4-67611589de40"
      },
      "execution_count": null,
      "outputs": [
        {
          "output_type": "execute_result",
          "data": {
            "text/plain": [
              "       child_mort     exports      health     imports         income  \\\n",
              "count  167.000000  167.000000  167.000000  167.000000     167.000000   \n",
              "mean    38.270060   41.108976    6.815689   46.890215   17144.688623   \n",
              "std     40.328931   27.412010    2.746837   24.209589   19278.067698   \n",
              "min      2.600000    0.109000    1.810000    0.065900     609.000000   \n",
              "25%      8.250000   23.800000    4.920000   30.200000    3355.000000   \n",
              "50%     19.300000   35.000000    6.320000   43.300000    9960.000000   \n",
              "75%     62.100000   51.350000    8.600000   58.750000   22800.000000   \n",
              "max    208.000000  200.000000   17.900000  174.000000  125000.000000   \n",
              "\n",
              "        inflation  life_expec   total_fer           gdpp  \n",
              "count  167.000000  167.000000  167.000000     167.000000  \n",
              "mean     7.781832   70.555689    2.947964   12964.155689  \n",
              "std     10.570704    8.893172    1.513848   18328.704809  \n",
              "min     -4.210000   32.100000    1.150000     231.000000  \n",
              "25%      1.810000   65.300000    1.795000    1330.000000  \n",
              "50%      5.390000   73.100000    2.410000    4660.000000  \n",
              "75%     10.750000   76.800000    3.880000   14050.000000  \n",
              "max    104.000000   82.800000    7.490000  105000.000000  "
            ],
            "text/html": [
              "\n",
              "  <div id=\"df-2069350e-538b-46f3-b028-0f1154453785\">\n",
              "    <div class=\"colab-df-container\">\n",
              "      <div>\n",
              "<style scoped>\n",
              "    .dataframe tbody tr th:only-of-type {\n",
              "        vertical-align: middle;\n",
              "    }\n",
              "\n",
              "    .dataframe tbody tr th {\n",
              "        vertical-align: top;\n",
              "    }\n",
              "\n",
              "    .dataframe thead th {\n",
              "        text-align: right;\n",
              "    }\n",
              "</style>\n",
              "<table border=\"1\" class=\"dataframe\">\n",
              "  <thead>\n",
              "    <tr style=\"text-align: right;\">\n",
              "      <th></th>\n",
              "      <th>child_mort</th>\n",
              "      <th>exports</th>\n",
              "      <th>health</th>\n",
              "      <th>imports</th>\n",
              "      <th>income</th>\n",
              "      <th>inflation</th>\n",
              "      <th>life_expec</th>\n",
              "      <th>total_fer</th>\n",
              "      <th>gdpp</th>\n",
              "    </tr>\n",
              "  </thead>\n",
              "  <tbody>\n",
              "    <tr>\n",
              "      <th>count</th>\n",
              "      <td>167.000000</td>\n",
              "      <td>167.000000</td>\n",
              "      <td>167.000000</td>\n",
              "      <td>167.000000</td>\n",
              "      <td>167.000000</td>\n",
              "      <td>167.000000</td>\n",
              "      <td>167.000000</td>\n",
              "      <td>167.000000</td>\n",
              "      <td>167.000000</td>\n",
              "    </tr>\n",
              "    <tr>\n",
              "      <th>mean</th>\n",
              "      <td>38.270060</td>\n",
              "      <td>41.108976</td>\n",
              "      <td>6.815689</td>\n",
              "      <td>46.890215</td>\n",
              "      <td>17144.688623</td>\n",
              "      <td>7.781832</td>\n",
              "      <td>70.555689</td>\n",
              "      <td>2.947964</td>\n",
              "      <td>12964.155689</td>\n",
              "    </tr>\n",
              "    <tr>\n",
              "      <th>std</th>\n",
              "      <td>40.328931</td>\n",
              "      <td>27.412010</td>\n",
              "      <td>2.746837</td>\n",
              "      <td>24.209589</td>\n",
              "      <td>19278.067698</td>\n",
              "      <td>10.570704</td>\n",
              "      <td>8.893172</td>\n",
              "      <td>1.513848</td>\n",
              "      <td>18328.704809</td>\n",
              "    </tr>\n",
              "    <tr>\n",
              "      <th>min</th>\n",
              "      <td>2.600000</td>\n",
              "      <td>0.109000</td>\n",
              "      <td>1.810000</td>\n",
              "      <td>0.065900</td>\n",
              "      <td>609.000000</td>\n",
              "      <td>-4.210000</td>\n",
              "      <td>32.100000</td>\n",
              "      <td>1.150000</td>\n",
              "      <td>231.000000</td>\n",
              "    </tr>\n",
              "    <tr>\n",
              "      <th>25%</th>\n",
              "      <td>8.250000</td>\n",
              "      <td>23.800000</td>\n",
              "      <td>4.920000</td>\n",
              "      <td>30.200000</td>\n",
              "      <td>3355.000000</td>\n",
              "      <td>1.810000</td>\n",
              "      <td>65.300000</td>\n",
              "      <td>1.795000</td>\n",
              "      <td>1330.000000</td>\n",
              "    </tr>\n",
              "    <tr>\n",
              "      <th>50%</th>\n",
              "      <td>19.300000</td>\n",
              "      <td>35.000000</td>\n",
              "      <td>6.320000</td>\n",
              "      <td>43.300000</td>\n",
              "      <td>9960.000000</td>\n",
              "      <td>5.390000</td>\n",
              "      <td>73.100000</td>\n",
              "      <td>2.410000</td>\n",
              "      <td>4660.000000</td>\n",
              "    </tr>\n",
              "    <tr>\n",
              "      <th>75%</th>\n",
              "      <td>62.100000</td>\n",
              "      <td>51.350000</td>\n",
              "      <td>8.600000</td>\n",
              "      <td>58.750000</td>\n",
              "      <td>22800.000000</td>\n",
              "      <td>10.750000</td>\n",
              "      <td>76.800000</td>\n",
              "      <td>3.880000</td>\n",
              "      <td>14050.000000</td>\n",
              "    </tr>\n",
              "    <tr>\n",
              "      <th>max</th>\n",
              "      <td>208.000000</td>\n",
              "      <td>200.000000</td>\n",
              "      <td>17.900000</td>\n",
              "      <td>174.000000</td>\n",
              "      <td>125000.000000</td>\n",
              "      <td>104.000000</td>\n",
              "      <td>82.800000</td>\n",
              "      <td>7.490000</td>\n",
              "      <td>105000.000000</td>\n",
              "    </tr>\n",
              "  </tbody>\n",
              "</table>\n",
              "</div>\n",
              "      <button class=\"colab-df-convert\" onclick=\"convertToInteractive('df-2069350e-538b-46f3-b028-0f1154453785')\"\n",
              "              title=\"Convert this dataframe to an interactive table.\"\n",
              "              style=\"display:none;\">\n",
              "        \n",
              "  <svg xmlns=\"http://www.w3.org/2000/svg\" height=\"24px\"viewBox=\"0 0 24 24\"\n",
              "       width=\"24px\">\n",
              "    <path d=\"M0 0h24v24H0V0z\" fill=\"none\"/>\n",
              "    <path d=\"M18.56 5.44l.94 2.06.94-2.06 2.06-.94-2.06-.94-.94-2.06-.94 2.06-2.06.94zm-11 1L8.5 8.5l.94-2.06 2.06-.94-2.06-.94L8.5 2.5l-.94 2.06-2.06.94zm10 10l.94 2.06.94-2.06 2.06-.94-2.06-.94-.94-2.06-.94 2.06-2.06.94z\"/><path d=\"M17.41 7.96l-1.37-1.37c-.4-.4-.92-.59-1.43-.59-.52 0-1.04.2-1.43.59L10.3 9.45l-7.72 7.72c-.78.78-.78 2.05 0 2.83L4 21.41c.39.39.9.59 1.41.59.51 0 1.02-.2 1.41-.59l7.78-7.78 2.81-2.81c.8-.78.8-2.07 0-2.86zM5.41 20L4 18.59l7.72-7.72 1.47 1.35L5.41 20z\"/>\n",
              "  </svg>\n",
              "      </button>\n",
              "      \n",
              "  <style>\n",
              "    .colab-df-container {\n",
              "      display:flex;\n",
              "      flex-wrap:wrap;\n",
              "      gap: 12px;\n",
              "    }\n",
              "\n",
              "    .colab-df-convert {\n",
              "      background-color: #E8F0FE;\n",
              "      border: none;\n",
              "      border-radius: 50%;\n",
              "      cursor: pointer;\n",
              "      display: none;\n",
              "      fill: #1967D2;\n",
              "      height: 32px;\n",
              "      padding: 0 0 0 0;\n",
              "      width: 32px;\n",
              "    }\n",
              "\n",
              "    .colab-df-convert:hover {\n",
              "      background-color: #E2EBFA;\n",
              "      box-shadow: 0px 1px 2px rgba(60, 64, 67, 0.3), 0px 1px 3px 1px rgba(60, 64, 67, 0.15);\n",
              "      fill: #174EA6;\n",
              "    }\n",
              "\n",
              "    [theme=dark] .colab-df-convert {\n",
              "      background-color: #3B4455;\n",
              "      fill: #D2E3FC;\n",
              "    }\n",
              "\n",
              "    [theme=dark] .colab-df-convert:hover {\n",
              "      background-color: #434B5C;\n",
              "      box-shadow: 0px 1px 3px 1px rgba(0, 0, 0, 0.15);\n",
              "      filter: drop-shadow(0px 1px 2px rgba(0, 0, 0, 0.3));\n",
              "      fill: #FFFFFF;\n",
              "    }\n",
              "  </style>\n",
              "\n",
              "      <script>\n",
              "        const buttonEl =\n",
              "          document.querySelector('#df-2069350e-538b-46f3-b028-0f1154453785 button.colab-df-convert');\n",
              "        buttonEl.style.display =\n",
              "          google.colab.kernel.accessAllowed ? 'block' : 'none';\n",
              "\n",
              "        async function convertToInteractive(key) {\n",
              "          const element = document.querySelector('#df-2069350e-538b-46f3-b028-0f1154453785');\n",
              "          const dataTable =\n",
              "            await google.colab.kernel.invokeFunction('convertToInteractive',\n",
              "                                                     [key], {});\n",
              "          if (!dataTable) return;\n",
              "\n",
              "          const docLinkHtml = 'Like what you see? Visit the ' +\n",
              "            '<a target=\"_blank\" href=https://colab.research.google.com/notebooks/data_table.ipynb>data table notebook</a>'\n",
              "            + ' to learn more about interactive tables.';\n",
              "          element.innerHTML = '';\n",
              "          dataTable['output_type'] = 'display_data';\n",
              "          await google.colab.output.renderOutput(dataTable, element);\n",
              "          const docLink = document.createElement('div');\n",
              "          docLink.innerHTML = docLinkHtml;\n",
              "          element.appendChild(docLink);\n",
              "        }\n",
              "      </script>\n",
              "    </div>\n",
              "  </div>\n",
              "  "
            ]
          },
          "metadata": {},
          "execution_count": 607
        }
      ]
    },
    {
      "cell_type": "markdown",
      "source": [
        "#**Preprocessing**\n",
        "Pada tahap ini dilakukan pengolahan data agar data tersebut siap untuk diolah lebih dalam."
      ],
      "metadata": {
        "id": "F61BJoHM53AD"
      }
    },
    {
      "cell_type": "code",
      "source": [
        "# Cek apakah terdapat data 0\n",
        "countrydata.isna().sum()"
      ],
      "metadata": {
        "colab": {
          "base_uri": "https://localhost:8080/"
        },
        "id": "FdmeYWHpx_ho",
        "outputId": "c0d147b6-6c47-48c4-fc61-3fd24312582b"
      },
      "execution_count": null,
      "outputs": [
        {
          "output_type": "execute_result",
          "data": {
            "text/plain": [
              "country       0\n",
              "child_mort    0\n",
              "exports       0\n",
              "health        0\n",
              "imports       0\n",
              "income        0\n",
              "inflation     0\n",
              "life_expec    0\n",
              "total_fer     0\n",
              "gdpp          0\n",
              "dtype: int64"
            ]
          },
          "metadata": {},
          "execution_count": 608
        }
      ]
    },
    {
      "cell_type": "code",
      "source": [
        "data = countrydata.drop(['country'],axis=1)"
      ],
      "metadata": {
        "id": "QFYwCAgpq4Li"
      },
      "execution_count": null,
      "outputs": []
    },
    {
      "cell_type": "code",
      "source": [
        "data.head()"
      ],
      "metadata": {
        "colab": {
          "base_uri": "https://localhost:8080/",
          "height": 206
        },
        "id": "iu6K-5KYoPvj",
        "outputId": "5828b2f0-eab8-420d-8444-7f67f6347c36"
      },
      "execution_count": null,
      "outputs": [
        {
          "output_type": "execute_result",
          "data": {
            "text/plain": [
              "   child_mort  exports  health  imports  income  inflation  life_expec  \\\n",
              "0        90.2     10.0    7.58     44.9    1610       9.44        56.2   \n",
              "1        16.6     28.0    6.55     48.6    9930       4.49        76.3   \n",
              "2        27.3     38.4    4.17     31.4   12900      16.10        76.5   \n",
              "3       119.0     62.3    2.85     42.9    5900      22.40        60.1   \n",
              "4        10.3     45.5    6.03     58.9   19100       1.44        76.8   \n",
              "\n",
              "   total_fer   gdpp  \n",
              "0       5.82    553  \n",
              "1       1.65   4090  \n",
              "2       2.89   4460  \n",
              "3       6.16   3530  \n",
              "4       2.13  12200  "
            ],
            "text/html": [
              "\n",
              "  <div id=\"df-db7e573c-7268-46d0-8efb-0cf32babf8f2\">\n",
              "    <div class=\"colab-df-container\">\n",
              "      <div>\n",
              "<style scoped>\n",
              "    .dataframe tbody tr th:only-of-type {\n",
              "        vertical-align: middle;\n",
              "    }\n",
              "\n",
              "    .dataframe tbody tr th {\n",
              "        vertical-align: top;\n",
              "    }\n",
              "\n",
              "    .dataframe thead th {\n",
              "        text-align: right;\n",
              "    }\n",
              "</style>\n",
              "<table border=\"1\" class=\"dataframe\">\n",
              "  <thead>\n",
              "    <tr style=\"text-align: right;\">\n",
              "      <th></th>\n",
              "      <th>child_mort</th>\n",
              "      <th>exports</th>\n",
              "      <th>health</th>\n",
              "      <th>imports</th>\n",
              "      <th>income</th>\n",
              "      <th>inflation</th>\n",
              "      <th>life_expec</th>\n",
              "      <th>total_fer</th>\n",
              "      <th>gdpp</th>\n",
              "    </tr>\n",
              "  </thead>\n",
              "  <tbody>\n",
              "    <tr>\n",
              "      <th>0</th>\n",
              "      <td>90.2</td>\n",
              "      <td>10.0</td>\n",
              "      <td>7.58</td>\n",
              "      <td>44.9</td>\n",
              "      <td>1610</td>\n",
              "      <td>9.44</td>\n",
              "      <td>56.2</td>\n",
              "      <td>5.82</td>\n",
              "      <td>553</td>\n",
              "    </tr>\n",
              "    <tr>\n",
              "      <th>1</th>\n",
              "      <td>16.6</td>\n",
              "      <td>28.0</td>\n",
              "      <td>6.55</td>\n",
              "      <td>48.6</td>\n",
              "      <td>9930</td>\n",
              "      <td>4.49</td>\n",
              "      <td>76.3</td>\n",
              "      <td>1.65</td>\n",
              "      <td>4090</td>\n",
              "    </tr>\n",
              "    <tr>\n",
              "      <th>2</th>\n",
              "      <td>27.3</td>\n",
              "      <td>38.4</td>\n",
              "      <td>4.17</td>\n",
              "      <td>31.4</td>\n",
              "      <td>12900</td>\n",
              "      <td>16.10</td>\n",
              "      <td>76.5</td>\n",
              "      <td>2.89</td>\n",
              "      <td>4460</td>\n",
              "    </tr>\n",
              "    <tr>\n",
              "      <th>3</th>\n",
              "      <td>119.0</td>\n",
              "      <td>62.3</td>\n",
              "      <td>2.85</td>\n",
              "      <td>42.9</td>\n",
              "      <td>5900</td>\n",
              "      <td>22.40</td>\n",
              "      <td>60.1</td>\n",
              "      <td>6.16</td>\n",
              "      <td>3530</td>\n",
              "    </tr>\n",
              "    <tr>\n",
              "      <th>4</th>\n",
              "      <td>10.3</td>\n",
              "      <td>45.5</td>\n",
              "      <td>6.03</td>\n",
              "      <td>58.9</td>\n",
              "      <td>19100</td>\n",
              "      <td>1.44</td>\n",
              "      <td>76.8</td>\n",
              "      <td>2.13</td>\n",
              "      <td>12200</td>\n",
              "    </tr>\n",
              "  </tbody>\n",
              "</table>\n",
              "</div>\n",
              "      <button class=\"colab-df-convert\" onclick=\"convertToInteractive('df-db7e573c-7268-46d0-8efb-0cf32babf8f2')\"\n",
              "              title=\"Convert this dataframe to an interactive table.\"\n",
              "              style=\"display:none;\">\n",
              "        \n",
              "  <svg xmlns=\"http://www.w3.org/2000/svg\" height=\"24px\"viewBox=\"0 0 24 24\"\n",
              "       width=\"24px\">\n",
              "    <path d=\"M0 0h24v24H0V0z\" fill=\"none\"/>\n",
              "    <path d=\"M18.56 5.44l.94 2.06.94-2.06 2.06-.94-2.06-.94-.94-2.06-.94 2.06-2.06.94zm-11 1L8.5 8.5l.94-2.06 2.06-.94-2.06-.94L8.5 2.5l-.94 2.06-2.06.94zm10 10l.94 2.06.94-2.06 2.06-.94-2.06-.94-.94-2.06-.94 2.06-2.06.94z\"/><path d=\"M17.41 7.96l-1.37-1.37c-.4-.4-.92-.59-1.43-.59-.52 0-1.04.2-1.43.59L10.3 9.45l-7.72 7.72c-.78.78-.78 2.05 0 2.83L4 21.41c.39.39.9.59 1.41.59.51 0 1.02-.2 1.41-.59l7.78-7.78 2.81-2.81c.8-.78.8-2.07 0-2.86zM5.41 20L4 18.59l7.72-7.72 1.47 1.35L5.41 20z\"/>\n",
              "  </svg>\n",
              "      </button>\n",
              "      \n",
              "  <style>\n",
              "    .colab-df-container {\n",
              "      display:flex;\n",
              "      flex-wrap:wrap;\n",
              "      gap: 12px;\n",
              "    }\n",
              "\n",
              "    .colab-df-convert {\n",
              "      background-color: #E8F0FE;\n",
              "      border: none;\n",
              "      border-radius: 50%;\n",
              "      cursor: pointer;\n",
              "      display: none;\n",
              "      fill: #1967D2;\n",
              "      height: 32px;\n",
              "      padding: 0 0 0 0;\n",
              "      width: 32px;\n",
              "    }\n",
              "\n",
              "    .colab-df-convert:hover {\n",
              "      background-color: #E2EBFA;\n",
              "      box-shadow: 0px 1px 2px rgba(60, 64, 67, 0.3), 0px 1px 3px 1px rgba(60, 64, 67, 0.15);\n",
              "      fill: #174EA6;\n",
              "    }\n",
              "\n",
              "    [theme=dark] .colab-df-convert {\n",
              "      background-color: #3B4455;\n",
              "      fill: #D2E3FC;\n",
              "    }\n",
              "\n",
              "    [theme=dark] .colab-df-convert:hover {\n",
              "      background-color: #434B5C;\n",
              "      box-shadow: 0px 1px 3px 1px rgba(0, 0, 0, 0.15);\n",
              "      filter: drop-shadow(0px 1px 2px rgba(0, 0, 0, 0.3));\n",
              "      fill: #FFFFFF;\n",
              "    }\n",
              "  </style>\n",
              "\n",
              "      <script>\n",
              "        const buttonEl =\n",
              "          document.querySelector('#df-db7e573c-7268-46d0-8efb-0cf32babf8f2 button.colab-df-convert');\n",
              "        buttonEl.style.display =\n",
              "          google.colab.kernel.accessAllowed ? 'block' : 'none';\n",
              "\n",
              "        async function convertToInteractive(key) {\n",
              "          const element = document.querySelector('#df-db7e573c-7268-46d0-8efb-0cf32babf8f2');\n",
              "          const dataTable =\n",
              "            await google.colab.kernel.invokeFunction('convertToInteractive',\n",
              "                                                     [key], {});\n",
              "          if (!dataTable) return;\n",
              "\n",
              "          const docLinkHtml = 'Like what you see? Visit the ' +\n",
              "            '<a target=\"_blank\" href=https://colab.research.google.com/notebooks/data_table.ipynb>data table notebook</a>'\n",
              "            + ' to learn more about interactive tables.';\n",
              "          element.innerHTML = '';\n",
              "          dataTable['output_type'] = 'display_data';\n",
              "          await google.colab.output.renderOutput(dataTable, element);\n",
              "          const docLink = document.createElement('div');\n",
              "          docLink.innerHTML = docLinkHtml;\n",
              "          element.appendChild(docLink);\n",
              "        }\n",
              "      </script>\n",
              "    </div>\n",
              "  </div>\n",
              "  "
            ]
          },
          "metadata": {},
          "execution_count": 610
        }
      ]
    },
    {
      "cell_type": "code",
      "source": [
        "# Korelasi Antar Data\n",
        "plt.figure(figsize=(10,7))\n",
        "sns.heatmap(data.corr(method='pearson', min_periods=1),annot=True)"
      ],
      "metadata": {
        "colab": {
          "base_uri": "https://localhost:8080/",
          "height": 540
        },
        "id": "ShynTs190ovA",
        "outputId": "75aab728-6b88-4def-f3c4-7f8aaa5f3b0b"
      },
      "execution_count": null,
      "outputs": [
        {
          "output_type": "execute_result",
          "data": {
            "text/plain": [
              "<matplotlib.axes._subplots.AxesSubplot at 0x7f38227fb340>"
            ]
          },
          "metadata": {},
          "execution_count": 611
        },
        {
          "output_type": "display_data",
          "data": {
            "text/plain": [
              "<Figure size 720x504 with 2 Axes>"
            ],
            "image/png": "[encoded data removed]"
          },
          "metadata": {}
        }
      ]
    },
    {
      "cell_type": "code",
      "source": [
        "#Box Plotting\n",
        "fig, ax = plt.subplots(3, 3, figsize=(15, 15))\n",
        "bp=sns.boxplot(y=data.child_mort,ax=ax[0, 0])\n",
        "ax[0, 0].set_title('Child Mortality Rate')\n",
        "s=sns.boxplot(y=data.exports,ax=ax[0,1])\n",
        "ax[0, 1].set_title('Exports')\n",
        "bp=sns.boxplot(y=data.health,ax=ax[0, 2])\n",
        "ax[0, 2].set_title('Health')\n",
        "bp=sns.boxplot(y=data.income,ax=ax[1, 0])\n",
        "ax[1, 0].set_title('Income per Person')\n",
        "bp=sns.boxplot(y=data.inflation,ax=ax[1, 1])\n",
        "ax[1, 1].set_title('Inflation')\n",
        "bp=sns.boxplot(y=data.imports,ax=ax[1,2])\n",
        "ax[1, 2].set_title('Imports')\n",
        "s=sns.boxplot(y=data.life_expec,ax=ax[2, 0])\n",
        "ax[2, 0].set_title('Life Expectancy')\n",
        "s=sns.boxplot(y=data.total_fer,ax=ax[2,1])\n",
        "ax[2, 1].set_title('Total Fertility')\n",
        "s=sns.boxplot(y=data.gdpp,ax=ax[2, 2])\n",
        "ax[2, 2].set_title('GDP per Capita')\n",
        "\n",
        "plt.show()"
      ],
      "metadata": {
        "colab": {
          "base_uri": "https://localhost:8080/",
          "height": 933
        },
        "id": "M0W2S34muCQ5",
        "outputId": "dfd57d01-a5dd-4e0e-91c3-3d7e9e1d1718"
      },
      "execution_count": null,
      "outputs": [
        {
          "output_type": "display_data",
          "data": {
            "text/plain": [
              "<Figure size 1080x1080 with 9 Axes>"
            ],
            "image/png": "[encoded data removed]"
          },
          "metadata": {}
        }
      ]
    },
    {
      "cell_type": "markdown",
      "source": [
        "##**Scalling**"
      ],
      "metadata": {
        "id": "Jx6niw271isu"
      }
    },
    {
      "cell_type": "code",
      "source": [
        "# columns argument ==> akan digunakan pada saat ubah data ke dataframe\n",
        "columns = data.columns\n",
        "\n",
        "# Melakukan scalling menggunakan MinMaxScaller\n",
        "scaler = MinMaxScaler()\n",
        "\n",
        "# 'scaler' adalah teknik scalling, 'fit' function untuk menemukan nilai min dan max, 'transform' function mengaplikasikan formula ke semua elemen dalam data\n",
        "rescaled_data = scaler.fit_transform(data)\n",
        "rescaled_data"
      ],
      "metadata": {
        "colab": {
          "base_uri": "https://localhost:8080/"
        },
        "id": "IGA2hVW75-TZ",
        "outputId": "c466ff82-15ee-4582-ba9b-a83af5eb2a10"
      },
      "execution_count": null,
      "outputs": [
        {
          "output_type": "execute_result",
          "data": {
            "text/plain": [
              "array([[0.42648491, 0.04948197, 0.35860783, ..., 0.47534517, 0.73659306,\n",
              "        0.00307343],\n",
              "       [0.06815969, 0.13953104, 0.29459291, ..., 0.87179487, 0.07886435,\n",
              "        0.03683341],\n",
              "       [0.12025316, 0.1915594 , 0.14667495, ..., 0.87573964, 0.27444795,\n",
              "        0.04036499],\n",
              "       ...,\n",
              "       [0.10077897, 0.35965101, 0.31261653, ..., 0.8086785 , 0.12618297,\n",
              "        0.01029885],\n",
              "       [0.26144109, 0.1495365 , 0.20944686, ..., 0.69822485, 0.55520505,\n",
              "        0.01029885],\n",
              "       [0.39191821, 0.18455558, 0.25357365, ..., 0.39250493, 0.670347  ,\n",
              "        0.01173057]])"
            ]
          },
          "metadata": {},
          "execution_count": 613
        }
      ]
    },
    {
      "cell_type": "code",
      "source": [
        "#Ubah kembali menjadi DataFrame\n",
        "\n",
        "data_minmax = pd.DataFrame(data= rescaled_data , columns = columns)\n",
        "data_minmax"
      ],
      "metadata": {
        "colab": {
          "base_uri": "https://localhost:8080/",
          "height": 424
        },
        "id": "O4jNbc5v5_rE",
        "outputId": "1f28b287-de18-4588-bf71-585ae3e733a9"
      },
      "execution_count": null,
      "outputs": [
        {
          "output_type": "execute_result",
          "data": {
            "text/plain": [
              "     child_mort   exports    health   imports    income  inflation  \\\n",
              "0      0.426485  0.049482  0.358608  0.257765  0.008047   0.126144   \n",
              "1      0.068160  0.139531  0.294593  0.279037  0.074933   0.080399   \n",
              "2      0.120253  0.191559  0.146675  0.180149  0.098809   0.187691   \n",
              "3      0.566699  0.311125  0.064636  0.246266  0.042535   0.245911   \n",
              "4      0.037488  0.227079  0.262275  0.338255  0.148652   0.052213   \n",
              "..          ...       ...       ...       ...       ...        ...   \n",
              "162    0.129503  0.232582  0.213797  0.302609  0.018820   0.063118   \n",
              "163    0.070594  0.142032  0.192666  0.100809  0.127750   0.463081   \n",
              "164    0.100779  0.359651  0.312617  0.460715  0.031200   0.150725   \n",
              "165    0.261441  0.149536  0.209447  0.197397  0.031120   0.257000   \n",
              "166    0.391918  0.184556  0.253574  0.177275  0.021473   0.168284   \n",
              "\n",
              "     life_expec  total_fer      gdpp  \n",
              "0      0.475345   0.736593  0.003073  \n",
              "1      0.871795   0.078864  0.036833  \n",
              "2      0.875740   0.274448  0.040365  \n",
              "3      0.552268   0.790221  0.031488  \n",
              "4      0.881657   0.154574  0.114242  \n",
              "..          ...        ...       ...  \n",
              "162    0.609467   0.370662  0.026143  \n",
              "163    0.854043   0.208202  0.126650  \n",
              "164    0.808679   0.126183  0.010299  \n",
              "165    0.698225   0.555205  0.010299  \n",
              "166    0.392505   0.670347  0.011731  \n",
              "\n",
              "[167 rows x 9 columns]"
            ],
            "text/html": [
              "\n",
              "  <div id=\"df-063bc761-eada-407f-9dd8-d401639e763e\">\n",
              "    <div class=\"colab-df-container\">\n",
              "      <div>\n",
              "<style scoped>\n",
              "    .dataframe tbody tr th:only-of-type {\n",
              "        vertical-align: middle;\n",
              "    }\n",
              "\n",
              "    .dataframe tbody tr th {\n",
              "        vertical-align: top;\n",
              "    }\n",
              "\n",
              "    .dataframe thead th {\n",
              "        text-align: right;\n",
              "    }\n",
              "</style>\n",
              "<table border=\"1\" class=\"dataframe\">\n",
              "  <thead>\n",
              "    <tr style=\"text-align: right;\">\n",
              "      <th></th>\n",
              "      <th>child_mort</th>\n",
              "      <th>exports</th>\n",
              "      <th>health</th>\n",
              "      <th>imports</th>\n",
              "      <th>income</th>\n",
              "      <th>inflation</th>\n",
              "      <th>life_expec</th>\n",
              "      <th>total_fer</th>\n",
              "      <th>gdpp</th>\n",
              "    </tr>\n",
              "  </thead>\n",
              "  <tbody>\n",
              "    <tr>\n",
              "      <th>0</th>\n",
              "      <td>0.426485</td>\n",
              "      <td>0.049482</td>\n",
              "      <td>0.358608</td>\n",
              "      <td>0.257765</td>\n",
              "      <td>0.008047</td>\n",
              "      <td>0.126144</td>\n",
              "      <td>0.475345</td>\n",
              "      <td>0.736593</td>\n",
              "      <td>0.003073</td>\n",
              "    </tr>\n",
              "    <tr>\n",
              "      <th>1</th>\n",
              "      <td>0.068160</td>\n",
              "      <td>0.139531</td>\n",
              "      <td>0.294593</td>\n",
              "      <td>0.279037</td>\n",
              "      <td>0.074933</td>\n",
              "      <td>0.080399</td>\n",
              "      <td>0.871795</td>\n",
              "      <td>0.078864</td>\n",
              "      <td>0.036833</td>\n",
              "    </tr>\n",
              "    <tr>\n",
              "      <th>2</th>\n",
              "      <td>0.120253</td>\n",
              "      <td>0.191559</td>\n",
              "      <td>0.146675</td>\n",
              "      <td>0.180149</td>\n",
              "      <td>0.098809</td>\n",
              "      <td>0.187691</td>\n",
              "      <td>0.875740</td>\n",
              "      <td>0.274448</td>\n",
              "      <td>0.040365</td>\n",
              "    </tr>\n",
              "    <tr>\n",
              "      <th>3</th>\n",
              "      <td>0.566699</td>\n",
              "      <td>0.311125</td>\n",
              "      <td>0.064636</td>\n",
              "      <td>0.246266</td>\n",
              "      <td>0.042535</td>\n",
              "      <td>0.245911</td>\n",
              "      <td>0.552268</td>\n",
              "      <td>0.790221</td>\n",
              "      <td>0.031488</td>\n",
              "    </tr>\n",
              "    <tr>\n",
              "      <th>4</th>\n",
              "      <td>0.037488</td>\n",
              "      <td>0.227079</td>\n",
              "      <td>0.262275</td>\n",
              "      <td>0.338255</td>\n",
              "      <td>0.148652</td>\n",
              "      <td>0.052213</td>\n",
              "      <td>0.881657</td>\n",
              "      <td>0.154574</td>\n",
              "      <td>0.114242</td>\n",
              "    </tr>\n",
              "    <tr>\n",
              "      <th>...</th>\n",
              "      <td>...</td>\n",
              "      <td>...</td>\n",
              "      <td>...</td>\n",
              "      <td>...</td>\n",
              "      <td>...</td>\n",
              "      <td>...</td>\n",
              "      <td>...</td>\n",
              "      <td>...</td>\n",
              "      <td>...</td>\n",
              "    </tr>\n",
              "    <tr>\n",
              "      <th>162</th>\n",
              "      <td>0.129503</td>\n",
              "      <td>0.232582</td>\n",
              "      <td>0.213797</td>\n",
              "      <td>0.302609</td>\n",
              "      <td>0.018820</td>\n",
              "      <td>0.063118</td>\n",
              "      <td>0.609467</td>\n",
              "      <td>0.370662</td>\n",
              "      <td>0.026143</td>\n",
              "    </tr>\n",
              "    <tr>\n",
              "      <th>163</th>\n",
              "      <td>0.070594</td>\n",
              "      <td>0.142032</td>\n",
              "      <td>0.192666</td>\n",
              "      <td>0.100809</td>\n",
              "      <td>0.127750</td>\n",
              "      <td>0.463081</td>\n",
              "      <td>0.854043</td>\n",
              "      <td>0.208202</td>\n",
              "      <td>0.126650</td>\n",
              "    </tr>\n",
              "    <tr>\n",
              "      <th>164</th>\n",
              "      <td>0.100779</td>\n",
              "      <td>0.359651</td>\n",
              "      <td>0.312617</td>\n",
              "      <td>0.460715</td>\n",
              "      <td>0.031200</td>\n",
              "      <td>0.150725</td>\n",
              "      <td>0.808679</td>\n",
              "      <td>0.126183</td>\n",
              "      <td>0.010299</td>\n",
              "    </tr>\n",
              "    <tr>\n",
              "      <th>165</th>\n",
              "      <td>0.261441</td>\n",
              "      <td>0.149536</td>\n",
              "      <td>0.209447</td>\n",
              "      <td>0.197397</td>\n",
              "      <td>0.031120</td>\n",
              "      <td>0.257000</td>\n",
              "      <td>0.698225</td>\n",
              "      <td>0.555205</td>\n",
              "      <td>0.010299</td>\n",
              "    </tr>\n",
              "    <tr>\n",
              "      <th>166</th>\n",
              "      <td>0.391918</td>\n",
              "      <td>0.184556</td>\n",
              "      <td>0.253574</td>\n",
              "      <td>0.177275</td>\n",
              "      <td>0.021473</td>\n",
              "      <td>0.168284</td>\n",
              "      <td>0.392505</td>\n",
              "      <td>0.670347</td>\n",
              "      <td>0.011731</td>\n",
              "    </tr>\n",
              "  </tbody>\n",
              "</table>\n",
              "<p>167 rows × 9 columns</p>\n",
              "</div>\n",
              "      <button class=\"colab-df-convert\" onclick=\"convertToInteractive('df-063bc761-eada-407f-9dd8-d401639e763e')\"\n",
              "              title=\"Convert this dataframe to an interactive table.\"\n",
              "              style=\"display:none;\">\n",
              "        \n",
              "  <svg xmlns=\"http://www.w3.org/2000/svg\" height=\"24px\"viewBox=\"0 0 24 24\"\n",
              "       width=\"24px\">\n",
              "    <path d=\"M0 0h24v24H0V0z\" fill=\"none\"/>\n",
              "    <path d=\"M18.56 5.44l.94 2.06.94-2.06 2.06-.94-2.06-.94-.94-2.06-.94 2.06-2.06.94zm-11 1L8.5 8.5l.94-2.06 2.06-.94-2.06-.94L8.5 2.5l-.94 2.06-2.06.94zm10 10l.94 2.06.94-2.06 2.06-.94-2.06-.94-.94-2.06-.94 2.06-2.06.94z\"/><path d=\"M17.41 7.96l-1.37-1.37c-.4-.4-.92-.59-1.43-.59-.52 0-1.04.2-1.43.59L10.3 9.45l-7.72 7.72c-.78.78-.78 2.05 0 2.83L4 21.41c.39.39.9.59 1.41.59.51 0 1.02-.2 1.41-.59l7.78-7.78 2.81-2.81c.8-.78.8-2.07 0-2.86zM5.41 20L4 18.59l7.72-7.72 1.47 1.35L5.41 20z\"/>\n",
              "  </svg>\n",
              "      </button>\n",
              "      \n",
              "  <style>\n",
              "    .colab-df-container {\n",
              "      display:flex;\n",
              "      flex-wrap:wrap;\n",
              "      gap: 12px;\n",
              "    }\n",
              "\n",
              "    .colab-df-convert {\n",
              "      background-color: #E8F0FE;\n",
              "      border: none;\n",
              "      border-radius: 50%;\n",
              "      cursor: pointer;\n",
              "      display: none;\n",
              "      fill: #1967D2;\n",
              "      height: 32px;\n",
              "      padding: 0 0 0 0;\n",
              "      width: 32px;\n",
              "    }\n",
              "\n",
              "    .colab-df-convert:hover {\n",
              "      background-color: #E2EBFA;\n",
              "      box-shadow: 0px 1px 2px rgba(60, 64, 67, 0.3), 0px 1px 3px 1px rgba(60, 64, 67, 0.15);\n",
              "      fill: #174EA6;\n",
              "    }\n",
              "\n",
              "    [theme=dark] .colab-df-convert {\n",
              "      background-color: #3B4455;\n",
              "      fill: #D2E3FC;\n",
              "    }\n",
              "\n",
              "    [theme=dark] .colab-df-convert:hover {\n",
              "      background-color: #434B5C;\n",
              "      box-shadow: 0px 1px 3px 1px rgba(0, 0, 0, 0.15);\n",
              "      filter: drop-shadow(0px 1px 2px rgba(0, 0, 0, 0.3));\n",
              "      fill: #FFFFFF;\n",
              "    }\n",
              "  </style>\n",
              "\n",
              "      <script>\n",
              "        const buttonEl =\n",
              "          document.querySelector('#df-063bc761-eada-407f-9dd8-d401639e763e button.colab-df-convert');\n",
              "        buttonEl.style.display =\n",
              "          google.colab.kernel.accessAllowed ? 'block' : 'none';\n",
              "\n",
              "        async function convertToInteractive(key) {\n",
              "          const element = document.querySelector('#df-063bc761-eada-407f-9dd8-d401639e763e');\n",
              "          const dataTable =\n",
              "            await google.colab.kernel.invokeFunction('convertToInteractive',\n",
              "                                                     [key], {});\n",
              "          if (!dataTable) return;\n",
              "\n",
              "          const docLinkHtml = 'Like what you see? Visit the ' +\n",
              "            '<a target=\"_blank\" href=https://colab.research.google.com/notebooks/data_table.ipynb>data table notebook</a>'\n",
              "            + ' to learn more about interactive tables.';\n",
              "          element.innerHTML = '';\n",
              "          dataTable['output_type'] = 'display_data';\n",
              "          await google.colab.output.renderOutput(dataTable, element);\n",
              "          const docLink = document.createElement('div');\n",
              "          docLink.innerHTML = docLinkHtml;\n",
              "          element.appendChild(docLink);\n",
              "        }\n",
              "      </script>\n",
              "    </div>\n",
              "  </div>\n",
              "  "
            ]
          },
          "metadata": {},
          "execution_count": 614
        }
      ]
    },
    {
      "cell_type": "markdown",
      "source": [
        "#**KMeans**"
      ],
      "metadata": {
        "id": "WWK0uoy6vHrj"
      }
    },
    {
      "cell_type": "markdown",
      "source": [
        "##**Elbow Curve Method**"
      ],
      "metadata": {
        "id": "noN-2VNp9ixx"
      }
    },
    {
      "cell_type": "code",
      "source": [
        "# Elbow method berfungsi menentukan nilai k yang paling tepat\n",
        "\n",
        "a=[]\n",
        "K=range(1,10)\n",
        "for i in K:\n",
        "    kmean=KMeans(n_clusters=i)\n",
        "    kmean.fit(data)\n",
        "    a.append(kmean.inertia_)\n",
        "    \n",
        "plt.plot(K,a,marker='o')\n",
        "plt.title('Elbow Method',fontsize=15)\n",
        "plt.xlabel('Number of clusters',fontsize=15)\n",
        "plt.ylabel('Sum of Squared distance',fontsize=15)\n",
        "plt.show()"
      ],
      "metadata": {
        "colab": {
          "base_uri": "https://localhost:8080/",
          "height": 319
        },
        "id": "KOr1CrLu78w8",
        "outputId": "64b2a196-868f-4725-d0b4-67116fe7bb5a"
      },
      "execution_count": null,
      "outputs": [
        {
          "output_type": "display_data",
          "data": {
            "text/plain": [
              "<Figure size 432x288 with 1 Axes>"
            ],
            "image/png": "[encoded data removed]"
          },
          "metadata": {}
        }
      ]
    },
    {
      "cell_type": "markdown",
      "source": [
        "Berdasarkan plot di atas, maka diputuskan bahwa nilai k = 3"
      ],
      "metadata": {
        "id": "I5WUKGc3909W"
      }
    },
    {
      "cell_type": "markdown",
      "source": [
        "##**KMeans Without Library**"
      ],
      "metadata": {
        "id": "nPuFZdF05y__"
      }
    },
    {
      "cell_type": "code",
      "source": [
        "# Jumlah baris dan kolom\n",
        "data_minmax.shape"
      ],
      "metadata": {
        "colab": {
          "base_uri": "https://localhost:8080/"
        },
        "id": "T54gdkTYvXJz",
        "outputId": "62c35234-785b-45ae-ec73-0b93a23565cf"
      },
      "execution_count": null,
      "outputs": [
        {
          "output_type": "execute_result",
          "data": {
            "text/plain": [
              "(167, 9)"
            ]
          },
          "metadata": {},
          "execution_count": 616
        }
      ]
    },
    {
      "cell_type": "code",
      "source": [
        "n = 167   # jumlah baris\n",
        "p = 2     # jumlah features, descriptors, kolom [dimensi]\n",
        "k = 3     # nilai k "
      ],
      "metadata": {
        "id": "MBOyd56hJLn3"
      },
      "execution_count": null,
      "outputs": []
    },
    {
      "cell_type": "code",
      "source": [
        "x = data_minmax[['child_mort','exports','health','imports','income','inflation','life_expec','total_fer','gdpp']]\n",
        "x.head()"
      ],
      "metadata": {
        "colab": {
          "base_uri": "https://localhost:8080/",
          "height": 206
        },
        "id": "-C3byQok9soI",
        "outputId": "27c1a714-a1f0-42ec-8bc1-16821f3c357a"
      },
      "execution_count": null,
      "outputs": [
        {
          "output_type": "execute_result",
          "data": {
            "text/plain": [
              "   child_mort   exports    health   imports    income  inflation  life_expec  \\\n",
              "0    0.426485  0.049482  0.358608  0.257765  0.008047   0.126144    0.475345   \n",
              "1    0.068160  0.139531  0.294593  0.279037  0.074933   0.080399    0.871795   \n",
              "2    0.120253  0.191559  0.146675  0.180149  0.098809   0.187691    0.875740   \n",
              "3    0.566699  0.311125  0.064636  0.246266  0.042535   0.245911    0.552268   \n",
              "4    0.037488  0.227079  0.262275  0.338255  0.148652   0.052213    0.881657   \n",
              "\n",
              "   total_fer      gdpp  \n",
              "0   0.736593  0.003073  \n",
              "1   0.078864  0.036833  \n",
              "2   0.274448  0.040365  \n",
              "3   0.790221  0.031488  \n",
              "4   0.154574  0.114242  "
            ],
            "text/html": [
              "\n",
              "  <div id=\"df-eeef16de-35bd-4eb8-8123-5863482ca43f\">\n",
              "    <div class=\"colab-df-container\">\n",
              "      <div>\n",
              "<style scoped>\n",
              "    .dataframe tbody tr th:only-of-type {\n",
              "        vertical-align: middle;\n",
              "    }\n",
              "\n",
              "    .dataframe tbody tr th {\n",
              "        vertical-align: top;\n",
              "    }\n",
              "\n",
              "    .dataframe thead th {\n",
              "        text-align: right;\n",
              "    }\n",
              "</style>\n",
              "<table border=\"1\" class=\"dataframe\">\n",
              "  <thead>\n",
              "    <tr style=\"text-align: right;\">\n",
              "      <th></th>\n",
              "      <th>child_mort</th>\n",
              "      <th>exports</th>\n",
              "      <th>health</th>\n",
              "      <th>imports</th>\n",
              "      <th>income</th>\n",
              "      <th>inflation</th>\n",
              "      <th>life_expec</th>\n",
              "      <th>total_fer</th>\n",
              "      <th>gdpp</th>\n",
              "    </tr>\n",
              "  </thead>\n",
              "  <tbody>\n",
              "    <tr>\n",
              "      <th>0</th>\n",
              "      <td>0.426485</td>\n",
              "      <td>0.049482</td>\n",
              "      <td>0.358608</td>\n",
              "      <td>0.257765</td>\n",
              "      <td>0.008047</td>\n",
              "      <td>0.126144</td>\n",
              "      <td>0.475345</td>\n",
              "      <td>0.736593</td>\n",
              "      <td>0.003073</td>\n",
              "    </tr>\n",
              "    <tr>\n",
              "      <th>1</th>\n",
              "      <td>0.068160</td>\n",
              "      <td>0.139531</td>\n",
              "      <td>0.294593</td>\n",
              "      <td>0.279037</td>\n",
              "      <td>0.074933</td>\n",
              "      <td>0.080399</td>\n",
              "      <td>0.871795</td>\n",
              "      <td>0.078864</td>\n",
              "      <td>0.036833</td>\n",
              "    </tr>\n",
              "    <tr>\n",
              "      <th>2</th>\n",
              "      <td>0.120253</td>\n",
              "      <td>0.191559</td>\n",
              "      <td>0.146675</td>\n",
              "      <td>0.180149</td>\n",
              "      <td>0.098809</td>\n",
              "      <td>0.187691</td>\n",
              "      <td>0.875740</td>\n",
              "      <td>0.274448</td>\n",
              "      <td>0.040365</td>\n",
              "    </tr>\n",
              "    <tr>\n",
              "      <th>3</th>\n",
              "      <td>0.566699</td>\n",
              "      <td>0.311125</td>\n",
              "      <td>0.064636</td>\n",
              "      <td>0.246266</td>\n",
              "      <td>0.042535</td>\n",
              "      <td>0.245911</td>\n",
              "      <td>0.552268</td>\n",
              "      <td>0.790221</td>\n",
              "      <td>0.031488</td>\n",
              "    </tr>\n",
              "    <tr>\n",
              "      <th>4</th>\n",
              "      <td>0.037488</td>\n",
              "      <td>0.227079</td>\n",
              "      <td>0.262275</td>\n",
              "      <td>0.338255</td>\n",
              "      <td>0.148652</td>\n",
              "      <td>0.052213</td>\n",
              "      <td>0.881657</td>\n",
              "      <td>0.154574</td>\n",
              "      <td>0.114242</td>\n",
              "    </tr>\n",
              "  </tbody>\n",
              "</table>\n",
              "</div>\n",
              "      <button class=\"colab-df-convert\" onclick=\"convertToInteractive('df-eeef16de-35bd-4eb8-8123-5863482ca43f')\"\n",
              "              title=\"Convert this dataframe to an interactive table.\"\n",
              "              style=\"display:none;\">\n",
              "        \n",
              "  <svg xmlns=\"http://www.w3.org/2000/svg\" height=\"24px\"viewBox=\"0 0 24 24\"\n",
              "       width=\"24px\">\n",
              "    <path d=\"M0 0h24v24H0V0z\" fill=\"none\"/>\n",
              "    <path d=\"M18.56 5.44l.94 2.06.94-2.06 2.06-.94-2.06-.94-.94-2.06-.94 2.06-2.06.94zm-11 1L8.5 8.5l.94-2.06 2.06-.94-2.06-.94L8.5 2.5l-.94 2.06-2.06.94zm10 10l.94 2.06.94-2.06 2.06-.94-2.06-.94-.94-2.06-.94 2.06-2.06.94z\"/><path d=\"M17.41 7.96l-1.37-1.37c-.4-.4-.92-.59-1.43-.59-.52 0-1.04.2-1.43.59L10.3 9.45l-7.72 7.72c-.78.78-.78 2.05 0 2.83L4 21.41c.39.39.9.59 1.41.59.51 0 1.02-.2 1.41-.59l7.78-7.78 2.81-2.81c.8-.78.8-2.07 0-2.86zM5.41 20L4 18.59l7.72-7.72 1.47 1.35L5.41 20z\"/>\n",
              "  </svg>\n",
              "      </button>\n",
              "      \n",
              "  <style>\n",
              "    .colab-df-container {\n",
              "      display:flex;\n",
              "      flex-wrap:wrap;\n",
              "      gap: 12px;\n",
              "    }\n",
              "\n",
              "    .colab-df-convert {\n",
              "      background-color: #E8F0FE;\n",
              "      border: none;\n",
              "      border-radius: 50%;\n",
              "      cursor: pointer;\n",
              "      display: none;\n",
              "      fill: #1967D2;\n",
              "      height: 32px;\n",
              "      padding: 0 0 0 0;\n",
              "      width: 32px;\n",
              "    }\n",
              "\n",
              "    .colab-df-convert:hover {\n",
              "      background-color: #E2EBFA;\n",
              "      box-shadow: 0px 1px 2px rgba(60, 64, 67, 0.3), 0px 1px 3px 1px rgba(60, 64, 67, 0.15);\n",
              "      fill: #174EA6;\n",
              "    }\n",
              "\n",
              "    [theme=dark] .colab-df-convert {\n",
              "      background-color: #3B4455;\n",
              "      fill: #D2E3FC;\n",
              "    }\n",
              "\n",
              "    [theme=dark] .colab-df-convert:hover {\n",
              "      background-color: #434B5C;\n",
              "      box-shadow: 0px 1px 3px 1px rgba(0, 0, 0, 0.15);\n",
              "      filter: drop-shadow(0px 1px 2px rgba(0, 0, 0, 0.3));\n",
              "      fill: #FFFFFF;\n",
              "    }\n",
              "  </style>\n",
              "\n",
              "      <script>\n",
              "        const buttonEl =\n",
              "          document.querySelector('#df-eeef16de-35bd-4eb8-8123-5863482ca43f button.colab-df-convert');\n",
              "        buttonEl.style.display =\n",
              "          google.colab.kernel.accessAllowed ? 'block' : 'none';\n",
              "\n",
              "        async function convertToInteractive(key) {\n",
              "          const element = document.querySelector('#df-eeef16de-35bd-4eb8-8123-5863482ca43f');\n",
              "          const dataTable =\n",
              "            await google.colab.kernel.invokeFunction('convertToInteractive',\n",
              "                                                     [key], {});\n",
              "          if (!dataTable) return;\n",
              "\n",
              "          const docLinkHtml = 'Like what you see? Visit the ' +\n",
              "            '<a target=\"_blank\" href=https://colab.research.google.com/notebooks/data_table.ipynb>data table notebook</a>'\n",
              "            + ' to learn more about interactive tables.';\n",
              "          element.innerHTML = '';\n",
              "          dataTable['output_type'] = 'display_data';\n",
              "          await google.colab.output.renderOutput(dataTable, element);\n",
              "          const docLink = document.createElement('div');\n",
              "          docLink.innerHTML = docLinkHtml;\n",
              "          element.appendChild(docLink);\n",
              "        }\n",
              "      </script>\n",
              "    </div>\n",
              "  </div>\n",
              "  "
            ]
          },
          "metadata": {},
          "execution_count": 618
        }
      ]
    },
    {
      "cell_type": "code",
      "source": [
        "# Mengubah dataframe menjadi array numpy\n",
        "X_arr = np.array(x)\n",
        "X_arr"
      ],
      "metadata": {
        "colab": {
          "base_uri": "https://localhost:8080/"
        },
        "id": "39oei0_ELbz1",
        "outputId": "7c54265f-59c1-41bc-9ef6-e9ec38ee006b"
      },
      "execution_count": null,
      "outputs": [
        {
          "output_type": "execute_result",
          "data": {
            "text/plain": [
              "array([[0.42648491, 0.04948197, 0.35860783, ..., 0.47534517, 0.73659306,\n",
              "        0.00307343],\n",
              "       [0.06815969, 0.13953104, 0.29459291, ..., 0.87179487, 0.07886435,\n",
              "        0.03683341],\n",
              "       [0.12025316, 0.1915594 , 0.14667495, ..., 0.87573964, 0.27444795,\n",
              "        0.04036499],\n",
              "       ...,\n",
              "       [0.10077897, 0.35965101, 0.31261653, ..., 0.8086785 , 0.12618297,\n",
              "        0.01029885],\n",
              "       [0.26144109, 0.1495365 , 0.20944686, ..., 0.69822485, 0.55520505,\n",
              "        0.01029885],\n",
              "       [0.39191821, 0.18455558, 0.25357365, ..., 0.39250493, 0.670347  ,\n",
              "        0.01173057]])"
            ]
          },
          "metadata": {},
          "execution_count": 619
        }
      ]
    },
    {
      "cell_type": "code",
      "source": [
        "#Visualisasi scatter plot array\n",
        "plt.scatter(X_arr[:, 0], X_arr[:, 1], alpha=0.5)\n",
        "plt.show()"
      ],
      "metadata": {
        "colab": {
          "base_uri": "https://localhost:8080/",
          "height": 282
        },
        "id": "CVZpCF9SLgXo",
        "outputId": "01dcf8b3-f777-4d11-b877-c00560e3b398"
      },
      "execution_count": null,
      "outputs": [
        {
          "output_type": "display_data",
          "data": {
            "text/plain": [
              "<Figure size 432x288 with 1 Axes>"
            ],
            "image/png": "[encoded data removed]"
          },
          "metadata": {}
        }
      ]
    },
    {
      "cell_type": "markdown",
      "source": [
        "**Langkah membuat algoritma KMeans :**\n",
        "\n",
        "1. Menentukan sembarang centroid \n",
        "2. Menghitung jarak / distance menggunakan euclidean distance\n",
        "3. Melakukan cluster sesuai nilai k\n",
        "4. Mengupdate titik centroid yang baru\n",
        "5. Mengulangi step 3 dan 4 hingga nilai centroid tidak mengalami perubahan"
      ],
      "metadata": {
        "id": "iJpEl6vvwExz"
      }
    },
    {
      "cell_type": "code",
      "source": [
        "# Menentukan titik centroid secara sembarang\n",
        "np.random.seed(seed=0)\n",
        "centroids = X_arr[np.random.choice(n, k, replace=False)]\n",
        "centroids"
      ],
      "metadata": {
        "colab": {
          "base_uri": "https://localhost:8080/"
        },
        "id": "_G4gnzH_Ikcr",
        "outputId": "f88e7d55-2f62-4970-e928-45f6270e61f4"
      },
      "execution_count": null,
      "outputs": [
        {
          "output_type": "execute_result",
          "data": {
            "text/plain": [
              "array([[0.42697176, 0.20056431, 0.36295836, 0.32905623, 0.00483154,\n",
              "        0.04981055, 0.52465483, 0.58675079, 0.00245302],\n",
              "       [0.37828627, 0.11851959, 0.24114357, 0.2451164 , 0.00844916,\n",
              "        0.07864338, 0.65877712, 0.7192429 , 0.00315933],\n",
              "       [0.03115871, 0.31112456, 0.        , 0.13645455, 1.        ,\n",
              "        0.10341004, 0.93491124, 0.14511041, 0.66879516]])"
            ]
          },
          "metadata": {},
          "execution_count": 621
        }
      ]
    },
    {
      "cell_type": "markdown",
      "source": [
        "Euclidean Distance\n",
        "![1-1.webp](data:image/webp;base64,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)"
      ],
      "metadata": {
        "id": "OMRihhTGYPFr"
      }
    },
    {
      "cell_type": "code",
      "source": [
        "# Euclidean distance antara satu centroid dan satu titik\n",
        "((X_arr[0]-centroids[0])**2).sum()**0.5"
      ],
      "metadata": {
        "colab": {
          "base_uri": "https://localhost:8080/"
        },
        "id": "pGNegvfoJucn",
        "outputId": "bbe542ca-ce02-49f8-d834-b87ca5f21795"
      },
      "execution_count": null,
      "outputs": [
        {
          "output_type": "execute_result",
          "data": {
            "text/plain": [
              "0.24217577692610337"
            ]
          },
          "metadata": {},
          "execution_count": 622
        }
      ]
    },
    {
      "cell_type": "code",
      "source": [
        "# Euclidean distance antara centroid 1 dengan seluruh data\n",
        "((X_arr-centroids[0])**2).sum(axis=1)**0.5"
      ],
      "metadata": {
        "colab": {
          "base_uri": "https://localhost:8080/"
        },
        "id": "RYGIWEcTJyVp",
        "outputId": "47a9cacd-fee9-41c6-c1e1-cfe2c6225ee9"
      },
      "execution_count": null,
      "outputs": [
        {
          "output_type": "execute_result",
          "data": {
            "text/plain": [
              "array([0.24217578, 0.72466105, 0.64279301, 0.4587809 , 0.71416842,\n",
              "       0.73191725, 0.72067999, 1.00171001, 1.00622904, 0.64201076,\n",
              "       0.74793306, 0.80705649, 0.61542419, 0.73384071, 0.75014536,\n",
              "       0.96627023, 0.57923803, 0.29777746, 0.55772009, 0.48339769,\n",
              "       0.8147219 , 0.39266874, 0.75461092, 1.08886631, 0.72978423,\n",
              "       0.2882562 , 0.39354507, 0.43610534, 0.26990672, 1.00441083,\n",
              "       0.58664634, 0.48680883, 0.4544378 , 0.77820376, 0.75965593,\n",
              "       0.72339456, 0.27283045, 0.34747714, 0.45448183, 0.79190801,\n",
              "       0.22045189, 0.7849021 , 0.90297726, 0.83501344, 1.02544637,\n",
              "       0.58764811, 0.61845966, 0.54756361, 0.62748795, 0.4972611 ,\n",
              "       0.45763891, 0.79417417, 0.53351182, 0.94201645, 0.95298963,\n",
              "       0.44903122, 0.25956544, 0.67426941, 0.99185958, 0.26466803,\n",
              "       0.90397062, 0.63384152, 0.46310698, 0.26568821, 0.23041036,\n",
              "       0.49892653, 0.82682118, 0.83115512, 0.9179651 , 0.5171873 ,\n",
              "       0.65851803, 0.75230327, 0.38526821, 1.01692232, 0.78349228,\n",
              "       0.95584256, 0.67123154, 1.02652879, 0.52940146, 0.63580935,\n",
              "       0.30370887, 0.36411201, 1.05195989, 0.49064667, 0.3668513 ,\n",
              "       0.76597673, 0.78276447, 0.48095722, 0.35035146, 0.74472648,\n",
              "       0.76849684, 1.69059587, 0.73449767, 0.31286646, 0.23602154,\n",
              "       0.76118021, 0.71513426, 0.41768985, 1.17106798, 0.32797342,\n",
              "       0.72305842, 0.56528838, 0.76379774, 0.62436823, 0.74145535,\n",
              "       0.57093472, 0.232281  , 0.68444422, 0.28046843, 0.5330129 ,\n",
              "       1.02372429, 0.8707861 , 0.48018384, 1.02473872, 1.25036489,\n",
              "       0.80822568, 0.4813153 , 0.66474972, 0.57803067, 0.68530717,\n",
              "       0.5244783 , 0.79708438, 0.89350049, 1.46230205, 0.74524724,\n",
              "       0.77036112, 0.33128947, 0.45001278, 0.75696843, 0.23610765,\n",
              "       0.77932751, 0.81521937, 0.53918595, 1.55251896, 0.82527841,\n",
              "       0.86235625, 0.36324456, 0.47113351, 0.88885216, 0.94232514,\n",
              "       0.76974796, 0.65338232, 0.35598723, 0.57476143, 0.98530712,\n",
              "       1.19642505, 0.40513258, 0.2642477 , 0.78653626, 0.50292248,\n",
              "       0.        , 0.4953299 , 0.67698609, 0.72746648, 0.549892  ,\n",
              "       0.31547946, 0.7148422 , 0.9635047 , 0.90848083, 1.17271024,\n",
              "       0.73200614, 0.57537664, 0.40900158, 0.81526065, 0.67476778,\n",
              "       0.38171457, 0.27447871])"
            ]
          },
          "metadata": {},
          "execution_count": 623
        }
      ]
    },
    {
      "cell_type": "code",
      "source": [
        "# Euclidean distance antara centroid 2 dengan seluruh data\n",
        "((X_arr-centroids[1])**2).sum(axis=1)**0.5"
      ],
      "metadata": {
        "colab": {
          "base_uri": "https://localhost:8080/"
        },
        "id": "COdaAveYG1UA",
        "outputId": "9d8c7516-661f-406c-bd81-d77eb3f41aea"
      },
      "execution_count": null,
      "outputs": [
        {
          "output_type": "execute_result",
          "data": {
            "text/plain": [
              "array([0.23927367, 0.74943033, 0.59280415, 0.38739765, 0.73366951,\n",
              "       0.720394  , 0.72636427, 0.99565156, 1.05588072, 0.68219535,\n",
              "       0.7885878 , 0.82041793, 0.59251515, 0.77403722, 0.80383375,\n",
              "       1.0309686 , 0.60789351, 0.20610507, 0.60321669, 0.46220918,\n",
              "       0.88419385, 0.54517639, 0.77290719, 1.07346309, 0.7817654 ,\n",
              "       0.25361069, 0.42635292, 0.51226444, 0.25165049, 1.03385139,\n",
              "       0.58698865, 0.51787693, 0.41924198, 0.78962262, 0.75794191,\n",
              "       0.72216431, 0.18407242, 0.35167202, 0.44065184, 0.82661071,\n",
              "       0.28083469, 0.81780521, 0.92405767, 0.89107443, 1.06819971,\n",
              "       0.57867232, 0.61990954, 0.50026782, 0.64882846, 0.5242415 ,\n",
              "       0.33489744, 0.84316196, 0.59515137, 0.96067837, 0.97773529,\n",
              "       0.41533199, 0.        , 0.74828327, 1.04018925, 0.26771348,\n",
              "       0.93186015, 0.65407667, 0.4525072 , 0.24498074, 0.33223862,\n",
              "       0.58417722, 0.9925258 , 0.91200949, 0.93571779, 0.52216675,\n",
              "       0.61935614, 0.74606104, 0.37147629, 1.07976979, 0.75293841,\n",
              "       0.97261534, 0.67015186, 1.03044486, 0.54258212, 0.63051714,\n",
              "       0.24927731, 0.52355432, 1.02661323, 0.55435964, 0.4209501 ,\n",
              "       0.82443482, 0.80999883, 0.72485741, 0.4996001 , 0.73359403,\n",
              "       0.83734837, 1.75673176, 0.78803452, 0.2510346 , 0.27685958,\n",
              "       0.79716718, 0.75365463, 0.33413727, 1.27648677, 0.27784072,\n",
              "       0.77620115, 0.7023927 , 0.88536944, 0.65644798, 0.7981894 ,\n",
              "       0.57107669, 0.24810843, 0.63725116, 0.42187671, 0.53432525,\n",
              "       1.08651304, 0.88218004, 0.37725342, 0.9702387 , 1.25927878,\n",
              "       0.7711151 , 0.40151891, 0.72010649, 0.59560367, 0.64437961,\n",
              "       0.49422642, 0.83366817, 0.9381424 , 1.43537016, 0.76510106,\n",
              "       0.78351932, 0.37574441, 0.3986792 , 0.72117695, 0.12836658,\n",
              "       0.84807655, 0.87249601, 0.65550833, 1.62744025, 0.91065964,\n",
              "       0.92125115, 0.4705474 , 0.60682869, 0.91562739, 0.96089085,\n",
              "       0.72199065, 0.66968783, 0.24778968, 0.61748188, 1.0064003 ,\n",
              "       1.24261379, 0.40227272, 0.16686467, 0.81233423, 0.36571092,\n",
              "       0.25956544, 0.44547754, 0.7011883 , 0.71301837, 0.57538173,\n",
              "       0.29653901, 0.78509813, 0.97717279, 0.92375731, 1.22849307,\n",
              "       0.744124  , 0.59510585, 0.45141219, 0.77134235, 0.75279535,\n",
              "       0.28060167, 0.30145279])"
            ]
          },
          "metadata": {},
          "execution_count": 624
        }
      ]
    },
    {
      "cell_type": "code",
      "source": [
        "# Euclidean distance antara centroid 3 dengan seluruh data\n",
        "((X_arr-centroids[2])**2).sum(axis=1)**0.5"
      ],
      "metadata": {
        "colab": {
          "base_uri": "https://localhost:8080/"
        },
        "id": "s5raZAdfHJHH",
        "outputId": "5e4574b7-05be-4baf-e385-8a09e42d6741"
      },
      "execution_count": null,
      "outputs": [
        {
          "output_type": "execute_result",
          "data": {
            "text/plain": [
              "array([1.535181  , 1.18404156, 1.13139652, 1.48621275, 1.07446935,\n",
              "       1.13360273, 1.19132764, 0.84806297, 0.91901755, 1.13160158,\n",
              "       1.01497694, 0.86498174, 1.24459848, 1.11175752, 1.14077076,\n",
              "       0.95698951, 1.18580381, 1.45788803, 1.22845715, 1.22049844,\n",
              "       1.28721851, 1.27752759, 1.18095364, 0.50598204, 1.13877816,\n",
              "       1.54381311, 1.63947389, 1.27614805, 1.46295006, 0.94446864,\n",
              "       1.20633915, 1.62254834, 1.63116949, 1.08869377, 1.1597866 ,\n",
              "       1.18578551, 1.39073389, 1.61121704, 1.35111873, 1.22778519,\n",
              "       1.47498434, 1.08540678, 0.89438852, 1.02274415, 0.90125825,\n",
              "       1.17078933, 1.20737207, 1.19213017, 1.21387407, 1.2379638 ,\n",
              "       1.36119288, 1.05316901, 1.21749584, 0.86297245, 1.00616942,\n",
              "       1.19178543, 1.43537016, 1.28398106, 0.96856672, 1.35264301,\n",
              "       1.05089015, 1.16222131, 1.24149873, 1.48267005, 1.53947797,\n",
              "       1.2598543 , 1.86841733, 1.10781661, 0.89150794, 1.25181894,\n",
              "       1.17818066, 1.11005919, 1.27821661, 0.91676481, 0.95452388,\n",
              "       0.9479549 , 1.17032544, 0.94095658, 1.24946815, 1.07606849,\n",
              "       1.34059186, 1.48719384, 0.50958049, 1.29461436, 1.30014189,\n",
              "       1.10111569, 1.13286126, 1.6147951 , 1.59337359, 0.96843583,\n",
              "       1.09589965, 1.05176692, 1.18747132, 1.36269629, 1.50365587,\n",
              "       1.07872601, 1.16475082, 1.59592907, 1.3362474 , 1.38755587,\n",
              "       1.12559543, 1.50292046, 1.38695164, 1.25350613, 1.20227681,\n",
              "       1.20008247, 1.507226  , 1.2814711 , 1.30045283, 1.27946828,\n",
              "       0.94819589, 0.98548272, 1.659669  , 1.75237493, 0.7244612 ,\n",
              "       0.83035843, 1.32738727, 1.18074219, 1.19300699, 1.15077602,\n",
              "       1.21124751, 1.07507055, 1.095679  , 0.        , 1.09457136,\n",
              "       1.05622889, 1.44714987, 1.27633966, 0.84514359, 1.38238864,\n",
              "       1.2428943 , 1.15095118, 1.73490851, 1.22487184, 1.10272784,\n",
              "       1.04207176, 1.39742534, 1.30898653, 0.96516345, 0.98988908,\n",
              "       1.1722213 , 1.1633127 , 1.37821394, 1.14056509, 0.85065358,\n",
              "       0.84853753, 1.31043588, 1.4380856 , 1.1246253 , 1.49713437,\n",
              "       1.46230205, 1.26766034, 1.16785559, 1.09758472, 1.18610022,\n",
              "       1.55514182, 1.22944585, 0.696944  , 0.93307796, 1.21702082,\n",
              "       1.1247408 , 1.23811801, 1.27408185, 1.12390491, 1.26522664,\n",
              "       1.32168729, 1.47501506])"
            ]
          },
          "metadata": {},
          "execution_count": 625
        }
      ]
    },
    {
      "cell_type": "code",
      "source": [
        "# Distances = membuat / menyiapkan array sesuai dengan jumlah kolom dan jumlah cluster\n",
        "distances = np.zeros((n,k))\n",
        "distances"
      ],
      "metadata": {
        "id": "z9tOH6HnpzFK"
      },
      "execution_count": null,
      "outputs": []
    },
    {
      "cell_type": "code",
      "source": [
        "# Menghitung distances antara data dengan masing-masing cluster\n",
        "distances = np.zeros((n,k))\n",
        "for i in range(k):\n",
        "    distances[:,i] = ((X_arr-centroids[i])**2).sum(axis=1)**0.5\n",
        "distances"
      ],
      "metadata": {
        "colab": {
          "base_uri": "https://localhost:8080/"
        },
        "id": "8yZRMeV8KMSK",
        "outputId": "855db067-aca0-4563-cfc8-5e9cd700c233"
      },
      "execution_count": null,
      "outputs": [
        {
          "output_type": "execute_result",
          "data": {
            "text/plain": [
              "array([[0.24217578, 0.23927367, 1.535181  ],\n",
              "       [0.72466105, 0.74943033, 1.18404156],\n",
              "       [0.64279301, 0.59280415, 1.13139652],\n",
              "       [0.4587809 , 0.38739765, 1.48621275],\n",
              "       [0.71416842, 0.73366951, 1.07446935],\n",
              "       [0.73191725, 0.720394  , 1.13360273],\n",
              "       [0.72067999, 0.72636427, 1.19132764],\n",
              "       [1.00171001, 0.99565156, 0.84806297],\n",
              "       [1.00622904, 1.05588072, 0.91901755],\n",
              "       [0.64201076, 0.68219535, 1.13160158],\n",
              "       [0.74793306, 0.7885878 , 1.01497694],\n",
              "       [0.80705649, 0.82041793, 0.86498174],\n",
              "       [0.61542419, 0.59251515, 1.24459848],\n",
              "       [0.73384071, 0.77403722, 1.11175752],\n",
              "       [0.75014536, 0.80383375, 1.14077076],\n",
              "       [0.96627023, 1.0309686 , 0.95698951],\n",
              "       [0.57923803, 0.60789351, 1.18580381],\n",
              "       [0.29777746, 0.20610507, 1.45788803],\n",
              "       [0.55772009, 0.60321669, 1.22845715],\n",
              "       [0.48339769, 0.46220918, 1.22049844],\n",
              "       [0.8147219 , 0.88419385, 1.28721851],\n",
              "       [0.39266874, 0.54517639, 1.27752759],\n",
              "       [0.75461092, 0.77290719, 1.18095364],\n",
              "       [1.08886631, 1.07346309, 0.50598204],\n",
              "       [0.72978423, 0.7817654 , 1.13877816],\n",
              "       [0.2882562 , 0.25361069, 1.54381311],\n",
              "       [0.39354507, 0.42635292, 1.63947389],\n",
              "       [0.43610534, 0.51226444, 1.27614805],\n",
              "       [0.26990672, 0.25165049, 1.46295006],\n",
              "       [1.00441083, 1.03385139, 0.94446864],\n",
              "       [0.58664634, 0.58698865, 1.20633915],\n",
              "       [0.48680883, 0.51787693, 1.62254834],\n",
              "       [0.4544378 , 0.41924198, 1.63116949],\n",
              "       [0.77820376, 0.78962262, 1.08869377],\n",
              "       [0.75965593, 0.75794191, 1.1597866 ],\n",
              "       [0.72339456, 0.72216431, 1.18578551],\n",
              "       [0.27283045, 0.18407242, 1.39073389],\n",
              "       [0.34747714, 0.35167202, 1.61121704],\n",
              "       [0.45448183, 0.44065184, 1.35111873],\n",
              "       [0.79190801, 0.82661071, 1.22778519],\n",
              "       [0.22045189, 0.28083469, 1.47498434],\n",
              "       [0.7849021 , 0.81780521, 1.08540678],\n",
              "       [0.90297726, 0.92405767, 0.89438852],\n",
              "       [0.83501344, 0.89107443, 1.02274415],\n",
              "       [1.02544637, 1.06819971, 0.90125825],\n",
              "       [0.58764811, 0.57867232, 1.17078933],\n",
              "       [0.61845966, 0.61990954, 1.20737207],\n",
              "       [0.54756361, 0.50026782, 1.19213017],\n",
              "       [0.62748795, 0.64882846, 1.21387407],\n",
              "       [0.4972611 , 0.5242415 , 1.2379638 ],\n",
              "       [0.45763891, 0.33489744, 1.36119288],\n",
              "       [0.79417417, 0.84316196, 1.05316901],\n",
              "       [0.53351182, 0.59515137, 1.21749584],\n",
              "       [0.94201645, 0.96067837, 0.86297245],\n",
              "       [0.95298963, 0.97773529, 1.00616942],\n",
              "       [0.44903122, 0.41533199, 1.19178543],\n",
              "       [0.25956544, 0.        , 1.43537016],\n",
              "       [0.67426941, 0.74828327, 1.28398106],\n",
              "       [0.99185958, 1.04018925, 0.96856672],\n",
              "       [0.26466803, 0.26771348, 1.35264301],\n",
              "       [0.90397062, 0.93186015, 1.05089015],\n",
              "       [0.63384152, 0.65407667, 1.16222131],\n",
              "       [0.46310698, 0.4525072 , 1.24149873],\n",
              "       [0.26568821, 0.24498074, 1.48267005],\n",
              "       [0.23041036, 0.33223862, 1.53947797],\n",
              "       [0.49892653, 0.58417722, 1.2598543 ],\n",
              "       [0.82682118, 0.9925258 , 1.86841733],\n",
              "       [0.83115512, 0.91200949, 1.10781661],\n",
              "       [0.9179651 , 0.93571779, 0.89150794],\n",
              "       [0.5171873 , 0.52216675, 1.25181894],\n",
              "       [0.65851803, 0.61935614, 1.17818066],\n",
              "       [0.75230327, 0.74606104, 1.11005919],\n",
              "       [0.38526821, 0.37147629, 1.27821661],\n",
              "       [1.01692232, 1.07976979, 0.91676481],\n",
              "       [0.78349228, 0.75293841, 0.95452388],\n",
              "       [0.95584256, 0.97261534, 0.9479549 ],\n",
              "       [0.67123154, 0.67015186, 1.17032544],\n",
              "       [1.02652879, 1.03044486, 0.94095658],\n",
              "       [0.52940146, 0.54258212, 1.24946815],\n",
              "       [0.63580935, 0.63051714, 1.07606849],\n",
              "       [0.30370887, 0.24927731, 1.34059186],\n",
              "       [0.36411201, 0.52355432, 1.48719384],\n",
              "       [1.05195989, 1.02661323, 0.50958049],\n",
              "       [0.49064667, 0.55435964, 1.29461436],\n",
              "       [0.3668513 , 0.4209501 , 1.30014189],\n",
              "       [0.76597673, 0.82443482, 1.10111569],\n",
              "       [0.78276447, 0.80999883, 1.13286126],\n",
              "       [0.48095722, 0.72485741, 1.6147951 ],\n",
              "       [0.35035146, 0.4996001 , 1.59337359],\n",
              "       [0.74472648, 0.73359403, 0.96843583],\n",
              "       [0.76849684, 0.83734837, 1.09589965],\n",
              "       [1.69059587, 1.75673176, 1.05176692],\n",
              "       [0.73449767, 0.78803452, 1.18747132],\n",
              "       [0.31286646, 0.2510346 , 1.36269629],\n",
              "       [0.23602154, 0.27685958, 1.50365587],\n",
              "       [0.76118021, 0.79716718, 1.07872601],\n",
              "       [0.71513426, 0.75365463, 1.16475082],\n",
              "       [0.41768985, 0.33413727, 1.59592907],\n",
              "       [1.17106798, 1.27648677, 1.3362474 ],\n",
              "       [0.32797342, 0.27784072, 1.38755587],\n",
              "       [0.72305842, 0.77620115, 1.12559543],\n",
              "       [0.56528838, 0.7023927 , 1.50292046],\n",
              "       [0.76379774, 0.88536944, 1.38695164],\n",
              "       [0.62436823, 0.65644798, 1.25350613],\n",
              "       [0.74145535, 0.7981894 , 1.20227681],\n",
              "       [0.57093472, 0.57107669, 1.20008247],\n",
              "       [0.232281  , 0.24810843, 1.507226  ],\n",
              "       [0.68444422, 0.63725116, 1.2814711 ],\n",
              "       [0.28046843, 0.42187671, 1.30045283],\n",
              "       [0.5330129 , 0.53432525, 1.27946828],\n",
              "       [1.02372429, 1.08651304, 0.94819589],\n",
              "       [0.8707861 , 0.88218004, 0.98548272],\n",
              "       [0.48018384, 0.37725342, 1.659669  ],\n",
              "       [1.02473872, 0.9702387 , 1.75237493],\n",
              "       [1.25036489, 1.25927878, 0.7244612 ],\n",
              "       [0.80822568, 0.7711151 , 0.83035843],\n",
              "       [0.4813153 , 0.40151891, 1.32738727],\n",
              "       [0.66474972, 0.72010649, 1.18074219],\n",
              "       [0.57803067, 0.59560367, 1.19300699],\n",
              "       [0.68530717, 0.64437961, 1.15077602],\n",
              "       [0.5244783 , 0.49422642, 1.21124751],\n",
              "       [0.79708438, 0.83366817, 1.07507055],\n",
              "       [0.89350049, 0.9381424 , 1.095679  ],\n",
              "       [1.46230205, 1.43537016, 0.        ],\n",
              "       [0.74524724, 0.76510106, 1.09457136],\n",
              "       [0.77036112, 0.78351932, 1.05622889],\n",
              "       [0.33128947, 0.37574441, 1.44714987],\n",
              "       [0.45001278, 0.3986792 , 1.27633966],\n",
              "       [0.75696843, 0.72117695, 0.84514359],\n",
              "       [0.23610765, 0.12836658, 1.38238864],\n",
              "       [0.77932751, 0.84807655, 1.2428943 ],\n",
              "       [0.81521937, 0.87249601, 1.15095118],\n",
              "       [0.53918595, 0.65550833, 1.73490851],\n",
              "       [1.55251896, 1.62744025, 1.22487184],\n",
              "       [0.82527841, 0.91065964, 1.10272784],\n",
              "       [0.86235625, 0.92125115, 1.04207176],\n",
              "       [0.36324456, 0.4705474 , 1.39742534],\n",
              "       [0.47113351, 0.60682869, 1.30898653],\n",
              "       [0.88885216, 0.91562739, 0.96516345],\n",
              "       [0.94232514, 0.96089085, 0.98988908],\n",
              "       [0.76974796, 0.72199065, 1.1722213 ],\n",
              "       [0.65338232, 0.66968783, 1.1633127 ],\n",
              "       [0.35598723, 0.24778968, 1.37821394],\n",
              "       [0.57476143, 0.61748188, 1.14056509],\n",
              "       [0.98530712, 1.0064003 , 0.85065358],\n",
              "       [1.19642505, 1.24261379, 0.84853753],\n",
              "       [0.40513258, 0.40227272, 1.31043588],\n",
              "       [0.2642477 , 0.16686467, 1.4380856 ],\n",
              "       [0.78653626, 0.81233423, 1.1246253 ],\n",
              "       [0.50292248, 0.36571092, 1.49713437],\n",
              "       [0.        , 0.25956544, 1.46230205],\n",
              "       [0.4953299 , 0.44547754, 1.26766034],\n",
              "       [0.67698609, 0.7011883 , 1.16785559],\n",
              "       [0.72746648, 0.71301837, 1.09758472],\n",
              "       [0.549892  , 0.57538173, 1.18610022],\n",
              "       [0.31547946, 0.29653901, 1.55514182],\n",
              "       [0.7148422 , 0.78509813, 1.22944585],\n",
              "       [0.9635047 , 0.97717279, 0.696944  ],\n",
              "       [0.90848083, 0.92375731, 0.93307796],\n",
              "       [1.17271024, 1.22849307, 1.21702082],\n",
              "       [0.73200614, 0.744124  , 1.1247408 ],\n",
              "       [0.57537664, 0.59510585, 1.23811801],\n",
              "       [0.40900158, 0.45141219, 1.27408185],\n",
              "       [0.81526065, 0.77134235, 1.12390491],\n",
              "       [0.67476778, 0.75279535, 1.26522664],\n",
              "       [0.38171457, 0.28060167, 1.32168729],\n",
              "       [0.27447871, 0.30145279, 1.47501506]])"
            ]
          },
          "metadata": {},
          "execution_count": 627
        }
      ]
    },
    {
      "cell_type": "code",
      "source": [
        "len(distances)"
      ],
      "metadata": {
        "colab": {
          "base_uri": "https://localhost:8080/"
        },
        "id": "CJhmZBtHzA_o",
        "outputId": "1566bbf0-cf91-47e2-a305-486fe53a4814"
      },
      "execution_count": null,
      "outputs": [
        {
          "output_type": "execute_result",
          "data": {
            "text/plain": [
              "167"
            ]
          },
          "metadata": {},
          "execution_count": 628
        }
      ]
    },
    {
      "cell_type": "code",
      "source": [
        "# Update anggota cluster\n",
        "# argmin berfungsi mencari index terkecil pada dimensi pertama pada data X\n",
        "closest = np.argmin(distances, axis=1)\n",
        "closest"
      ],
      "metadata": {
        "id": "JPtnxZB6KRF9",
        "colab": {
          "base_uri": "https://localhost:8080/"
        },
        "outputId": "a784d97b-27f4-4f14-b169-8e28af411b93"
      },
      "execution_count": null,
      "outputs": [
        {
          "output_type": "execute_result",
          "data": {
            "text/plain": [
              "array([1, 0, 1, 1, 0, 1, 0, 2, 2, 0, 0, 0, 1, 0, 0, 2, 0, 1, 0, 1, 0, 0,\n",
              "       0, 2, 0, 1, 0, 0, 1, 2, 0, 0, 1, 0, 1, 1, 1, 0, 1, 0, 0, 0, 2, 0,\n",
              "       2, 1, 0, 1, 0, 0, 1, 0, 0, 2, 0, 1, 1, 0, 2, 0, 0, 0, 1, 1, 0, 0,\n",
              "       0, 0, 2, 0, 1, 1, 1, 2, 1, 2, 1, 2, 0, 1, 1, 0, 2, 0, 0, 0, 0, 0,\n",
              "       0, 1, 0, 2, 0, 1, 0, 0, 0, 1, 0, 1, 0, 0, 0, 0, 0, 0, 0, 1, 0, 0,\n",
              "       2, 0, 1, 1, 2, 1, 1, 0, 0, 1, 1, 0, 0, 2, 0, 0, 0, 1, 1, 1, 0, 0,\n",
              "       0, 2, 0, 0, 0, 0, 0, 0, 1, 0, 1, 0, 2, 2, 1, 1, 0, 1, 0, 1, 0, 1,\n",
              "       0, 1, 0, 2, 0, 0, 0, 0, 0, 1, 0, 1, 0])"
            ]
          },
          "metadata": {},
          "execution_count": 629
        }
      ]
    },
    {
      "cell_type": "code",
      "source": [
        "X_arr[closest == 0]"
      ],
      "metadata": {
        "id": "rkcUA1cDrhYD"
      },
      "execution_count": null,
      "outputs": []
    },
    {
      "cell_type": "code",
      "source": [
        "X_arr[closest == 1]"
      ],
      "metadata": {
        "id": "U_jJJPWvrxrI"
      },
      "execution_count": null,
      "outputs": []
    },
    {
      "cell_type": "code",
      "source": [
        "X_arr[closest == 2]"
      ],
      "metadata": {
        "id": "pBtuqCvLryd9"
      },
      "execution_count": null,
      "outputs": []
    },
    {
      "cell_type": "code",
      "source": [
        "# Update centroid terbaru pada cluster ke-1 atau cluster 0\n",
        "X_arr[closest == 0].mean(axis=0)"
      ],
      "metadata": {
        "colab": {
          "base_uri": "https://localhost:8080/"
        },
        "id": "jhBX6VFBKTK-",
        "outputId": "633006fd-6a94-463f-f4de-612ea8036603"
      },
      "execution_count": null,
      "outputs": [
        {
          "output_type": "execute_result",
          "data": {
            "text/plain": [
              "array([0.16052601, 0.21249016, 0.3495459 , 0.30373457, 0.10042752,\n",
              "       0.09274877, 0.74308074, 0.23281096, 0.08017639])"
            ]
          },
          "metadata": {},
          "execution_count": 633
        }
      ]
    },
    {
      "cell_type": "code",
      "source": [
        "# Update dan menampilkan seluruh centroids\n",
        "for i in range(k):\n",
        "    centroids[i, :] = X_arr[closest == i].mean(axis=0)\n",
        "centroids"
      ],
      "metadata": {
        "colab": {
          "base_uri": "https://localhost:8080/"
        },
        "id": "3G-Hl9VzKY_1",
        "outputId": "f208e1d0-9a00-4762-bff8-02e3ba0acc6b"
      },
      "execution_count": null,
      "outputs": [
        {
          "output_type": "execute_result",
          "data": {
            "text/plain": [
              "array([[0.16052601, 0.21249016, 0.3495459 , 0.30373457, 0.10042752,\n",
              "        0.09274877, 0.74308074, 0.23281096, 0.08017639],\n",
              "       [0.26588832, 0.14174369, 0.20351867, 0.19231854, 0.06550004,\n",
              "        0.16061806, 0.70311789, 0.45428901, 0.03974293],\n",
              "       [0.01119766, 0.3236996 , 0.40290412, 0.30498756, 0.42973074,\n",
              "        0.06950752, 0.95454545, 0.09478061, 0.48969985]])"
            ]
          },
          "metadata": {},
          "execution_count": 634
        }
      ]
    },
    {
      "cell_type": "code",
      "source": [
        "# Melakukan testing pada program sebelumnya sekaligus memperlihatkan proses berjalannya looping\n",
        "np.random.seed(seed=0)\n",
        "centroids = X_arr[np.random.choice(n, k, replace=False)]\n",
        "closest = np.zeros(n).astype(int)\n",
        "z = 1\n",
        "while True:\n",
        "    # Menginisiasi closest ke dalam prevClosest\n",
        "    prevClosest = closest.copy()\n",
        "    print(\"Iterasi\",z,\":\")\n",
        "    print(closest)\n",
        "    z = z + 1\n",
        "    for i in range(k):\n",
        "      distances[:,i] = ((X_arr-centroids[i])**2).sum(axis=1)**0.5\n",
        "    closest = np.argmin(distances, axis=1)\n",
        "    \n",
        "    for i in range(k):\n",
        "        centroids[i, :] = X_arr[closest == i].mean(axis=0)\n",
        "        \n",
        "    if all(closest == prevClosest):\n",
        "        break"
      ],
      "metadata": {
        "colab": {
          "base_uri": "https://localhost:8080/"
        },
        "id": "PM2kmeWaKcuT",
        "outputId": "54d0d4d2-863b-4c3c-81c8-4b945bac8853"
      },
      "execution_count": null,
      "outputs": [
        {
          "output_type": "stream",
          "name": "stdout",
          "text": [
            "Iterasi 1 :\n",
            "[0 0 0 0 0 0 0 0 0 0 0 0 0 0 0 0 0 0 0 0 0 0 0 0 0 0 0 0 0 0 0 0 0 0 0 0 0\n",
            " 0 0 0 0 0 0 0 0 0 0 0 0 0 0 0 0 0 0 0 0 0 0 0 0 0 0 0 0 0 0 0 0 0 0 0 0 0\n",
            " 0 0 0 0 0 0 0 0 0 0 0 0 0 0 0 0 0 0 0 0 0 0 0 0 0 0 0 0 0 0 0 0 0 0 0 0 0\n",
            " 0 0 0 0 0 0 0 0 0 0 0 0 0 0 0 0 0 0 0 0 0 0 0 0 0 0 0 0 0 0 0 0 0 0 0 0 0\n",
            " 0 0 0 0 0 0 0 0 0 0 0 0 0 0 0 0 0 0 0]\n",
            "Iterasi 2 :\n",
            "[1 0 1 1 0 1 0 2 2 0 0 0 1 0 0 2 0 1 0 1 0 0 0 2 0 1 0 0 1 2 0 0 1 0 1 1 1\n",
            " 0 1 0 0 0 2 0 2 1 0 1 0 0 1 0 0 2 0 1 1 0 2 0 0 0 1 1 0 0 0 0 2 0 1 1 1 2\n",
            " 1 2 1 2 0 1 1 0 2 0 0 0 0 0 0 1 0 2 0 1 0 0 0 1 0 1 0 0 0 0 0 0 0 1 0 0 2\n",
            " 0 1 1 2 1 1 0 0 1 1 0 0 2 0 0 0 1 1 1 0 0 0 2 0 0 0 0 0 0 1 0 1 0 2 2 1 1\n",
            " 0 1 0 1 0 1 0 1 0 2 0 0 0 0 0 1 0 1 0]\n",
            "Iterasi 3 :\n",
            "[1 0 0 1 0 0 0 2 2 0 0 0 1 0 0 2 0 1 0 1 0 0 0 2 0 1 1 0 1 2 0 1 1 0 0 0 1\n",
            " 1 1 0 1 0 2 0 2 0 0 1 0 1 1 0 0 2 2 1 1 0 2 1 2 0 0 1 1 0 1 0 2 1 1 0 1 2\n",
            " 0 2 0 2 0 0 1 0 2 0 1 0 0 0 1 0 0 2 0 1 1 0 0 1 2 1 0 0 0 0 0 0 1 1 0 1 2\n",
            " 2 1 1 2 0 1 0 0 0 1 0 2 2 0 0 1 1 0 1 0 0 1 2 0 2 0 0 2 2 0 0 1 0 2 2 1 1\n",
            " 0 1 1 1 0 0 1 1 0 2 2 2 0 0 1 0 0 1 1]\n",
            "Iterasi 4 :\n",
            "[1 0 0 1 0 0 0 2 2 0 0 0 0 0 0 2 0 1 0 0 0 0 0 2 0 1 1 0 1 2 0 1 1 0 0 0 1\n",
            " 1 1 0 1 0 2 0 2 0 0 0 0 1 1 0 0 2 2 1 1 0 2 1 2 0 0 1 1 0 1 0 2 0 0 0 1 2\n",
            " 2 2 0 2 0 0 1 1 2 0 1 0 0 1 1 0 0 2 0 1 1 0 0 1 2 1 0 0 0 0 0 0 1 1 1 0 2\n",
            " 2 1 1 2 0 1 0 0 0 0 0 2 2 0 0 1 0 0 1 0 0 1 2 0 2 1 0 0 2 0 0 1 0 2 2 1 1\n",
            " 0 1 1 0 0 0 0 1 0 2 2 2 0 0 0 0 0 1 1]\n",
            "Iterasi 5 :\n",
            "[1 0 0 1 0 0 0 2 2 0 0 0 0 0 0 2 0 1 0 0 0 0 0 2 0 1 1 0 1 2 0 1 1 0 0 0 1\n",
            " 1 1 0 1 0 2 0 2 0 0 0 0 1 1 0 0 2 2 1 1 0 2 1 2 0 0 1 1 0 1 0 2 0 0 0 1 2\n",
            " 2 2 0 2 0 0 1 1 2 0 1 0 0 1 1 0 0 2 0 1 1 0 0 1 2 1 0 0 0 0 0 0 1 0 1 0 2\n",
            " 2 1 1 2 0 1 0 0 0 0 0 2 2 0 0 1 0 0 1 0 0 1 2 0 2 1 0 2 2 0 0 1 0 2 2 0 1\n",
            " 0 1 1 0 0 0 0 1 0 2 2 2 0 0 0 0 0 1 1]\n",
            "Iterasi 6 :\n",
            "[1 0 0 1 0 0 0 2 2 0 0 0 0 0 0 2 0 1 0 0 0 0 0 2 0 1 1 0 1 2 0 1 1 0 0 0 1\n",
            " 1 1 0 1 0 2 2 2 0 0 0 0 1 1 0 0 2 2 1 1 0 2 1 2 0 0 1 1 0 1 0 2 0 0 0 1 2\n",
            " 2 2 0 2 0 0 1 1 2 0 1 0 0 1 1 0 0 2 0 1 1 0 0 1 2 1 0 0 0 0 0 0 1 0 1 0 2\n",
            " 2 1 1 2 0 1 0 0 0 0 0 2 2 0 0 1 0 0 1 0 0 1 2 0 2 1 0 2 2 0 0 1 0 2 2 0 1\n",
            " 0 1 1 0 0 0 0 1 0 2 2 2 0 0 0 0 0 1 1]\n"
          ]
        }
      ]
    },
    {
      "cell_type": "code",
      "source": [
        "def kmeans(X_arr, k):\n",
        "    # Inisiasi sembarang centroids\n",
        "    n = X_arr.shape[0]\n",
        "    centroids = X_arr[np.random.choice(n, k, replace=False)]    \n",
        "    closest = np.zeros(n).astype(int)\n",
        "    \n",
        "    while True:\n",
        "        prevClosest = closest.copy()\n",
        "        \n",
        "        # Update anggota cluster\n",
        "        for i in range(k):\n",
        "          distances[:,i] = ((X_arr-centroids[i])**2).sum(axis=1)**0.5\n",
        "        closest = np.argmin(distances, axis=1)\n",
        "        \n",
        "        # Update centroid \n",
        "        for i in range(k):\n",
        "            centroids[i, :] = X_arr[closest == i].mean(axis=0)\n",
        "            \n",
        "        # Hentikan function ketika tidak ada perubahan \n",
        "        if all(closest == prevClosest):\n",
        "            break\n",
        "            \n",
        "    return closest, centroids"
      ],
      "metadata": {
        "id": "mGfySefeKvr5"
      },
      "execution_count": null,
      "outputs": []
    },
    {
      "cell_type": "code",
      "source": [
        "labels, centroids = kmeans(X_arr, 3)\n",
        "print(labels)\n",
        "print(\" \")\n",
        "print(centroids)"
      ],
      "metadata": {
        "colab": {
          "base_uri": "https://localhost:8080/"
        },
        "id": "CNU5Obz5K3ZC",
        "outputId": "2675a03a-905e-482e-e3b4-cee48ff061c4"
      },
      "execution_count": null,
      "outputs": [
        {
          "output_type": "stream",
          "name": "stdout",
          "text": [
            "[1 0 0 1 0 0 0 2 2 0 0 0 0 0 0 2 0 1 0 0 0 0 0 2 0 1 1 0 1 2 0 1 1 0 0 0 1\n",
            " 1 1 0 1 0 2 2 2 0 0 0 0 1 1 0 0 2 2 1 1 0 2 1 2 0 0 1 1 0 1 0 2 0 0 0 1 2\n",
            " 2 2 0 2 0 0 1 1 2 0 1 0 0 1 1 0 0 2 0 1 1 0 0 1 2 1 0 0 0 0 0 0 1 0 1 0 2\n",
            " 2 1 1 2 0 1 0 0 0 0 0 2 2 0 0 1 0 0 1 0 0 1 2 2 2 1 0 2 2 0 0 1 0 2 2 0 1\n",
            " 0 1 1 0 0 0 0 1 0 2 2 2 0 0 0 0 0 1 1]\n",
            " \n",
            "[[0.09652182 0.20147696 0.27380866 0.26944838 0.09777085 0.10922302\n",
            "  0.79847255 0.18032426 0.06193426]\n",
            " [0.44150332 0.14597042 0.28144675 0.24855348 0.02337632 0.15069832\n",
            "  0.5383329  0.62148539 0.01398231]\n",
            " [0.01118375 0.29177116 0.44172956 0.29575955 0.36332096 0.0623325\n",
            "  0.94961961 0.0932402  0.40934   ]]\n"
          ]
        }
      ]
    },
    {
      "cell_type": "code",
      "source": [
        "pd.Series(labels).value_counts()"
      ],
      "metadata": {
        "colab": {
          "base_uri": "https://localhost:8080/"
        },
        "id": "I_PjtVaYLguZ",
        "outputId": "b072715c-535b-4d8b-825d-39d8164c9a04"
      },
      "execution_count": null,
      "outputs": [
        {
          "output_type": "execute_result",
          "data": {
            "text/plain": [
              "0    86\n",
              "1    46\n",
              "2    35\n",
              "dtype: int64"
            ]
          },
          "metadata": {},
          "execution_count": 638
        }
      ]
    },
    {
      "cell_type": "markdown",
      "source": [
        "##**Visualisasi**"
      ],
      "metadata": {
        "id": "LNd4A_8GVt6k"
      }
    },
    {
      "cell_type": "code",
      "source": [
        "# Scatter Plot seluruh data kecuali kolom country\n",
        "sns.scatterplot(X_arr[:,0],X_arr[:,1],hue=labels)\n",
        "plt.title(\"Country Data\", fontsize=14)\n",
        "plt.grid()\n",
        "plt.show()"
      ],
      "metadata": {
        "colab": {
          "base_uri": "https://localhost:8080/",
          "height": 299
        },
        "id": "QUlKsPROKpDT",
        "outputId": "dbd69130-54b7-408f-c116-dc791f47bb59"
      },
      "execution_count": null,
      "outputs": [
        {
          "output_type": "display_data",
          "data": {
            "text/plain": [
              "<Figure size 432x288 with 1 Axes>"
            ],
            "image/png": "[encoded data removed]"
          },
          "metadata": {}
        }
      ]
    },
    {
      "cell_type": "code",
      "source": [
        "fig = plt.subplots(nrows = 3, ncols = 3, figsize = (15,15))\n",
        "\n",
        "#Visualisasi antara cluster child mortality dan gdpp\n",
        "plt.subplot(3,3,1)\n",
        "sns.scatterplot(data_minmax['child_mort'],data_minmax['gdpp'],hue=labels,data=data_minmax) \n",
        "plt.title(\"Child Mortality vs GDPP\", fontsize=14)\n",
        "plt.xlabel(\"Child Mortality\", fontsize=12)\n",
        "plt.ylabel(\"gdpp\", fontsize=12)\n",
        "plt.grid()\n",
        "#plt.show()\n",
        "\n",
        "#Visualisasi antara cluster exports dan gdpp\n",
        "plt.subplot(3,3,2)\n",
        "sns.scatterplot(data_minmax['exports'],data_minmax['gdpp'],hue=labels,data=data_minmax) \n",
        "plt.title(\"Exports vs GDPP\", fontsize=14)\n",
        "plt.xlabel(\"Exports\", fontsize=12)\n",
        "plt.ylabel(\"gdpp\", fontsize=12)\n",
        "plt.grid()\n",
        "#plt.show()\n",
        "\n",
        "#Visualisasi antara cluster health dan gdpp\n",
        "plt.subplot(3,3,3)\n",
        "sns.scatterplot(data_minmax['health'],data_minmax['gdpp'],hue=labels,data=data_minmax) \n",
        "plt.title(\"Health vs GDPP\", fontsize=14)\n",
        "plt.xlabel(\"Health\", fontsize=12)\n",
        "plt.ylabel(\"gdpp\", fontsize=12)\n",
        "plt.grid()\n",
        "\n",
        "#Visualisasi antara cluster imports dan gdpp\n",
        "plt.subplot(3,3,4)\n",
        "sns.scatterplot(data_minmax['imports'],data_minmax['gdpp'],hue=labels,data=data_minmax) \n",
        "plt.title(\"Imports vs GDPP\", fontsize=14)\n",
        "plt.xlabel(\"imports\", fontsize=12)\n",
        "plt.ylabel(\"gdpp\", fontsize=12)\n",
        "plt.grid()\n",
        "\n",
        "#Visualisasi antara cluster income dan gdpp\n",
        "plt.subplot(3,3,5)\n",
        "sns.scatterplot(data_minmax['income'],data_minmax['gdpp'],hue=labels,data=data_minmax) \n",
        "plt.title(\"Income vs GDPP\", fontsize=14)\n",
        "plt.xlabel(\"Income\", fontsize=12)\n",
        "plt.ylabel(\"gdpp\", fontsize=12)\n",
        "plt.grid()\n",
        "\n",
        "#Visualisasi antara cluster inflation dan gdpp\n",
        "plt.subplot(3,3,6)\n",
        "sns.scatterplot(data_minmax['inflation'],data_minmax['gdpp'],hue=labels,data=data_minmax) \n",
        "plt.title(\"Inflation vs GDPP\", fontsize=14)\n",
        "plt.xlabel(\"Inflation\", fontsize=12)\n",
        "plt.ylabel(\"gdpp\", fontsize=12)\n",
        "plt.grid()\n",
        "\n",
        "#Visualisasi antara cluster life expectation atau ekspetasi lamanya hidup dan gdpp\n",
        "plt.subplot(3,3,7)\n",
        "sns.scatterplot(data_minmax['life_expec'],data_minmax['gdpp'],hue=labels,data=data_minmax) \n",
        "plt.title(\"life expectation vs GDPP\", fontsize=14)\n",
        "plt.xlabel(\"life expectation\", fontsize=12)\n",
        "plt.ylabel(\"gdpp\", fontsize=12)\n",
        "plt.grid()\n",
        "\n",
        "#Visualisasi antara cluster total fertilization / angka kelahiran dan gdpp\n",
        "plt.subplot(3,3,8)\n",
        "sns.scatterplot(data_minmax['total_fer'],data_minmax['gdpp'],hue=labels,data=data_minmax) \n",
        "plt.title(\"total fertilization vs GDPP\", fontsize=14)\n",
        "plt.xlabel(\"total fertilization\", fontsize=12)\n",
        "plt.ylabel(\"gdpp\", fontsize=12)\n",
        "plt.grid()\n",
        "\n",
        "\n",
        "\n",
        "plt.show()"
      ],
      "metadata": {
        "colab": {
          "base_uri": "https://localhost:8080/",
          "height": 957
        },
        "id": "NUYXAQa06XxE",
        "outputId": "13381452-da7a-47b6-c1b9-ec93fd8bdd3b"
      },
      "execution_count": null,
      "outputs": [
        {
          "output_type": "display_data",
          "data": {
            "text/plain": [
              "<Figure size 1080x1080 with 9 Axes>"
            ],
            "image/png": "[encoded data removed]"
          },
          "metadata": {}
        }
      ]
    },
    {
      "cell_type": "code",
      "source": [
        "# Menambahkan list labels ke dalam dataFrame dengan nama Cluster\n",
        "data_minmax['Cluster'] = labels"
      ],
      "metadata": {
        "id": "ZCf77CZ9uFI6"
      },
      "execution_count": null,
      "outputs": []
    },
    {
      "cell_type": "code",
      "source": [
        "# Memasukkan kembali kolom country\n",
        "data_minmax.insert(loc = 0, value = list(countrydata['country']), column = 'country')"
      ],
      "metadata": {
        "id": "cHipLQnLv9uh"
      },
      "execution_count": null,
      "outputs": []
    },
    {
      "cell_type": "code",
      "source": [
        "data_minmax"
      ],
      "metadata": {
        "colab": {
          "base_uri": "https://localhost:8080/",
          "height": 424
        },
        "id": "C7fsQ_jIu1g_",
        "outputId": "2cd33013-974e-4f3b-fe7d-583971610031"
      },
      "execution_count": null,
      "outputs": [
        {
          "output_type": "execute_result",
          "data": {
            "text/plain": [
              "                 country  child_mort   exports    health   imports    income  \\\n",
              "0            Afghanistan    0.426485  0.049482  0.358608  0.257765  0.008047   \n",
              "1                Albania    0.068160  0.139531  0.294593  0.279037  0.074933   \n",
              "2                Algeria    0.120253  0.191559  0.146675  0.180149  0.098809   \n",
              "3                 Angola    0.566699  0.311125  0.064636  0.246266  0.042535   \n",
              "4    Antigua and Barbuda    0.037488  0.227079  0.262275  0.338255  0.148652   \n",
              "..                   ...         ...       ...       ...       ...       ...   \n",
              "162              Vanuatu    0.129503  0.232582  0.213797  0.302609  0.018820   \n",
              "163            Venezuela    0.070594  0.142032  0.192666  0.100809  0.127750   \n",
              "164              Vietnam    0.100779  0.359651  0.312617  0.460715  0.031200   \n",
              "165                Yemen    0.261441  0.149536  0.209447  0.197397  0.031120   \n",
              "166               Zambia    0.391918  0.184556  0.253574  0.177275  0.021473   \n",
              "\n",
              "     inflation  life_expec  total_fer      gdpp  Cluster  \n",
              "0     0.126144    0.475345   0.736593  0.003073        1  \n",
              "1     0.080399    0.871795   0.078864  0.036833        0  \n",
              "2     0.187691    0.875740   0.274448  0.040365        0  \n",
              "3     0.245911    0.552268   0.790221  0.031488        1  \n",
              "4     0.052213    0.881657   0.154574  0.114242        0  \n",
              "..         ...         ...        ...       ...      ...  \n",
              "162   0.063118    0.609467   0.370662  0.026143        0  \n",
              "163   0.463081    0.854043   0.208202  0.126650        0  \n",
              "164   0.150725    0.808679   0.126183  0.010299        0  \n",
              "165   0.257000    0.698225   0.555205  0.010299        1  \n",
              "166   0.168284    0.392505   0.670347  0.011731        1  \n",
              "\n",
              "[167 rows x 11 columns]"
            ],
            "text/html": [
              "\n",
              "  <div id=\"df-9ecd050a-aacd-47bd-beb1-ea48e5249745\">\n",
              "    <div class=\"colab-df-container\">\n",
              "      <div>\n",
              "<style scoped>\n",
              "    .dataframe tbody tr th:only-of-type {\n",
              "        vertical-align: middle;\n",
              "    }\n",
              "\n",
              "    .dataframe tbody tr th {\n",
              "        vertical-align: top;\n",
              "    }\n",
              "\n",
              "    .dataframe thead th {\n",
              "        text-align: right;\n",
              "    }\n",
              "</style>\n",
              "<table border=\"1\" class=\"dataframe\">\n",
              "  <thead>\n",
              "    <tr style=\"text-align: right;\">\n",
              "      <th></th>\n",
              "      <th>country</th>\n",
              "      <th>child_mort</th>\n",
              "      <th>exports</th>\n",
              "      <th>health</th>\n",
              "      <th>imports</th>\n",
              "      <th>income</th>\n",
              "      <th>inflation</th>\n",
              "      <th>life_expec</th>\n",
              "      <th>total_fer</th>\n",
              "      <th>gdpp</th>\n",
              "      <th>Cluster</th>\n",
              "    </tr>\n",
              "  </thead>\n",
              "  <tbody>\n",
              "    <tr>\n",
              "      <th>0</th>\n",
              "      <td>Afghanistan</td>\n",
              "      <td>0.426485</td>\n",
              "      <td>0.049482</td>\n",
              "      <td>0.358608</td>\n",
              "      <td>0.257765</td>\n",
              "      <td>0.008047</td>\n",
              "      <td>0.126144</td>\n",
              "      <td>0.475345</td>\n",
              "      <td>0.736593</td>\n",
              "      <td>0.003073</td>\n",
              "      <td>1</td>\n",
              "    </tr>\n",
              "    <tr>\n",
              "      <th>1</th>\n",
              "      <td>Albania</td>\n",
              "      <td>0.068160</td>\n",
              "      <td>0.139531</td>\n",
              "      <td>0.294593</td>\n",
              "      <td>0.279037</td>\n",
              "      <td>0.074933</td>\n",
              "      <td>0.080399</td>\n",
              "      <td>0.871795</td>\n",
              "      <td>0.078864</td>\n",
              "      <td>0.036833</td>\n",
              "      <td>0</td>\n",
              "    </tr>\n",
              "    <tr>\n",
              "      <th>2</th>\n",
              "      <td>Algeria</td>\n",
              "      <td>0.120253</td>\n",
              "      <td>0.191559</td>\n",
              "      <td>0.146675</td>\n",
              "      <td>0.180149</td>\n",
              "      <td>0.098809</td>\n",
              "      <td>0.187691</td>\n",
              "      <td>0.875740</td>\n",
              "      <td>0.274448</td>\n",
              "      <td>0.040365</td>\n",
              "      <td>0</td>\n",
              "    </tr>\n",
              "    <tr>\n",
              "      <th>3</th>\n",
              "      <td>Angola</td>\n",
              "      <td>0.566699</td>\n",
              "      <td>0.311125</td>\n",
              "      <td>0.064636</td>\n",
              "      <td>0.246266</td>\n",
              "      <td>0.042535</td>\n",
              "      <td>0.245911</td>\n",
              "      <td>0.552268</td>\n",
              "      <td>0.790221</td>\n",
              "      <td>0.031488</td>\n",
              "      <td>1</td>\n",
              "    </tr>\n",
              "    <tr>\n",
              "      <th>4</th>\n",
              "      <td>Antigua and Barbuda</td>\n",
              "      <td>0.037488</td>\n",
              "      <td>0.227079</td>\n",
              "      <td>0.262275</td>\n",
              "      <td>0.338255</td>\n",
              "      <td>0.148652</td>\n",
              "      <td>0.052213</td>\n",
              "      <td>0.881657</td>\n",
              "      <td>0.154574</td>\n",
              "      <td>0.114242</td>\n",
              "      <td>0</td>\n",
              "    </tr>\n",
              "    <tr>\n",
              "      <th>...</th>\n",
              "      <td>...</td>\n",
              "      <td>...</td>\n",
              "      <td>...</td>\n",
              "      <td>...</td>\n",
              "      <td>...</td>\n",
              "      <td>...</td>\n",
              "      <td>...</td>\n",
              "      <td>...</td>\n",
              "      <td>...</td>\n",
              "      <td>...</td>\n",
              "      <td>...</td>\n",
              "    </tr>\n",
              "    <tr>\n",
              "      <th>162</th>\n",
              "      <td>Vanuatu</td>\n",
              "      <td>0.129503</td>\n",
              "      <td>0.232582</td>\n",
              "      <td>0.213797</td>\n",
              "      <td>0.302609</td>\n",
              "      <td>0.018820</td>\n",
              "      <td>0.063118</td>\n",
              "      <td>0.609467</td>\n",
              "      <td>0.370662</td>\n",
              "      <td>0.026143</td>\n",
              "      <td>0</td>\n",
              "    </tr>\n",
              "    <tr>\n",
              "      <th>163</th>\n",
              "      <td>Venezuela</td>\n",
              "      <td>0.070594</td>\n",
              "      <td>0.142032</td>\n",
              "      <td>0.192666</td>\n",
              "      <td>0.100809</td>\n",
              "      <td>0.127750</td>\n",
              "      <td>0.463081</td>\n",
              "      <td>0.854043</td>\n",
              "      <td>0.208202</td>\n",
              "      <td>0.126650</td>\n",
              "      <td>0</td>\n",
              "    </tr>\n",
              "    <tr>\n",
              "      <th>164</th>\n",
              "      <td>Vietnam</td>\n",
              "      <td>0.100779</td>\n",
              "      <td>0.359651</td>\n",
              "      <td>0.312617</td>\n",
              "      <td>0.460715</td>\n",
              "      <td>0.031200</td>\n",
              "      <td>0.150725</td>\n",
              "      <td>0.808679</td>\n",
              "      <td>0.126183</td>\n",
              "      <td>0.010299</td>\n",
              "      <td>0</td>\n",
              "    </tr>\n",
              "    <tr>\n",
              "      <th>165</th>\n",
              "      <td>Yemen</td>\n",
              "      <td>0.261441</td>\n",
              "      <td>0.149536</td>\n",
              "      <td>0.209447</td>\n",
              "      <td>0.197397</td>\n",
              "      <td>0.031120</td>\n",
              "      <td>0.257000</td>\n",
              "      <td>0.698225</td>\n",
              "      <td>0.555205</td>\n",
              "      <td>0.010299</td>\n",
              "      <td>1</td>\n",
              "    </tr>\n",
              "    <tr>\n",
              "      <th>166</th>\n",
              "      <td>Zambia</td>\n",
              "      <td>0.391918</td>\n",
              "      <td>0.184556</td>\n",
              "      <td>0.253574</td>\n",
              "      <td>0.177275</td>\n",
              "      <td>0.021473</td>\n",
              "      <td>0.168284</td>\n",
              "      <td>0.392505</td>\n",
              "      <td>0.670347</td>\n",
              "      <td>0.011731</td>\n",
              "      <td>1</td>\n",
              "    </tr>\n",
              "  </tbody>\n",
              "</table>\n",
              "<p>167 rows × 11 columns</p>\n",
              "</div>\n",
              "      <button class=\"colab-df-convert\" onclick=\"convertToInteractive('df-9ecd050a-aacd-47bd-beb1-ea48e5249745')\"\n",
              "              title=\"Convert this dataframe to an interactive table.\"\n",
              "              style=\"display:none;\">\n",
              "        \n",
              "  <svg xmlns=\"http://www.w3.org/2000/svg\" height=\"24px\"viewBox=\"0 0 24 24\"\n",
              "       width=\"24px\">\n",
              "    <path d=\"M0 0h24v24H0V0z\" fill=\"none\"/>\n",
              "    <path d=\"M18.56 5.44l.94 2.06.94-2.06 2.06-.94-2.06-.94-.94-2.06-.94 2.06-2.06.94zm-11 1L8.5 8.5l.94-2.06 2.06-.94-2.06-.94L8.5 2.5l-.94 2.06-2.06.94zm10 10l.94 2.06.94-2.06 2.06-.94-2.06-.94-.94-2.06-.94 2.06-2.06.94z\"/><path d=\"M17.41 7.96l-1.37-1.37c-.4-.4-.92-.59-1.43-.59-.52 0-1.04.2-1.43.59L10.3 9.45l-7.72 7.72c-.78.78-.78 2.05 0 2.83L4 21.41c.39.39.9.59 1.41.59.51 0 1.02-.2 1.41-.59l7.78-7.78 2.81-2.81c.8-.78.8-2.07 0-2.86zM5.41 20L4 18.59l7.72-7.72 1.47 1.35L5.41 20z\"/>\n",
              "  </svg>\n",
              "      </button>\n",
              "      \n",
              "  <style>\n",
              "    .colab-df-container {\n",
              "      display:flex;\n",
              "      flex-wrap:wrap;\n",
              "      gap: 12px;\n",
              "    }\n",
              "\n",
              "    .colab-df-convert {\n",
              "      background-color: #E8F0FE;\n",
              "      border: none;\n",
              "      border-radius: 50%;\n",
              "      cursor: pointer;\n",
              "      display: none;\n",
              "      fill: #1967D2;\n",
              "      height: 32px;\n",
              "      padding: 0 0 0 0;\n",
              "      width: 32px;\n",
              "    }\n",
              "\n",
              "    .colab-df-convert:hover {\n",
              "      background-color: #E2EBFA;\n",
              "      box-shadow: 0px 1px 2px rgba(60, 64, 67, 0.3), 0px 1px 3px 1px rgba(60, 64, 67, 0.15);\n",
              "      fill: #174EA6;\n",
              "    }\n",
              "\n",
              "    [theme=dark] .colab-df-convert {\n",
              "      background-color: #3B4455;\n",
              "      fill: #D2E3FC;\n",
              "    }\n",
              "\n",
              "    [theme=dark] .colab-df-convert:hover {\n",
              "      background-color: #434B5C;\n",
              "      box-shadow: 0px 1px 3px 1px rgba(0, 0, 0, 0.15);\n",
              "      filter: drop-shadow(0px 1px 2px rgba(0, 0, 0, 0.3));\n",
              "      fill: #FFFFFF;\n",
              "    }\n",
              "  </style>\n",
              "\n",
              "      <script>\n",
              "        const buttonEl =\n",
              "          document.querySelector('#df-9ecd050a-aacd-47bd-beb1-ea48e5249745 button.colab-df-convert');\n",
              "        buttonEl.style.display =\n",
              "          google.colab.kernel.accessAllowed ? 'block' : 'none';\n",
              "\n",
              "        async function convertToInteractive(key) {\n",
              "          const element = document.querySelector('#df-9ecd050a-aacd-47bd-beb1-ea48e5249745');\n",
              "          const dataTable =\n",
              "            await google.colab.kernel.invokeFunction('convertToInteractive',\n",
              "                                                     [key], {});\n",
              "          if (!dataTable) return;\n",
              "\n",
              "          const docLinkHtml = 'Like what you see? Visit the ' +\n",
              "            '<a target=\"_blank\" href=https://colab.research.google.com/notebooks/data_table.ipynb>data table notebook</a>'\n",
              "            + ' to learn more about interactive tables.';\n",
              "          element.innerHTML = '';\n",
              "          dataTable['output_type'] = 'display_data';\n",
              "          await google.colab.output.renderOutput(dataTable, element);\n",
              "          const docLink = document.createElement('div');\n",
              "          docLink.innerHTML = docLinkHtml;\n",
              "          element.appendChild(docLink);\n",
              "        }\n",
              "      </script>\n",
              "    </div>\n",
              "  </div>\n",
              "  "
            ]
          },
          "metadata": {},
          "execution_count": 643
        }
      ]
    },
    {
      "cell_type": "code",
      "source": [
        "#Visualisasi menggunakan pemetaan peta\n",
        "import plotly.express as px\n",
        "\n",
        "data_minmax['Cluster'].loc[data_minmax['Cluster'] == 0] = '0'\n",
        "data_minmax['Cluster'].loc[data_minmax['Cluster'] == 1] = '1'\n",
        "data_minmax['Cluster'].loc[data_minmax['Cluster'] == 2] = '2'\n",
        "\n",
        "fig = px.choropleth(data_minmax[['country','Cluster']],\n",
        "                    locationmode = 'country names',\n",
        "                    locations = 'country',\n",
        "                    title = 'Pemetaan Negara Yang Memerlukan Bantuan',\n",
        "                    color = data_minmax['Cluster'],  \n",
        "                    color_discrete_map = {'0':'Yellow',\n",
        "                                        '1':'Red',\n",
        "                                        '2':'Green'}\n",
        "                   )\n",
        "fig.update_geos(fitbounds = \"locations\", visible = True)\n",
        "fig.update_layout(legend_title_text = 'Keterangan',legend_title_side = 'top',title_pad_l = 130,title_y = 1)\n",
        "fig.show()"
      ],
      "metadata": {
        "colab": {
          "base_uri": "https://localhost:8080/",
          "height": 542
        },
        "id": "8dRFsudlu85L",
        "outputId": "7eb0991a-ad2f-4e96-9673-9b3953f3dbd5"
      },
      "execution_count": null,
      "outputs": [
        {
          "output_type": "display_data",
          "data": {
            "text/html": [
              "<html>\n",
              "<head><meta charset=\"utf-8\" /></head>\n",
              "<body>\n",
              "    <div>            <script src=\"https://cdnjs.cloudflare.com/ajax/libs/mathjax/2.7.5/MathJax.js?config=TeX-AMS-MML_SVG\"></script><script type=\"text/javascript\">if (window.MathJax) {MathJax.Hub.Config({SVG: {font: \"STIX-Web\"}});}</script>                <script type=\"text/javascript\">window.PlotlyConfig = {MathJaxConfig: 'local'};</script>\n",
              "        <script src=\"https://cdn.plot.ly/plotly-2.8.3.min.js\"></script>                <div id=\"2f3afe4f-e3d6-446c-bbcb-ca475e7d0cea\" class=\"plotly-graph-div\" style=\"height:525px; width:100%;\"></div>            <script type=\"text/javascript\">                                    window.PLOTLYENV=window.PLOTLYENV || {};                                    if (document.getElementById(\"2f3afe4f-e3d6-446c-bbcb-ca475e7d0cea\")) {                    Plotly.newPlot(                        \"2f3afe4f-e3d6-446c-bbcb-ca475e7d0cea\",                        [{\"colorscale\":[[0.0,\"Red\"],[1.0,\"Red\"]],\"geo\":\"geo\",\"hovertemplate\":\"color=1<br>country=%{location}<extra></extra>\",\"locationmode\":\"country names\",\"locations\":[\"Afghanistan\",\"Angola\",\"Benin\",\"Burkina Faso\",\"Burundi\",\"Cameroon\",\"Central African Republic\",\"Chad\",\"Comoros\",\"Congo, Dem. Rep.\",\"Congo, Rep.\",\"Cote d'Ivoire\",\"Equatorial Guinea\",\"Eritrea\",\"Gabon\",\"Gambia\",\"Ghana\",\"Guinea\",\"Guinea-Bissau\",\"Haiti\",\"Iraq\",\"Kenya\",\"Kiribati\",\"Lao\",\"Lesotho\",\"Liberia\",\"Madagascar\",\"Malawi\",\"Mali\",\"Mauritania\",\"Mozambique\",\"Namibia\",\"Niger\",\"Nigeria\",\"Pakistan\",\"Rwanda\",\"Senegal\",\"Sierra Leone\",\"Solomon Islands\",\"Sudan\",\"Tanzania\",\"Timor-Leste\",\"Togo\",\"Uganda\",\"Yemen\",\"Zambia\"],\"name\":\"1\",\"showlegend\":true,\"showscale\":false,\"z\":[1,1,1,1,1,1,1,1,1,1,1,1,1,1,1,1,1,1,1,1,1,1,1,1,1,1,1,1,1,1,1,1,1,1,1,1,1,1,1,1,1,1,1,1,1,1],\"type\":\"choropleth\"},{\"colorscale\":[[0.0,\"Yellow\"],[1.0,\"Yellow\"]],\"geo\":\"geo\",\"hovertemplate\":\"color=0<br>country=%{location}<extra></extra>\",\"locationmode\":\"country names\",\"locations\":[\"Albania\",\"Algeria\",\"Antigua and Barbuda\",\"Argentina\",\"Armenia\",\"Azerbaijan\",\"Bahamas\",\"Bahrain\",\"Bangladesh\",\"Barbados\",\"Belarus\",\"Belize\",\"Bhutan\",\"Bolivia\",\"Bosnia and Herzegovina\",\"Botswana\",\"Brazil\",\"Bulgaria\",\"Cambodia\",\"Cape Verde\",\"Chile\",\"China\",\"Colombia\",\"Costa Rica\",\"Croatia\",\"Dominican Republic\",\"Ecuador\",\"Egypt\",\"El Salvador\",\"Estonia\",\"Fiji\",\"Georgia\",\"Grenada\",\"Guatemala\",\"Guyana\",\"Hungary\",\"India\",\"Indonesia\",\"Iran\",\"Jamaica\",\"Jordan\",\"Kazakhstan\",\"Kyrgyz Republic\",\"Latvia\",\"Lebanon\",\"Libya\",\"Lithuania\",\"Macedonia, FYR\",\"Malaysia\",\"Maldives\",\"Mauritius\",\"Micronesia, Fed. Sts.\",\"Moldova\",\"Mongolia\",\"Montenegro\",\"Morocco\",\"Myanmar\",\"Nepal\",\"Oman\",\"Panama\",\"Paraguay\",\"Peru\",\"Philippines\",\"Poland\",\"Romania\",\"Russia\",\"Samoa\",\"Saudi Arabia\",\"Serbia\",\"Seychelles\",\"South Africa\",\"Sri Lanka\",\"St. Vincent and the Grenadines\",\"Suriname\",\"Tajikistan\",\"Thailand\",\"Tonga\",\"Tunisia\",\"Turkey\",\"Turkmenistan\",\"Ukraine\",\"Uruguay\",\"Uzbekistan\",\"Vanuatu\",\"Venezuela\",\"Vietnam\"],\"name\":\"0\",\"showlegend\":true,\"showscale\":false,\"z\":[1,1,1,1,1,1,1,1,1,1,1,1,1,1,1,1,1,1,1,1,1,1,1,1,1,1,1,1,1,1,1,1,1,1,1,1,1,1,1,1,1,1,1,1,1,1,1,1,1,1,1,1,1,1,1,1,1,1,1,1,1,1,1,1,1,1,1,1,1,1,1,1,1,1,1,1,1,1,1,1,1,1,1,1,1,1],\"type\":\"choropleth\"},{\"colorscale\":[[0.0,\"Green\"],[1.0,\"Green\"]],\"geo\":\"geo\",\"hovertemplate\":\"color=2<br>country=%{location}<extra></extra>\",\"locationmode\":\"country names\",\"locations\":[\"Australia\",\"Austria\",\"Belgium\",\"Brunei\",\"Canada\",\"Cyprus\",\"Czech Republic\",\"Denmark\",\"Finland\",\"France\",\"Germany\",\"Greece\",\"Iceland\",\"Ireland\",\"Israel\",\"Italy\",\"Japan\",\"Kuwait\",\"Luxembourg\",\"Malta\",\"Netherlands\",\"New Zealand\",\"Norway\",\"Portugal\",\"Qatar\",\"Singapore\",\"Slovak Republic\",\"Slovenia\",\"South Korea\",\"Spain\",\"Sweden\",\"Switzerland\",\"United Arab Emirates\",\"United Kingdom\",\"United States\"],\"name\":\"2\",\"showlegend\":true,\"showscale\":false,\"z\":[1,1,1,1,1,1,1,1,1,1,1,1,1,1,1,1,1,1,1,1,1,1,1,1,1,1,1,1,1,1,1,1,1,1,1],\"type\":\"choropleth\"}],                        {\"template\":{\"data\":{\"bar\":[{\"error_x\":{\"color\":\"#2a3f5f\"},\"error_y\":{\"color\":\"#2a3f5f\"},\"marker\":{\"line\":{\"color\":\"#E5ECF6\",\"width\":0.5},\"pattern\":{\"fillmode\":\"overlay\",\"size\":10,\"solidity\":0.2}},\"type\":\"bar\"}],\"barpolar\":[{\"marker\":{\"line\":{\"color\":\"#E5ECF6\",\"width\":0.5},\"pattern\":{\"fillmode\":\"overlay\",\"size\":10,\"solidity\":0.2}},\"type\":\"barpolar\"}],\"carpet\":[{\"aaxis\":{\"endlinecolor\":\"#2a3f5f\",\"gridcolor\":\"white\",\"linecolor\":\"white\",\"minorgridcolor\":\"white\",\"startlinecolor\":\"#2a3f5f\"},\"baxis\":{\"endlinecolor\":\"#2a3f5f\",\"gridcolor\":\"white\",\"linecolor\":\"white\",\"minorgridcolor\":\"white\",\"startlinecolor\":\"#2a3f5f\"},\"type\":\"carpet\"}],\"choropleth\":[{\"colorbar\":{\"outlinewidth\":0,\"ticks\":\"\"},\"type\":\"choropleth\"}],\"contour\":[{\"colorbar\":{\"outlinewidth\":0,\"ticks\":\"\"},\"colorscale\":[[0.0,\"#0d0887\"],[0.1111111111111111,\"#46039f\"],[0.2222222222222222,\"#7201a8\"],[0.3333333333333333,\"#9c179e\"],[0.4444444444444444,\"#bd3786\"],[0.5555555555555556,\"#d8576b\"],[0.6666666666666666,\"#ed7953\"],[0.7777777777777778,\"#fb9f3a\"],[0.8888888888888888,\"#fdca26\"],[1.0,\"#f0f921\"]],\"type\":\"contour\"}],\"contourcarpet\":[{\"colorbar\":{\"outlinewidth\":0,\"ticks\":\"\"},\"type\":\"contourcarpet\"}],\"heatmap\":[{\"colorbar\":{\"outlinewidth\":0,\"ticks\":\"\"},\"colorscale\":[[0.0,\"#0d0887\"],[0.1111111111111111,\"#46039f\"],[0.2222222222222222,\"#7201a8\"],[0.3333333333333333,\"#9c179e\"],[0.4444444444444444,\"#bd3786\"],[0.5555555555555556,\"#d8576b\"],[0.6666666666666666,\"#ed7953\"],[0.7777777777777778,\"#fb9f3a\"],[0.8888888888888888,\"#fdca26\"],[1.0,\"#f0f921\"]],\"type\":\"heatmap\"}],\"heatmapgl\":[{\"colorbar\":{\"outlinewidth\":0,\"ticks\":\"\"},\"colorscale\":[[0.0,\"#0d0887\"],[0.1111111111111111,\"#46039f\"],[0.2222222222222222,\"#7201a8\"],[0.3333333333333333,\"#9c179e\"],[0.4444444444444444,\"#bd3786\"],[0.5555555555555556,\"#d8576b\"],[0.6666666666666666,\"#ed7953\"],[0.7777777777777778,\"#fb9f3a\"],[0.8888888888888888,\"#fdca26\"],[1.0,\"#f0f921\"]],\"type\":\"heatmapgl\"}],\"histogram\":[{\"marker\":{\"pattern\":{\"fillmode\":\"overlay\",\"size\":10,\"solidity\":0.2}},\"type\":\"histogram\"}],\"histogram2d\":[{\"colorbar\":{\"outlinewidth\":0,\"ticks\":\"\"},\"colorscale\":[[0.0,\"#0d0887\"],[0.1111111111111111,\"#46039f\"],[0.2222222222222222,\"#7201a8\"],[0.3333333333333333,\"#9c179e\"],[0.4444444444444444,\"#bd3786\"],[0.5555555555555556,\"#d8576b\"],[0.6666666666666666,\"#ed7953\"],[0.7777777777777778,\"#fb9f3a\"],[0.8888888888888888,\"#fdca26\"],[1.0,\"#f0f921\"]],\"type\":\"histogram2d\"}],\"histogram2dcontour\":[{\"colorbar\":{\"outlinewidth\":0,\"ticks\":\"\"},\"colorscale\":[[0.0,\"#0d0887\"],[0.1111111111111111,\"#46039f\"],[0.2222222222222222,\"#7201a8\"],[0.3333333333333333,\"#9c179e\"],[0.4444444444444444,\"#bd3786\"],[0.5555555555555556,\"#d8576b\"],[0.6666666666666666,\"#ed7953\"],[0.7777777777777778,\"#fb9f3a\"],[0.8888888888888888,\"#fdca26\"],[1.0,\"#f0f921\"]],\"type\":\"histogram2dcontour\"}],\"mesh3d\":[{\"colorbar\":{\"outlinewidth\":0,\"ticks\":\"\"},\"type\":\"mesh3d\"}],\"parcoords\":[{\"line\":{\"colorbar\":{\"outlinewidth\":0,\"ticks\":\"\"}},\"type\":\"parcoords\"}],\"pie\":[{\"automargin\":true,\"type\":\"pie\"}],\"scatter\":[{\"marker\":{\"colorbar\":{\"outlinewidth\":0,\"ticks\":\"\"}},\"type\":\"scatter\"}],\"scatter3d\":[{\"line\":{\"colorbar\":{\"outlinewidth\":0,\"ticks\":\"\"}},\"marker\":{\"colorbar\":{\"outlinewidth\":0,\"ticks\":\"\"}},\"type\":\"scatter3d\"}],\"scattercarpet\":[{\"marker\":{\"colorbar\":{\"outlinewidth\":0,\"ticks\":\"\"}},\"type\":\"scattercarpet\"}],\"scattergeo\":[{\"marker\":{\"colorbar\":{\"outlinewidth\":0,\"ticks\":\"\"}},\"type\":\"scattergeo\"}],\"scattergl\":[{\"marker\":{\"colorbar\":{\"outlinewidth\":0,\"ticks\":\"\"}},\"type\":\"scattergl\"}],\"scattermapbox\":[{\"marker\":{\"colorbar\":{\"outlinewidth\":0,\"ticks\":\"\"}},\"type\":\"scattermapbox\"}],\"scatterpolar\":[{\"marker\":{\"colorbar\":{\"outlinewidth\":0,\"ticks\":\"\"}},\"type\":\"scatterpolar\"}],\"scatterpolargl\":[{\"marker\":{\"colorbar\":{\"outlinewidth\":0,\"ticks\":\"\"}},\"type\":\"scatterpolargl\"}],\"scatterternary\":[{\"marker\":{\"colorbar\":{\"outlinewidth\":0,\"ticks\":\"\"}},\"type\":\"scatterternary\"}],\"surface\":[{\"colorbar\":{\"outlinewidth\":0,\"ticks\":\"\"},\"colorscale\":[[0.0,\"#0d0887\"],[0.1111111111111111,\"#46039f\"],[0.2222222222222222,\"#7201a8\"],[0.3333333333333333,\"#9c179e\"],[0.4444444444444444,\"#bd3786\"],[0.5555555555555556,\"#d8576b\"],[0.6666666666666666,\"#ed7953\"],[0.7777777777777778,\"#fb9f3a\"],[0.8888888888888888,\"#fdca26\"],[1.0,\"#f0f921\"]],\"type\":\"surface\"}],\"table\":[{\"cells\":{\"fill\":{\"color\":\"#EBF0F8\"},\"line\":{\"color\":\"white\"}},\"header\":{\"fill\":{\"color\":\"#C8D4E3\"},\"line\":{\"color\":\"white\"}},\"type\":\"table\"}]},\"layout\":{\"annotationdefaults\":{\"arrowcolor\":\"#2a3f5f\",\"arrowhead\":0,\"arrowwidth\":1},\"autotypenumbers\":\"strict\",\"coloraxis\":{\"colorbar\":{\"outlinewidth\":0,\"ticks\":\"\"}},\"colorscale\":{\"diverging\":[[0,\"#8e0152\"],[0.1,\"#c51b7d\"],[0.2,\"#de77ae\"],[0.3,\"#f1b6da\"],[0.4,\"#fde0ef\"],[0.5,\"#f7f7f7\"],[0.6,\"#e6f5d0\"],[0.7,\"#b8e186\"],[0.8,\"#7fbc41\"],[0.9,\"#4d9221\"],[1,\"#276419\"]],\"sequential\":[[0.0,\"#0d0887\"],[0.1111111111111111,\"#46039f\"],[0.2222222222222222,\"#7201a8\"],[0.3333333333333333,\"#9c179e\"],[0.4444444444444444,\"#bd3786\"],[0.5555555555555556,\"#d8576b\"],[0.6666666666666666,\"#ed7953\"],[0.7777777777777778,\"#fb9f3a\"],[0.8888888888888888,\"#fdca26\"],[1.0,\"#f0f921\"]],\"sequentialminus\":[[0.0,\"#0d0887\"],[0.1111111111111111,\"#46039f\"],[0.2222222222222222,\"#7201a8\"],[0.3333333333333333,\"#9c179e\"],[0.4444444444444444,\"#bd3786\"],[0.5555555555555556,\"#d8576b\"],[0.6666666666666666,\"#ed7953\"],[0.7777777777777778,\"#fb9f3a\"],[0.8888888888888888,\"#fdca26\"],[1.0,\"#f0f921\"]]},\"colorway\":[\"#636efa\",\"#EF553B\",\"#00cc96\",\"#ab63fa\",\"#FFA15A\",\"#19d3f3\",\"#FF6692\",\"#B6E880\",\"#FF97FF\",\"#FECB52\"],\"font\":{\"color\":\"#2a3f5f\"},\"geo\":{\"bgcolor\":\"white\",\"lakecolor\":\"white\",\"landcolor\":\"#E5ECF6\",\"showlakes\":true,\"showland\":true,\"subunitcolor\":\"white\"},\"hoverlabel\":{\"align\":\"left\"},\"hovermode\":\"closest\",\"mapbox\":{\"style\":\"light\"},\"paper_bgcolor\":\"white\",\"plot_bgcolor\":\"#E5ECF6\",\"polar\":{\"angularaxis\":{\"gridcolor\":\"white\",\"linecolor\":\"white\",\"ticks\":\"\"},\"bgcolor\":\"#E5ECF6\",\"radialaxis\":{\"gridcolor\":\"white\",\"linecolor\":\"white\",\"ticks\":\"\"}},\"scene\":{\"xaxis\":{\"backgroundcolor\":\"#E5ECF6\",\"gridcolor\":\"white\",\"gridwidth\":2,\"linecolor\":\"white\",\"showbackground\":true,\"ticks\":\"\",\"zerolinecolor\":\"white\"},\"yaxis\":{\"backgroundcolor\":\"#E5ECF6\",\"gridcolor\":\"white\",\"gridwidth\":2,\"linecolor\":\"white\",\"showbackground\":true,\"ticks\":\"\",\"zerolinecolor\":\"white\"},\"zaxis\":{\"backgroundcolor\":\"#E5ECF6\",\"gridcolor\":\"white\",\"gridwidth\":2,\"linecolor\":\"white\",\"showbackground\":true,\"ticks\":\"\",\"zerolinecolor\":\"white\"}},\"shapedefaults\":{\"line\":{\"color\":\"#2a3f5f\"}},\"ternary\":{\"aaxis\":{\"gridcolor\":\"white\",\"linecolor\":\"white\",\"ticks\":\"\"},\"baxis\":{\"gridcolor\":\"white\",\"linecolor\":\"white\",\"ticks\":\"\"},\"bgcolor\":\"#E5ECF6\",\"caxis\":{\"gridcolor\":\"white\",\"linecolor\":\"white\",\"ticks\":\"\"}},\"title\":{\"x\":0.05},\"xaxis\":{\"automargin\":true,\"gridcolor\":\"white\",\"linecolor\":\"white\",\"ticks\":\"\",\"title\":{\"standoff\":15},\"zerolinecolor\":\"white\",\"zerolinewidth\":2},\"yaxis\":{\"automargin\":true,\"gridcolor\":\"white\",\"linecolor\":\"white\",\"ticks\":\"\",\"title\":{\"standoff\":15},\"zerolinecolor\":\"white\",\"zerolinewidth\":2}}},\"geo\":{\"domain\":{\"x\":[0.0,1.0],\"y\":[0.0,1.0]},\"center\":{},\"fitbounds\":\"locations\",\"visible\":true},\"legend\":{\"title\":{\"text\":\"Keterangan\",\"side\":\"top\"},\"tracegroupgap\":0},\"title\":{\"text\":\"Pemetaan Negara Yang Memerlukan Bantuan\",\"pad\":{\"l\":130},\"y\":1}},                        {\"responsive\": true}                    ).then(function(){\n",
              "                            \n",
              "var gd = document.getElementById('2f3afe4f-e3d6-446c-bbcb-ca475e7d0cea');\n",
              "var x = new MutationObserver(function (mutations, observer) {{\n",
              "        var display = window.getComputedStyle(gd).display;\n",
              "        if (!display || display === 'none') {{\n",
              "            console.log([gd, 'removed!']);\n",
              "            Plotly.purge(gd);\n",
              "            observer.disconnect();\n",
              "        }}\n",
              "}});\n",
              "\n",
              "// Listen for the removal of the full notebook cells\n",
              "var notebookContainer = gd.closest('#notebook-container');\n",
              "if (notebookContainer) {{\n",
              "    x.observe(notebookContainer, {childList: true});\n",
              "}}\n",
              "\n",
              "// Listen for the clearing of the current output cell\n",
              "var outputEl = gd.closest('.output');\n",
              "if (outputEl) {{\n",
              "    x.observe(outputEl, {childList: true});\n",
              "}}\n",
              "\n",
              "                        })                };                            </script>        </div>\n",
              "</body>\n",
              "</html>"
            ]
          },
          "metadata": {}
        }
      ]
    },
    {
      "cell_type": "markdown",
      "source": [
        "##**Pengelompokan**"
      ],
      "metadata": {
        "id": "_zFP5ub77KdH"
      }
    },
    {
      "cell_type": "code",
      "source": [
        "data_minmax"
      ],
      "metadata": {
        "colab": {
          "base_uri": "https://localhost:8080/",
          "height": 424
        },
        "id": "fv5MlL1CB_wb",
        "outputId": "a7514da2-20cb-400a-ded6-a5e7b39446b3"
      },
      "execution_count": null,
      "outputs": [
        {
          "output_type": "execute_result",
          "data": {
            "text/plain": [
              "                 country  child_mort   exports    health   imports    income  \\\n",
              "0            Afghanistan    0.426485  0.049482  0.358608  0.257765  0.008047   \n",
              "1                Albania    0.068160  0.139531  0.294593  0.279037  0.074933   \n",
              "2                Algeria    0.120253  0.191559  0.146675  0.180149  0.098809   \n",
              "3                 Angola    0.566699  0.311125  0.064636  0.246266  0.042535   \n",
              "4    Antigua and Barbuda    0.037488  0.227079  0.262275  0.338255  0.148652   \n",
              "..                   ...         ...       ...       ...       ...       ...   \n",
              "162              Vanuatu    0.129503  0.232582  0.213797  0.302609  0.018820   \n",
              "163            Venezuela    0.070594  0.142032  0.192666  0.100809  0.127750   \n",
              "164              Vietnam    0.100779  0.359651  0.312617  0.460715  0.031200   \n",
              "165                Yemen    0.261441  0.149536  0.209447  0.197397  0.031120   \n",
              "166               Zambia    0.391918  0.184556  0.253574  0.177275  0.021473   \n",
              "\n",
              "     inflation  life_expec  total_fer      gdpp Cluster  \n",
              "0     0.126144    0.475345   0.736593  0.003073       1  \n",
              "1     0.080399    0.871795   0.078864  0.036833       0  \n",
              "2     0.187691    0.875740   0.274448  0.040365       0  \n",
              "3     0.245911    0.552268   0.790221  0.031488       1  \n",
              "4     0.052213    0.881657   0.154574  0.114242       0  \n",
              "..         ...         ...        ...       ...     ...  \n",
              "162   0.063118    0.609467   0.370662  0.026143       0  \n",
              "163   0.463081    0.854043   0.208202  0.126650       0  \n",
              "164   0.150725    0.808679   0.126183  0.010299       0  \n",
              "165   0.257000    0.698225   0.555205  0.010299       1  \n",
              "166   0.168284    0.392505   0.670347  0.011731       1  \n",
              "\n",
              "[167 rows x 11 columns]"
            ],
            "text/html": [
              "\n",
              "  <div id=\"df-22cc8712-da6b-49b7-a73f-deaa4cfbd46e\">\n",
              "    <div class=\"colab-df-container\">\n",
              "      <div>\n",
              "<style scoped>\n",
              "    .dataframe tbody tr th:only-of-type {\n",
              "        vertical-align: middle;\n",
              "    }\n",
              "\n",
              "    .dataframe tbody tr th {\n",
              "        vertical-align: top;\n",
              "    }\n",
              "\n",
              "    .dataframe thead th {\n",
              "        text-align: right;\n",
              "    }\n",
              "</style>\n",
              "<table border=\"1\" class=\"dataframe\">\n",
              "  <thead>\n",
              "    <tr style=\"text-align: right;\">\n",
              "      <th></th>\n",
              "      <th>country</th>\n",
              "      <th>child_mort</th>\n",
              "      <th>exports</th>\n",
              "      <th>health</th>\n",
              "      <th>imports</th>\n",
              "      <th>income</th>\n",
              "      <th>inflation</th>\n",
              "      <th>life_expec</th>\n",
              "      <th>total_fer</th>\n",
              "      <th>gdpp</th>\n",
              "      <th>Cluster</th>\n",
              "    </tr>\n",
              "  </thead>\n",
              "  <tbody>\n",
              "    <tr>\n",
              "      <th>0</th>\n",
              "      <td>Afghanistan</td>\n",
              "      <td>0.426485</td>\n",
              "      <td>0.049482</td>\n",
              "      <td>0.358608</td>\n",
              "      <td>0.257765</td>\n",
              "      <td>0.008047</td>\n",
              "      <td>0.126144</td>\n",
              "      <td>0.475345</td>\n",
              "      <td>0.736593</td>\n",
              "      <td>0.003073</td>\n",
              "      <td>1</td>\n",
              "    </tr>\n",
              "    <tr>\n",
              "      <th>1</th>\n",
              "      <td>Albania</td>\n",
              "      <td>0.068160</td>\n",
              "      <td>0.139531</td>\n",
              "      <td>0.294593</td>\n",
              "      <td>0.279037</td>\n",
              "      <td>0.074933</td>\n",
              "      <td>0.080399</td>\n",
              "      <td>0.871795</td>\n",
              "      <td>0.078864</td>\n",
              "      <td>0.036833</td>\n",
              "      <td>0</td>\n",
              "    </tr>\n",
              "    <tr>\n",
              "      <th>2</th>\n",
              "      <td>Algeria</td>\n",
              "      <td>0.120253</td>\n",
              "      <td>0.191559</td>\n",
              "      <td>0.146675</td>\n",
              "      <td>0.180149</td>\n",
              "      <td>0.098809</td>\n",
              "      <td>0.187691</td>\n",
              "      <td>0.875740</td>\n",
              "      <td>0.274448</td>\n",
              "      <td>0.040365</td>\n",
              "      <td>0</td>\n",
              "    </tr>\n",
              "    <tr>\n",
              "      <th>3</th>\n",
              "      <td>Angola</td>\n",
              "      <td>0.566699</td>\n",
              "      <td>0.311125</td>\n",
              "      <td>0.064636</td>\n",
              "      <td>0.246266</td>\n",
              "      <td>0.042535</td>\n",
              "      <td>0.245911</td>\n",
              "      <td>0.552268</td>\n",
              "      <td>0.790221</td>\n",
              "      <td>0.031488</td>\n",
              "      <td>1</td>\n",
              "    </tr>\n",
              "    <tr>\n",
              "      <th>4</th>\n",
              "      <td>Antigua and Barbuda</td>\n",
              "      <td>0.037488</td>\n",
              "      <td>0.227079</td>\n",
              "      <td>0.262275</td>\n",
              "      <td>0.338255</td>\n",
              "      <td>0.148652</td>\n",
              "      <td>0.052213</td>\n",
              "      <td>0.881657</td>\n",
              "      <td>0.154574</td>\n",
              "      <td>0.114242</td>\n",
              "      <td>0</td>\n",
              "    </tr>\n",
              "    <tr>\n",
              "      <th>...</th>\n",
              "      <td>...</td>\n",
              "      <td>...</td>\n",
              "      <td>...</td>\n",
              "      <td>...</td>\n",
              "      <td>...</td>\n",
              "      <td>...</td>\n",
              "      <td>...</td>\n",
              "      <td>...</td>\n",
              "      <td>...</td>\n",
              "      <td>...</td>\n",
              "      <td>...</td>\n",
              "    </tr>\n",
              "    <tr>\n",
              "      <th>162</th>\n",
              "      <td>Vanuatu</td>\n",
              "      <td>0.129503</td>\n",
              "      <td>0.232582</td>\n",
              "      <td>0.213797</td>\n",
              "      <td>0.302609</td>\n",
              "      <td>0.018820</td>\n",
              "      <td>0.063118</td>\n",
              "      <td>0.609467</td>\n",
              "      <td>0.370662</td>\n",
              "      <td>0.026143</td>\n",
              "      <td>0</td>\n",
              "    </tr>\n",
              "    <tr>\n",
              "      <th>163</th>\n",
              "      <td>Venezuela</td>\n",
              "      <td>0.070594</td>\n",
              "      <td>0.142032</td>\n",
              "      <td>0.192666</td>\n",
              "      <td>0.100809</td>\n",
              "      <td>0.127750</td>\n",
              "      <td>0.463081</td>\n",
              "      <td>0.854043</td>\n",
              "      <td>0.208202</td>\n",
              "      <td>0.126650</td>\n",
              "      <td>0</td>\n",
              "    </tr>\n",
              "    <tr>\n",
              "      <th>164</th>\n",
              "      <td>Vietnam</td>\n",
              "      <td>0.100779</td>\n",
              "      <td>0.359651</td>\n",
              "      <td>0.312617</td>\n",
              "      <td>0.460715</td>\n",
              "      <td>0.031200</td>\n",
              "      <td>0.150725</td>\n",
              "      <td>0.808679</td>\n",
              "      <td>0.126183</td>\n",
              "      <td>0.010299</td>\n",
              "      <td>0</td>\n",
              "    </tr>\n",
              "    <tr>\n",
              "      <th>165</th>\n",
              "      <td>Yemen</td>\n",
              "      <td>0.261441</td>\n",
              "      <td>0.149536</td>\n",
              "      <td>0.209447</td>\n",
              "      <td>0.197397</td>\n",
              "      <td>0.031120</td>\n",
              "      <td>0.257000</td>\n",
              "      <td>0.698225</td>\n",
              "      <td>0.555205</td>\n",
              "      <td>0.010299</td>\n",
              "      <td>1</td>\n",
              "    </tr>\n",
              "    <tr>\n",
              "      <th>166</th>\n",
              "      <td>Zambia</td>\n",
              "      <td>0.391918</td>\n",
              "      <td>0.184556</td>\n",
              "      <td>0.253574</td>\n",
              "      <td>0.177275</td>\n",
              "      <td>0.021473</td>\n",
              "      <td>0.168284</td>\n",
              "      <td>0.392505</td>\n",
              "      <td>0.670347</td>\n",
              "      <td>0.011731</td>\n",
              "      <td>1</td>\n",
              "    </tr>\n",
              "  </tbody>\n",
              "</table>\n",
              "<p>167 rows × 11 columns</p>\n",
              "</div>\n",
              "      <button class=\"colab-df-convert\" onclick=\"convertToInteractive('df-22cc8712-da6b-49b7-a73f-deaa4cfbd46e')\"\n",
              "              title=\"Convert this dataframe to an interactive table.\"\n",
              "              style=\"display:none;\">\n",
              "        \n",
              "  <svg xmlns=\"http://www.w3.org/2000/svg\" height=\"24px\"viewBox=\"0 0 24 24\"\n",
              "       width=\"24px\">\n",
              "    <path d=\"M0 0h24v24H0V0z\" fill=\"none\"/>\n",
              "    <path d=\"M18.56 5.44l.94 2.06.94-2.06 2.06-.94-2.06-.94-.94-2.06-.94 2.06-2.06.94zm-11 1L8.5 8.5l.94-2.06 2.06-.94-2.06-.94L8.5 2.5l-.94 2.06-2.06.94zm10 10l.94 2.06.94-2.06 2.06-.94-2.06-.94-.94-2.06-.94 2.06-2.06.94z\"/><path d=\"M17.41 7.96l-1.37-1.37c-.4-.4-.92-.59-1.43-.59-.52 0-1.04.2-1.43.59L10.3 9.45l-7.72 7.72c-.78.78-.78 2.05 0 2.83L4 21.41c.39.39.9.59 1.41.59.51 0 1.02-.2 1.41-.59l7.78-7.78 2.81-2.81c.8-.78.8-2.07 0-2.86zM5.41 20L4 18.59l7.72-7.72 1.47 1.35L5.41 20z\"/>\n",
              "  </svg>\n",
              "      </button>\n",
              "      \n",
              "  <style>\n",
              "    .colab-df-container {\n",
              "      display:flex;\n",
              "      flex-wrap:wrap;\n",
              "      gap: 12px;\n",
              "    }\n",
              "\n",
              "    .colab-df-convert {\n",
              "      background-color: #E8F0FE;\n",
              "      border: none;\n",
              "      border-radius: 50%;\n",
              "      cursor: pointer;\n",
              "      display: none;\n",
              "      fill: #1967D2;\n",
              "      height: 32px;\n",
              "      padding: 0 0 0 0;\n",
              "      width: 32px;\n",
              "    }\n",
              "\n",
              "    .colab-df-convert:hover {\n",
              "      background-color: #E2EBFA;\n",
              "      box-shadow: 0px 1px 2px rgba(60, 64, 67, 0.3), 0px 1px 3px 1px rgba(60, 64, 67, 0.15);\n",
              "      fill: #174EA6;\n",
              "    }\n",
              "\n",
              "    [theme=dark] .colab-df-convert {\n",
              "      background-color: #3B4455;\n",
              "      fill: #D2E3FC;\n",
              "    }\n",
              "\n",
              "    [theme=dark] .colab-df-convert:hover {\n",
              "      background-color: #434B5C;\n",
              "      box-shadow: 0px 1px 3px 1px rgba(0, 0, 0, 0.15);\n",
              "      filter: drop-shadow(0px 1px 2px rgba(0, 0, 0, 0.3));\n",
              "      fill: #FFFFFF;\n",
              "    }\n",
              "  </style>\n",
              "\n",
              "      <script>\n",
              "        const buttonEl =\n",
              "          document.querySelector('#df-22cc8712-da6b-49b7-a73f-deaa4cfbd46e button.colab-df-convert');\n",
              "        buttonEl.style.display =\n",
              "          google.colab.kernel.accessAllowed ? 'block' : 'none';\n",
              "\n",
              "        async function convertToInteractive(key) {\n",
              "          const element = document.querySelector('#df-22cc8712-da6b-49b7-a73f-deaa4cfbd46e');\n",
              "          const dataTable =\n",
              "            await google.colab.kernel.invokeFunction('convertToInteractive',\n",
              "                                                     [key], {});\n",
              "          if (!dataTable) return;\n",
              "\n",
              "          const docLinkHtml = 'Like what you see? Visit the ' +\n",
              "            '<a target=\"_blank\" href=https://colab.research.google.com/notebooks/data_table.ipynb>data table notebook</a>'\n",
              "            + ' to learn more about interactive tables.';\n",
              "          element.innerHTML = '';\n",
              "          dataTable['output_type'] = 'display_data';\n",
              "          await google.colab.output.renderOutput(dataTable, element);\n",
              "          const docLink = document.createElement('div');\n",
              "          docLink.innerHTML = docLinkHtml;\n",
              "          element.appendChild(docLink);\n",
              "        }\n",
              "      </script>\n",
              "    </div>\n",
              "  </div>\n",
              "  "
            ]
          },
          "metadata": {},
          "execution_count": 645
        }
      ]
    },
    {
      "cell_type": "code",
      "source": [
        "# Visualisasi table of clusters showing mean values per cluster and per feature\n",
        "clusters_table = pd.pivot_table(data_minmax, index=['Cluster'])\n",
        "clusters_table"
      ],
      "metadata": {
        "colab": {
          "base_uri": "https://localhost:8080/",
          "height": 175
        },
        "id": "3aCeAg-A7WfD",
        "outputId": "db36884d-3949-437e-e577-4e7a0ffcb324"
      },
      "execution_count": null,
      "outputs": [
        {
          "output_type": "execute_result",
          "data": {
            "text/plain": [
              "         child_mort   exports      gdpp    health   imports    income  \\\n",
              "Cluster                                                                 \n",
              "0          0.096522  0.201477  0.061934  0.273809  0.269448  0.097771   \n",
              "1          0.441503  0.145970  0.013982  0.281447  0.248553  0.023376   \n",
              "2          0.011184  0.291771  0.409340  0.441730  0.295760  0.363321   \n",
              "\n",
              "         inflation  life_expec  total_fer  \n",
              "Cluster                                    \n",
              "0         0.109223    0.798473   0.180324  \n",
              "1         0.150698    0.538333   0.621485  \n",
              "2         0.062333    0.949620   0.093240  "
            ],
            "text/html": [
              "\n",
              "  <div id=\"df-dc31bf35-e21a-4f09-a8eb-f6c8024d7a15\">\n",
              "    <div class=\"colab-df-container\">\n",
              "      <div>\n",
              "<style scoped>\n",
              "    .dataframe tbody tr th:only-of-type {\n",
              "        vertical-align: middle;\n",
              "    }\n",
              "\n",
              "    .dataframe tbody tr th {\n",
              "        vertical-align: top;\n",
              "    }\n",
              "\n",
              "    .dataframe thead th {\n",
              "        text-align: right;\n",
              "    }\n",
              "</style>\n",
              "<table border=\"1\" class=\"dataframe\">\n",
              "  <thead>\n",
              "    <tr style=\"text-align: right;\">\n",
              "      <th></th>\n",
              "      <th>child_mort</th>\n",
              "      <th>exports</th>\n",
              "      <th>gdpp</th>\n",
              "      <th>health</th>\n",
              "      <th>imports</th>\n",
              "      <th>income</th>\n",
              "      <th>inflation</th>\n",
              "      <th>life_expec</th>\n",
              "      <th>total_fer</th>\n",
              "    </tr>\n",
              "    <tr>\n",
              "      <th>Cluster</th>\n",
              "      <th></th>\n",
              "      <th></th>\n",
              "      <th></th>\n",
              "      <th></th>\n",
              "      <th></th>\n",
              "      <th></th>\n",
              "      <th></th>\n",
              "      <th></th>\n",
              "      <th></th>\n",
              "    </tr>\n",
              "  </thead>\n",
              "  <tbody>\n",
              "    <tr>\n",
              "      <th>0</th>\n",
              "      <td>0.096522</td>\n",
              "      <td>0.201477</td>\n",
              "      <td>0.061934</td>\n",
              "      <td>0.273809</td>\n",
              "      <td>0.269448</td>\n",
              "      <td>0.097771</td>\n",
              "      <td>0.109223</td>\n",
              "      <td>0.798473</td>\n",
              "      <td>0.180324</td>\n",
              "    </tr>\n",
              "    <tr>\n",
              "      <th>1</th>\n",
              "      <td>0.441503</td>\n",
              "      <td>0.145970</td>\n",
              "      <td>0.013982</td>\n",
              "      <td>0.281447</td>\n",
              "      <td>0.248553</td>\n",
              "      <td>0.023376</td>\n",
              "      <td>0.150698</td>\n",
              "      <td>0.538333</td>\n",
              "      <td>0.621485</td>\n",
              "    </tr>\n",
              "    <tr>\n",
              "      <th>2</th>\n",
              "      <td>0.011184</td>\n",
              "      <td>0.291771</td>\n",
              "      <td>0.409340</td>\n",
              "      <td>0.441730</td>\n",
              "      <td>0.295760</td>\n",
              "      <td>0.363321</td>\n",
              "      <td>0.062333</td>\n",
              "      <td>0.949620</td>\n",
              "      <td>0.093240</td>\n",
              "    </tr>\n",
              "  </tbody>\n",
              "</table>\n",
              "</div>\n",
              "      <button class=\"colab-df-convert\" onclick=\"convertToInteractive('df-dc31bf35-e21a-4f09-a8eb-f6c8024d7a15')\"\n",
              "              title=\"Convert this dataframe to an interactive table.\"\n",
              "              style=\"display:none;\">\n",
              "        \n",
              "  <svg xmlns=\"http://www.w3.org/2000/svg\" height=\"24px\"viewBox=\"0 0 24 24\"\n",
              "       width=\"24px\">\n",
              "    <path d=\"M0 0h24v24H0V0z\" fill=\"none\"/>\n",
              "    <path d=\"M18.56 5.44l.94 2.06.94-2.06 2.06-.94-2.06-.94-.94-2.06-.94 2.06-2.06.94zm-11 1L8.5 8.5l.94-2.06 2.06-.94-2.06-.94L8.5 2.5l-.94 2.06-2.06.94zm10 10l.94 2.06.94-2.06 2.06-.94-2.06-.94-.94-2.06-.94 2.06-2.06.94z\"/><path d=\"M17.41 7.96l-1.37-1.37c-.4-.4-.92-.59-1.43-.59-.52 0-1.04.2-1.43.59L10.3 9.45l-7.72 7.72c-.78.78-.78 2.05 0 2.83L4 21.41c.39.39.9.59 1.41.59.51 0 1.02-.2 1.41-.59l7.78-7.78 2.81-2.81c.8-.78.8-2.07 0-2.86zM5.41 20L4 18.59l7.72-7.72 1.47 1.35L5.41 20z\"/>\n",
              "  </svg>\n",
              "      </button>\n",
              "      \n",
              "  <style>\n",
              "    .colab-df-container {\n",
              "      display:flex;\n",
              "      flex-wrap:wrap;\n",
              "      gap: 12px;\n",
              "    }\n",
              "\n",
              "    .colab-df-convert {\n",
              "      background-color: #E8F0FE;\n",
              "      border: none;\n",
              "      border-radius: 50%;\n",
              "      cursor: pointer;\n",
              "      display: none;\n",
              "      fill: #1967D2;\n",
              "      height: 32px;\n",
              "      padding: 0 0 0 0;\n",
              "      width: 32px;\n",
              "    }\n",
              "\n",
              "    .colab-df-convert:hover {\n",
              "      background-color: #E2EBFA;\n",
              "      box-shadow: 0px 1px 2px rgba(60, 64, 67, 0.3), 0px 1px 3px 1px rgba(60, 64, 67, 0.15);\n",
              "      fill: #174EA6;\n",
              "    }\n",
              "\n",
              "    [theme=dark] .colab-df-convert {\n",
              "      background-color: #3B4455;\n",
              "      fill: #D2E3FC;\n",
              "    }\n",
              "\n",
              "    [theme=dark] .colab-df-convert:hover {\n",
              "      background-color: #434B5C;\n",
              "      box-shadow: 0px 1px 3px 1px rgba(0, 0, 0, 0.15);\n",
              "      filter: drop-shadow(0px 1px 2px rgba(0, 0, 0, 0.3));\n",
              "      fill: #FFFFFF;\n",
              "    }\n",
              "  </style>\n",
              "\n",
              "      <script>\n",
              "        const buttonEl =\n",
              "          document.querySelector('#df-dc31bf35-e21a-4f09-a8eb-f6c8024d7a15 button.colab-df-convert');\n",
              "        buttonEl.style.display =\n",
              "          google.colab.kernel.accessAllowed ? 'block' : 'none';\n",
              "\n",
              "        async function convertToInteractive(key) {\n",
              "          const element = document.querySelector('#df-dc31bf35-e21a-4f09-a8eb-f6c8024d7a15');\n",
              "          const dataTable =\n",
              "            await google.colab.kernel.invokeFunction('convertToInteractive',\n",
              "                                                     [key], {});\n",
              "          if (!dataTable) return;\n",
              "\n",
              "          const docLinkHtml = 'Like what you see? Visit the ' +\n",
              "            '<a target=\"_blank\" href=https://colab.research.google.com/notebooks/data_table.ipynb>data table notebook</a>'\n",
              "            + ' to learn more about interactive tables.';\n",
              "          element.innerHTML = '';\n",
              "          dataTable['output_type'] = 'display_data';\n",
              "          await google.colab.output.renderOutput(dataTable, element);\n",
              "          const docLink = document.createElement('div');\n",
              "          docLink.innerHTML = docLinkHtml;\n",
              "          element.appendChild(docLink);\n",
              "        }\n",
              "      </script>\n",
              "    </div>\n",
              "  </div>\n",
              "  "
            ]
          },
          "metadata": {},
          "execution_count": 646
        }
      ]
    },
    {
      "cell_type": "markdown",
      "source": [
        "**Cluster 0**\n",
        "\n",
        "*   Medium child mortality\n",
        "*   Medium exports\n",
        "*   Low health\n",
        "*   Medium imports\n",
        "*   Medium income\n",
        "*   Low inflation\n",
        "*   Medium life expectation\n",
        "*   Medium total fertilization\n",
        "*   Medium to low GDPP\n",
        "\n"
      ],
      "metadata": {
        "id": "B-GA87hQPxcV"
      }
    },
    {
      "cell_type": "markdown",
      "source": [
        "**Cluster 1**\n",
        "\n",
        "*   High child mortality\n",
        "*   Low exports\n",
        "*   Medium health\n",
        "*   Low imports\n",
        "*   Low income\n",
        "*   Medium inflation\n",
        "*   Low life expectation\n",
        "*   High total fertilization\n",
        "*   Low GDPP"
      ],
      "metadata": {
        "id": "VWIlHYiMQl0p"
      }
    },
    {
      "cell_type": "markdown",
      "source": [
        "**Cluster 2**\n",
        "\n",
        "*   Low child mortality\n",
        "*   High exports\n",
        "*   High health\n",
        "*   High imports\n",
        "*   High income\n",
        "*   Low inflation\n",
        "*   High life expectation\n",
        "*   Low total fertilization\n",
        "*   High GDPP"
      ],
      "metadata": {
        "id": "jNkpZobYQnyE"
      }
    },
    {
      "cell_type": "code",
      "source": [
        "# Mengelompokkan dan menginisiasi nilai cluster\n",
        "\n",
        "sangat_butuh = data_minmax[data_minmax['Cluster']=='1']['country']\n",
        "mungkin_butuh = data_minmax[data_minmax['Cluster']=='2']['country']\n",
        "tidak_butuh = data_minmax[data_minmax['Cluster']=='0']['country']"
      ],
      "metadata": {
        "id": "RV3I3nnQ7J8g"
      },
      "execution_count": null,
      "outputs": []
    },
    {
      "cell_type": "code",
      "source": [
        "tb = np.array(tidak_butuh)\n",
        "print(tb)\n",
        "print(\" \")\n",
        "print(\"Total negara yang tidak membutuhkan bantuan    :\",len(tidak_butuh))"
      ],
      "metadata": {
        "colab": {
          "base_uri": "https://localhost:8080/"
        },
        "id": "chgI1M_mRWun",
        "outputId": "cbe23bbb-dc9b-4938-d7cd-009fbc4525b9"
      },
      "execution_count": null,
      "outputs": [
        {
          "output_type": "stream",
          "name": "stdout",
          "text": [
            "['Albania' 'Algeria' 'Antigua and Barbuda' 'Argentina' 'Armenia'\n",
            " 'Azerbaijan' 'Bahamas' 'Bahrain' 'Bangladesh' 'Barbados' 'Belarus'\n",
            " 'Belize' 'Bhutan' 'Bolivia' 'Bosnia and Herzegovina' 'Botswana' 'Brazil'\n",
            " 'Bulgaria' 'Cambodia' 'Cape Verde' 'Chile' 'China' 'Colombia'\n",
            " 'Costa Rica' 'Croatia' 'Dominican Republic' 'Ecuador' 'Egypt'\n",
            " 'El Salvador' 'Estonia' 'Fiji' 'Georgia' 'Grenada' 'Guatemala' 'Guyana'\n",
            " 'Hungary' 'India' 'Indonesia' 'Iran' 'Jamaica' 'Jordan' 'Kazakhstan'\n",
            " 'Kyrgyz Republic' 'Latvia' 'Lebanon' 'Libya' 'Lithuania' 'Macedonia, FYR'\n",
            " 'Malaysia' 'Maldives' 'Mauritius' 'Micronesia, Fed. Sts.' 'Moldova'\n",
            " 'Mongolia' 'Montenegro' 'Morocco' 'Myanmar' 'Nepal' 'Oman' 'Panama'\n",
            " 'Paraguay' 'Peru' 'Philippines' 'Poland' 'Romania' 'Russia' 'Samoa'\n",
            " 'Saudi Arabia' 'Serbia' 'Seychelles' 'South Africa' 'Sri Lanka'\n",
            " 'St. Vincent and the Grenadines' 'Suriname' 'Tajikistan' 'Thailand'\n",
            " 'Tonga' 'Tunisia' 'Turkey' 'Turkmenistan' 'Ukraine' 'Uruguay'\n",
            " 'Uzbekistan' 'Vanuatu' 'Venezuela' 'Vietnam']\n",
            " \n",
            "Total negara yang tidak membutuhkan bantuan    : 86\n"
          ]
        }
      ]
    },
    {
      "cell_type": "code",
      "source": [
        "mb = np.array(mungkin_butuh)\n",
        "print(mb)\n",
        "print(\" \")\n",
        "print(\"Total negara yang mungkin membutuhkan bantuan  :\",len(mungkin_butuh))"
      ],
      "metadata": {
        "colab": {
          "base_uri": "https://localhost:8080/"
        },
        "id": "9iLpWoO9RRxL",
        "outputId": "a38e800e-3c61-41de-9257-5a6d60c30c8b"
      },
      "execution_count": null,
      "outputs": [
        {
          "output_type": "stream",
          "name": "stdout",
          "text": [
            "['Australia' 'Austria' 'Belgium' 'Brunei' 'Canada' 'Cyprus'\n",
            " 'Czech Republic' 'Denmark' 'Finland' 'France' 'Germany' 'Greece'\n",
            " 'Iceland' 'Ireland' 'Israel' 'Italy' 'Japan' 'Kuwait' 'Luxembourg'\n",
            " 'Malta' 'Netherlands' 'New Zealand' 'Norway' 'Portugal' 'Qatar'\n",
            " 'Singapore' 'Slovak Republic' 'Slovenia' 'South Korea' 'Spain' 'Sweden'\n",
            " 'Switzerland' 'United Arab Emirates' 'United Kingdom' 'United States']\n",
            " \n",
            "Total negara yang mungkin membutuhkan bantuan  : 35\n"
          ]
        }
      ]
    },
    {
      "cell_type": "code",
      "source": [
        "sb = np.array(sangat_butuh)\n",
        "print(sb)\n",
        "print(\" \")\n",
        "print(\"Total negara yang sangat membutuhkan bantuan   :\",len(sangat_butuh))"
      ],
      "metadata": {
        "colab": {
          "base_uri": "https://localhost:8080/"
        },
        "id": "dqWFYW76DNoG",
        "outputId": "348144cf-ce4d-4d9e-defc-d90d65e1e8fd"
      },
      "execution_count": null,
      "outputs": [
        {
          "output_type": "stream",
          "name": "stdout",
          "text": [
            "['Afghanistan' 'Angola' 'Benin' 'Burkina Faso' 'Burundi' 'Cameroon'\n",
            " 'Central African Republic' 'Chad' 'Comoros' 'Congo, Dem. Rep.'\n",
            " 'Congo, Rep.' \"Cote d'Ivoire\" 'Equatorial Guinea' 'Eritrea' 'Gabon'\n",
            " 'Gambia' 'Ghana' 'Guinea' 'Guinea-Bissau' 'Haiti' 'Iraq' 'Kenya'\n",
            " 'Kiribati' 'Lao' 'Lesotho' 'Liberia' 'Madagascar' 'Malawi' 'Mali'\n",
            " 'Mauritania' 'Mozambique' 'Namibia' 'Niger' 'Nigeria' 'Pakistan' 'Rwanda'\n",
            " 'Senegal' 'Sierra Leone' 'Solomon Islands' 'Sudan' 'Tanzania'\n",
            " 'Timor-Leste' 'Togo' 'Uganda' 'Yemen' 'Zambia']\n",
            " \n",
            "Total negara yang sangat membutuhkan bantuan   : 46\n"
          ]
        }
      ]
    },
    {
      "cell_type": "code",
      "source": [
        "#Visualisasi negara yang membutuhkan bantuan menggunakan pemetaan peta\n",
        "import plotly.express as px\n",
        "\n",
        "data_minmax['Cluster'].loc[data_minmax['Cluster'] == 0] = '0'\n",
        "data_minmax['Cluster'].loc[data_minmax['Cluster'] == 1] = '1'\n",
        "data_minmax['Cluster'].loc[data_minmax['Cluster'] == 2] = '2'\n",
        "\n",
        "fig = px.choropleth(data_minmax[['country','Cluster']],\n",
        "                    locationmode = 'country names',\n",
        "                    locations = 'country',\n",
        "                    title = 'Pemetaan Negara Yang Memerlukan Bantuan',\n",
        "                    color = data_minmax['Cluster'],  \n",
        "                    color_discrete_map = {'0':'Gray',\n",
        "                                        '1':'Red',\n",
        "                                        '2':'Gray'}\n",
        "                   )\n",
        "fig.update_geos(fitbounds = \"locations\", visible = True)\n",
        "fig.update_layout(legend_title_text = 'Keterangan',legend_title_side = 'top',title_pad_l = 130,title_y = 1)\n",
        "fig.show()"
      ],
      "metadata": {
        "colab": {
          "base_uri": "https://localhost:8080/",
          "height": 542
        },
        "id": "xLRdJ9glSe3k",
        "outputId": "265fdcf0-dccb-4a84-f440-796801fe13e5"
      },
      "execution_count": null,
      "outputs": [
        {
          "output_type": "display_data",
          "data": {
            "text/html": [
              "<html>\n",
              "<head><meta charset=\"utf-8\" /></head>\n",
              "<body>\n",
              "    <div>            <script src=\"https://cdnjs.cloudflare.com/ajax/libs/mathjax/2.7.5/MathJax.js?config=TeX-AMS-MML_SVG\"></script><script type=\"text/javascript\">if (window.MathJax) {MathJax.Hub.Config({SVG: {font: \"STIX-Web\"}});}</script>                <script type=\"text/javascript\">window.PlotlyConfig = {MathJaxConfig: 'local'};</script>\n",
              "        <script src=\"https://cdn.plot.ly/plotly-2.8.3.min.js\"></script>                <div id=\"3b7d66dd-3f04-4bd2-8282-2daac1bdc5af\" class=\"plotly-graph-div\" style=\"height:525px; width:100%;\"></div>            <script type=\"text/javascript\">                                    window.PLOTLYENV=window.PLOTLYENV || {};                                    if (document.getElementById(\"3b7d66dd-3f04-4bd2-8282-2daac1bdc5af\")) {                    Plotly.newPlot(                        \"3b7d66dd-3f04-4bd2-8282-2daac1bdc5af\",                        [{\"colorscale\":[[0.0,\"Red\"],[1.0,\"Red\"]],\"geo\":\"geo\",\"hovertemplate\":\"color=1<br>country=%{location}<extra></extra>\",\"locationmode\":\"country names\",\"locations\":[\"Afghanistan\",\"Angola\",\"Benin\",\"Burkina Faso\",\"Burundi\",\"Cameroon\",\"Central African Republic\",\"Chad\",\"Comoros\",\"Congo, Dem. Rep.\",\"Congo, Rep.\",\"Cote d'Ivoire\",\"Equatorial Guinea\",\"Eritrea\",\"Gabon\",\"Gambia\",\"Ghana\",\"Guinea\",\"Guinea-Bissau\",\"Haiti\",\"Iraq\",\"Kenya\",\"Kiribati\",\"Lao\",\"Lesotho\",\"Liberia\",\"Madagascar\",\"Malawi\",\"Mali\",\"Mauritania\",\"Mozambique\",\"Namibia\",\"Niger\",\"Nigeria\",\"Pakistan\",\"Rwanda\",\"Senegal\",\"Sierra Leone\",\"Solomon Islands\",\"Sudan\",\"Tanzania\",\"Timor-Leste\",\"Togo\",\"Uganda\",\"Yemen\",\"Zambia\"],\"name\":\"1\",\"showlegend\":true,\"showscale\":false,\"z\":[1,1,1,1,1,1,1,1,1,1,1,1,1,1,1,1,1,1,1,1,1,1,1,1,1,1,1,1,1,1,1,1,1,1,1,1,1,1,1,1,1,1,1,1,1,1],\"type\":\"choropleth\"},{\"colorscale\":[[0.0,\"Gray\"],[1.0,\"Gray\"]],\"geo\":\"geo\",\"hovertemplate\":\"color=0<br>country=%{location}<extra></extra>\",\"locationmode\":\"country names\",\"locations\":[\"Albania\",\"Algeria\",\"Antigua and Barbuda\",\"Argentina\",\"Armenia\",\"Azerbaijan\",\"Bahamas\",\"Bahrain\",\"Bangladesh\",\"Barbados\",\"Belarus\",\"Belize\",\"Bhutan\",\"Bolivia\",\"Bosnia and Herzegovina\",\"Botswana\",\"Brazil\",\"Bulgaria\",\"Cambodia\",\"Cape Verde\",\"Chile\",\"China\",\"Colombia\",\"Costa Rica\",\"Croatia\",\"Dominican Republic\",\"Ecuador\",\"Egypt\",\"El Salvador\",\"Estonia\",\"Fiji\",\"Georgia\",\"Grenada\",\"Guatemala\",\"Guyana\",\"Hungary\",\"India\",\"Indonesia\",\"Iran\",\"Jamaica\",\"Jordan\",\"Kazakhstan\",\"Kyrgyz Republic\",\"Latvia\",\"Lebanon\",\"Libya\",\"Lithuania\",\"Macedonia, FYR\",\"Malaysia\",\"Maldives\",\"Mauritius\",\"Micronesia, Fed. Sts.\",\"Moldova\",\"Mongolia\",\"Montenegro\",\"Morocco\",\"Myanmar\",\"Nepal\",\"Oman\",\"Panama\",\"Paraguay\",\"Peru\",\"Philippines\",\"Poland\",\"Romania\",\"Russia\",\"Samoa\",\"Saudi Arabia\",\"Serbia\",\"Seychelles\",\"South Africa\",\"Sri Lanka\",\"St. Vincent and the Grenadines\",\"Suriname\",\"Tajikistan\",\"Thailand\",\"Tonga\",\"Tunisia\",\"Turkey\",\"Turkmenistan\",\"Ukraine\",\"Uruguay\",\"Uzbekistan\",\"Vanuatu\",\"Venezuela\",\"Vietnam\"],\"name\":\"0\",\"showlegend\":true,\"showscale\":false,\"z\":[1,1,1,1,1,1,1,1,1,1,1,1,1,1,1,1,1,1,1,1,1,1,1,1,1,1,1,1,1,1,1,1,1,1,1,1,1,1,1,1,1,1,1,1,1,1,1,1,1,1,1,1,1,1,1,1,1,1,1,1,1,1,1,1,1,1,1,1,1,1,1,1,1,1,1,1,1,1,1,1,1,1,1,1,1,1],\"type\":\"choropleth\"},{\"colorscale\":[[0.0,\"Gray\"],[1.0,\"Gray\"]],\"geo\":\"geo\",\"hovertemplate\":\"color=2<br>country=%{location}<extra></extra>\",\"locationmode\":\"country names\",\"locations\":[\"Australia\",\"Austria\",\"Belgium\",\"Brunei\",\"Canada\",\"Cyprus\",\"Czech Republic\",\"Denmark\",\"Finland\",\"France\",\"Germany\",\"Greece\",\"Iceland\",\"Ireland\",\"Israel\",\"Italy\",\"Japan\",\"Kuwait\",\"Luxembourg\",\"Malta\",\"Netherlands\",\"New Zealand\",\"Norway\",\"Portugal\",\"Qatar\",\"Singapore\",\"Slovak Republic\",\"Slovenia\",\"South Korea\",\"Spain\",\"Sweden\",\"Switzerland\",\"United Arab Emirates\",\"United Kingdom\",\"United States\"],\"name\":\"2\",\"showlegend\":true,\"showscale\":false,\"z\":[1,1,1,1,1,1,1,1,1,1,1,1,1,1,1,1,1,1,1,1,1,1,1,1,1,1,1,1,1,1,1,1,1,1,1],\"type\":\"choropleth\"}],                        {\"template\":{\"data\":{\"bar\":[{\"error_x\":{\"color\":\"#2a3f5f\"},\"error_y\":{\"color\":\"#2a3f5f\"},\"marker\":{\"line\":{\"color\":\"#E5ECF6\",\"width\":0.5},\"pattern\":{\"fillmode\":\"overlay\",\"size\":10,\"solidity\":0.2}},\"type\":\"bar\"}],\"barpolar\":[{\"marker\":{\"line\":{\"color\":\"#E5ECF6\",\"width\":0.5},\"pattern\":{\"fillmode\":\"overlay\",\"size\":10,\"solidity\":0.2}},\"type\":\"barpolar\"}],\"carpet\":[{\"aaxis\":{\"endlinecolor\":\"#2a3f5f\",\"gridcolor\":\"white\",\"linecolor\":\"white\",\"minorgridcolor\":\"white\",\"startlinecolor\":\"#2a3f5f\"},\"baxis\":{\"endlinecolor\":\"#2a3f5f\",\"gridcolor\":\"white\",\"linecolor\":\"white\",\"minorgridcolor\":\"white\",\"startlinecolor\":\"#2a3f5f\"},\"type\":\"carpet\"}],\"choropleth\":[{\"colorbar\":{\"outlinewidth\":0,\"ticks\":\"\"},\"type\":\"choropleth\"}],\"contour\":[{\"colorbar\":{\"outlinewidth\":0,\"ticks\":\"\"},\"colorscale\":[[0.0,\"#0d0887\"],[0.1111111111111111,\"#46039f\"],[0.2222222222222222,\"#7201a8\"],[0.3333333333333333,\"#9c179e\"],[0.4444444444444444,\"#bd3786\"],[0.5555555555555556,\"#d8576b\"],[0.6666666666666666,\"#ed7953\"],[0.7777777777777778,\"#fb9f3a\"],[0.8888888888888888,\"#fdca26\"],[1.0,\"#f0f921\"]],\"type\":\"contour\"}],\"contourcarpet\":[{\"colorbar\":{\"outlinewidth\":0,\"ticks\":\"\"},\"type\":\"contourcarpet\"}],\"heatmap\":[{\"colorbar\":{\"outlinewidth\":0,\"ticks\":\"\"},\"colorscale\":[[0.0,\"#0d0887\"],[0.1111111111111111,\"#46039f\"],[0.2222222222222222,\"#7201a8\"],[0.3333333333333333,\"#9c179e\"],[0.4444444444444444,\"#bd3786\"],[0.5555555555555556,\"#d8576b\"],[0.6666666666666666,\"#ed7953\"],[0.7777777777777778,\"#fb9f3a\"],[0.8888888888888888,\"#fdca26\"],[1.0,\"#f0f921\"]],\"type\":\"heatmap\"}],\"heatmapgl\":[{\"colorbar\":{\"outlinewidth\":0,\"ticks\":\"\"},\"colorscale\":[[0.0,\"#0d0887\"],[0.1111111111111111,\"#46039f\"],[0.2222222222222222,\"#7201a8\"],[0.3333333333333333,\"#9c179e\"],[0.4444444444444444,\"#bd3786\"],[0.5555555555555556,\"#d8576b\"],[0.6666666666666666,\"#ed7953\"],[0.7777777777777778,\"#fb9f3a\"],[0.8888888888888888,\"#fdca26\"],[1.0,\"#f0f921\"]],\"type\":\"heatmapgl\"}],\"histogram\":[{\"marker\":{\"pattern\":{\"fillmode\":\"overlay\",\"size\":10,\"solidity\":0.2}},\"type\":\"histogram\"}],\"histogram2d\":[{\"colorbar\":{\"outlinewidth\":0,\"ticks\":\"\"},\"colorscale\":[[0.0,\"#0d0887\"],[0.1111111111111111,\"#46039f\"],[0.2222222222222222,\"#7201a8\"],[0.3333333333333333,\"#9c179e\"],[0.4444444444444444,\"#bd3786\"],[0.5555555555555556,\"#d8576b\"],[0.6666666666666666,\"#ed7953\"],[0.7777777777777778,\"#fb9f3a\"],[0.8888888888888888,\"#fdca26\"],[1.0,\"#f0f921\"]],\"type\":\"histogram2d\"}],\"histogram2dcontour\":[{\"colorbar\":{\"outlinewidth\":0,\"ticks\":\"\"},\"colorscale\":[[0.0,\"#0d0887\"],[0.1111111111111111,\"#46039f\"],[0.2222222222222222,\"#7201a8\"],[0.3333333333333333,\"#9c179e\"],[0.4444444444444444,\"#bd3786\"],[0.5555555555555556,\"#d8576b\"],[0.6666666666666666,\"#ed7953\"],[0.7777777777777778,\"#fb9f3a\"],[0.8888888888888888,\"#fdca26\"],[1.0,\"#f0f921\"]],\"type\":\"histogram2dcontour\"}],\"mesh3d\":[{\"colorbar\":{\"outlinewidth\":0,\"ticks\":\"\"},\"type\":\"mesh3d\"}],\"parcoords\":[{\"line\":{\"colorbar\":{\"outlinewidth\":0,\"ticks\":\"\"}},\"type\":\"parcoords\"}],\"pie\":[{\"automargin\":true,\"type\":\"pie\"}],\"scatter\":[{\"marker\":{\"colorbar\":{\"outlinewidth\":0,\"ticks\":\"\"}},\"type\":\"scatter\"}],\"scatter3d\":[{\"line\":{\"colorbar\":{\"outlinewidth\":0,\"ticks\":\"\"}},\"marker\":{\"colorbar\":{\"outlinewidth\":0,\"ticks\":\"\"}},\"type\":\"scatter3d\"}],\"scattercarpet\":[{\"marker\":{\"colorbar\":{\"outlinewidth\":0,\"ticks\":\"\"}},\"type\":\"scattercarpet\"}],\"scattergeo\":[{\"marker\":{\"colorbar\":{\"outlinewidth\":0,\"ticks\":\"\"}},\"type\":\"scattergeo\"}],\"scattergl\":[{\"marker\":{\"colorbar\":{\"outlinewidth\":0,\"ticks\":\"\"}},\"type\":\"scattergl\"}],\"scattermapbox\":[{\"marker\":{\"colorbar\":{\"outlinewidth\":0,\"ticks\":\"\"}},\"type\":\"scattermapbox\"}],\"scatterpolar\":[{\"marker\":{\"colorbar\":{\"outlinewidth\":0,\"ticks\":\"\"}},\"type\":\"scatterpolar\"}],\"scatterpolargl\":[{\"marker\":{\"colorbar\":{\"outlinewidth\":0,\"ticks\":\"\"}},\"type\":\"scatterpolargl\"}],\"scatterternary\":[{\"marker\":{\"colorbar\":{\"outlinewidth\":0,\"ticks\":\"\"}},\"type\":\"scatterternary\"}],\"surface\":[{\"colorbar\":{\"outlinewidth\":0,\"ticks\":\"\"},\"colorscale\":[[0.0,\"#0d0887\"],[0.1111111111111111,\"#46039f\"],[0.2222222222222222,\"#7201a8\"],[0.3333333333333333,\"#9c179e\"],[0.4444444444444444,\"#bd3786\"],[0.5555555555555556,\"#d8576b\"],[0.6666666666666666,\"#ed7953\"],[0.7777777777777778,\"#fb9f3a\"],[0.8888888888888888,\"#fdca26\"],[1.0,\"#f0f921\"]],\"type\":\"surface\"}],\"table\":[{\"cells\":{\"fill\":{\"color\":\"#EBF0F8\"},\"line\":{\"color\":\"white\"}},\"header\":{\"fill\":{\"color\":\"#C8D4E3\"},\"line\":{\"color\":\"white\"}},\"type\":\"table\"}]},\"layout\":{\"annotationdefaults\":{\"arrowcolor\":\"#2a3f5f\",\"arrowhead\":0,\"arrowwidth\":1},\"autotypenumbers\":\"strict\",\"coloraxis\":{\"colorbar\":{\"outlinewidth\":0,\"ticks\":\"\"}},\"colorscale\":{\"diverging\":[[0,\"#8e0152\"],[0.1,\"#c51b7d\"],[0.2,\"#de77ae\"],[0.3,\"#f1b6da\"],[0.4,\"#fde0ef\"],[0.5,\"#f7f7f7\"],[0.6,\"#e6f5d0\"],[0.7,\"#b8e186\"],[0.8,\"#7fbc41\"],[0.9,\"#4d9221\"],[1,\"#276419\"]],\"sequential\":[[0.0,\"#0d0887\"],[0.1111111111111111,\"#46039f\"],[0.2222222222222222,\"#7201a8\"],[0.3333333333333333,\"#9c179e\"],[0.4444444444444444,\"#bd3786\"],[0.5555555555555556,\"#d8576b\"],[0.6666666666666666,\"#ed7953\"],[0.7777777777777778,\"#fb9f3a\"],[0.8888888888888888,\"#fdca26\"],[1.0,\"#f0f921\"]],\"sequentialminus\":[[0.0,\"#0d0887\"],[0.1111111111111111,\"#46039f\"],[0.2222222222222222,\"#7201a8\"],[0.3333333333333333,\"#9c179e\"],[0.4444444444444444,\"#bd3786\"],[0.5555555555555556,\"#d8576b\"],[0.6666666666666666,\"#ed7953\"],[0.7777777777777778,\"#fb9f3a\"],[0.8888888888888888,\"#fdca26\"],[1.0,\"#f0f921\"]]},\"colorway\":[\"#636efa\",\"#EF553B\",\"#00cc96\",\"#ab63fa\",\"#FFA15A\",\"#19d3f3\",\"#FF6692\",\"#B6E880\",\"#FF97FF\",\"#FECB52\"],\"font\":{\"color\":\"#2a3f5f\"},\"geo\":{\"bgcolor\":\"white\",\"lakecolor\":\"white\",\"landcolor\":\"#E5ECF6\",\"showlakes\":true,\"showland\":true,\"subunitcolor\":\"white\"},\"hoverlabel\":{\"align\":\"left\"},\"hovermode\":\"closest\",\"mapbox\":{\"style\":\"light\"},\"paper_bgcolor\":\"white\",\"plot_bgcolor\":\"#E5ECF6\",\"polar\":{\"angularaxis\":{\"gridcolor\":\"white\",\"linecolor\":\"white\",\"ticks\":\"\"},\"bgcolor\":\"#E5ECF6\",\"radialaxis\":{\"gridcolor\":\"white\",\"linecolor\":\"white\",\"ticks\":\"\"}},\"scene\":{\"xaxis\":{\"backgroundcolor\":\"#E5ECF6\",\"gridcolor\":\"white\",\"gridwidth\":2,\"linecolor\":\"white\",\"showbackground\":true,\"ticks\":\"\",\"zerolinecolor\":\"white\"},\"yaxis\":{\"backgroundcolor\":\"#E5ECF6\",\"gridcolor\":\"white\",\"gridwidth\":2,\"linecolor\":\"white\",\"showbackground\":true,\"ticks\":\"\",\"zerolinecolor\":\"white\"},\"zaxis\":{\"backgroundcolor\":\"#E5ECF6\",\"gridcolor\":\"white\",\"gridwidth\":2,\"linecolor\":\"white\",\"showbackground\":true,\"ticks\":\"\",\"zerolinecolor\":\"white\"}},\"shapedefaults\":{\"line\":{\"color\":\"#2a3f5f\"}},\"ternary\":{\"aaxis\":{\"gridcolor\":\"white\",\"linecolor\":\"white\",\"ticks\":\"\"},\"baxis\":{\"gridcolor\":\"white\",\"linecolor\":\"white\",\"ticks\":\"\"},\"bgcolor\":\"#E5ECF6\",\"caxis\":{\"gridcolor\":\"white\",\"linecolor\":\"white\",\"ticks\":\"\"}},\"title\":{\"x\":0.05},\"xaxis\":{\"automargin\":true,\"gridcolor\":\"white\",\"linecolor\":\"white\",\"ticks\":\"\",\"title\":{\"standoff\":15},\"zerolinecolor\":\"white\",\"zerolinewidth\":2},\"yaxis\":{\"automargin\":true,\"gridcolor\":\"white\",\"linecolor\":\"white\",\"ticks\":\"\",\"title\":{\"standoff\":15},\"zerolinecolor\":\"white\",\"zerolinewidth\":2}}},\"geo\":{\"domain\":{\"x\":[0.0,1.0],\"y\":[0.0,1.0]},\"center\":{},\"fitbounds\":\"locations\",\"visible\":true},\"legend\":{\"title\":{\"text\":\"Keterangan\",\"side\":\"top\"},\"tracegroupgap\":0},\"title\":{\"text\":\"Pemetaan Negara Yang Memerlukan Bantuan\",\"pad\":{\"l\":130},\"y\":1}},                        {\"responsive\": true}                    ).then(function(){\n",
              "                            \n",
              "var gd = document.getElementById('3b7d66dd-3f04-4bd2-8282-2daac1bdc5af');\n",
              "var x = new MutationObserver(function (mutations, observer) {{\n",
              "        var display = window.getComputedStyle(gd).display;\n",
              "        if (!display || display === 'none') {{\n",
              "            console.log([gd, 'removed!']);\n",
              "            Plotly.purge(gd);\n",
              "            observer.disconnect();\n",
              "        }}\n",
              "}});\n",
              "\n",
              "// Listen for the removal of the full notebook cells\n",
              "var notebookContainer = gd.closest('#notebook-container');\n",
              "if (notebookContainer) {{\n",
              "    x.observe(notebookContainer, {childList: true});\n",
              "}}\n",
              "\n",
              "// Listen for the clearing of the current output cell\n",
              "var outputEl = gd.closest('.output');\n",
              "if (outputEl) {{\n",
              "    x.observe(outputEl, {childList: true});\n",
              "}}\n",
              "\n",
              "                        })                };                            </script>        </div>\n",
              "</body>\n",
              "</html>"
            ]
          },
          "metadata": {}
        }
      ]
    }
  ]
}